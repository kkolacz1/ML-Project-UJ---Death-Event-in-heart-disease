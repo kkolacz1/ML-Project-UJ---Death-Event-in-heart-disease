{
  "nbformat": 4,
  "nbformat_minor": 0,
  "metadata": {
    "colab": {
      "provenance": []
    },
    "kernelspec": {
      "name": "python3",
      "display_name": "Python 3"
    },
    "language_info": {
      "name": "python"
    }
  },
  "cells": [
    {
      "cell_type": "markdown",
      "source": [
        "**Cel projektu:**\n",
        "(analiza datasetu) Celem projektu jest: Podwierdzenie dwóch cech będących w największej korelacji ze zdarzeniem śmierci u pacjentów (od strony analizy danych)\n",
        "(Machine Learning part) Celem projektu zastosowanie znalezienie z pośród zaproponowanych przez autorów klasyfikatorów, najlepszej metody do oceny przeżycia.\n",
        "\n",
        "\n",
        "**Zbiór danych:** \n",
        "\n",
        "Projekt został zrealizowany w oparciu o artykuł: Chicco, D., Jurman, G. Machine learning can predict survival of patients with heart failure from serum creatinine and ejection fraction alone. BMC Med Inform Decis Mak 20, 16 (2020). https://doi.org/10.1186/s12911-020-1023-5 znaleziony na stronie: Machine learning can predict survival of patients with heart failure from serum creatinine and ejection fraction alone | BMC Medical Informatics and Decision Making | Full Text (biomedcentral.com) (open access)\n",
        "\n",
        "**Źródło i opis danych:**\n",
        "Dane do projektu zostały pobrane ze strony UCI – Machine Learning repository. W źródłach literaturowych artykułu znajduje się bezpośredni link do źródła :  UCI Machine Learning Repository: Heart failure clinical records Data Set (open access)"
      ],
      "metadata": {
        "id": "ddJu_7RnAtwj"
      }
    },
    {
      "cell_type": "markdown",
      "source": [
        "**Zaimportowanie bibliotek**"
      ],
      "metadata": {
        "id": "gMrqVoSAwxWT"
      }
    },
    {
      "cell_type": "code",
      "source": [
        "## Wizualizacja i przegląd datasetu\n",
        "import numpy as np\n",
        "import pandas as pd\n",
        "import matplotlib as mt \n",
        "import matplotlib.pyplot as plt\n",
        "from matplotlib import rcParams\n",
        "import seaborn as sns #do macierzy korelacji\n",
        "from sklearn.preprocessing import LabelEncoder, OneHotEncoder #do przekształcenia zmiennych kategorycznych w binarne\n",
        "\n",
        "## Import bibliotek do części Machine Learning\n",
        "from sklearn.model_selection import train_test_split\n",
        "from sklearn.preprocessing import StandardScaler\n",
        "from sklearn.feature_selection import mutual_info_classif\n",
        "from imblearn.over_sampling import SMOTE\n",
        "from sklearn import preprocessing\n",
        "from sklearn.preprocessing import StandardScaler\n",
        "from sklearn.metrics import accuracy_score, confusion_matrix, classification_report\n",
        "from sklearn.linear_model import LogisticRegression\n",
        "from sklearn.neighbors import KNeighborsClassifier\n",
        "from sklearn.svm import SVC\n",
        "from sklearn.tree import DecisionTreeClassifier\n",
        "from sklearn.ensemble import RandomForestClassifier\n",
        "from sklearn.ensemble import GradientBoostingClassifier\n",
        "\n",
        "\n",
        "# + biblioteki do Neuronal Network\n",
        "from keras.models import Sequential\n",
        "from keras.layers import Dense, BatchNormalization, Dropout, LSTM\n",
        "from keras.optimizers import Adam\n",
        "from keras import regularizers, callbacks\n",
        "from sklearn.metrics import precision_score, recall_score, confusion_matrix, classification_report, accuracy_score, f1_score\n",
        "\n"
      ],
      "metadata": {
        "id": "0xbod__uw1FA"
      },
      "execution_count": null,
      "outputs": []
    },
    {
      "cell_type": "markdown",
      "source": [],
      "metadata": {
        "id": "0Kw6vHuUqmBM"
      }
    },
    {
      "cell_type": "markdown",
      "source": [
        "**Zaimportowanie datasetu:**"
      ],
      "metadata": {
        "id": "1TOpuxEQvFT3"
      }
    },
    {
      "cell_type": "code",
      "source": [
        "from google.colab import files\n",
        "import io\n",
        "\n",
        "dataset = files.upload()"
      ],
      "metadata": {
        "colab": {
          "base_uri": "https://localhost:8080/",
          "height": 71
        },
        "id": "a9-kU3KUvNV4",
        "outputId": "16ecea66-0701-4bcf-8609-6f65282f50a0"
      },
      "execution_count": null,
      "outputs": [
        {
          "output_type": "display_data",
          "data": {
            "text/plain": [
              "<IPython.core.display.HTML object>"
            ],
            "text/html": [
              "\n",
              "     <input type=\"file\" id=\"files-f53e5c75-96c5-4d49-878f-5d8665ecbabd\" name=\"files[]\" multiple disabled\n",
              "        style=\"border:none\" />\n",
              "     <output id=\"result-f53e5c75-96c5-4d49-878f-5d8665ecbabd\">\n",
              "      Upload widget is only available when the cell has been executed in the\n",
              "      current browser session. Please rerun this cell to enable.\n",
              "      </output>\n",
              "      <script>// Copyright 2017 Google LLC\n",
              "//\n",
              "// Licensed under the Apache License, Version 2.0 (the \"License\");\n",
              "// you may not use this file except in compliance with the License.\n",
              "// You may obtain a copy of the License at\n",
              "//\n",
              "//      http://www.apache.org/licenses/LICENSE-2.0\n",
              "//\n",
              "// Unless required by applicable law or agreed to in writing, software\n",
              "// distributed under the License is distributed on an \"AS IS\" BASIS,\n",
              "// WITHOUT WARRANTIES OR CONDITIONS OF ANY KIND, either express or implied.\n",
              "// See the License for the specific language governing permissions and\n",
              "// limitations under the License.\n",
              "\n",
              "/**\n",
              " * @fileoverview Helpers for google.colab Python module.\n",
              " */\n",
              "(function(scope) {\n",
              "function span(text, styleAttributes = {}) {\n",
              "  const element = document.createElement('span');\n",
              "  element.textContent = text;\n",
              "  for (const key of Object.keys(styleAttributes)) {\n",
              "    element.style[key] = styleAttributes[key];\n",
              "  }\n",
              "  return element;\n",
              "}\n",
              "\n",
              "// Max number of bytes which will be uploaded at a time.\n",
              "const MAX_PAYLOAD_SIZE = 100 * 1024;\n",
              "\n",
              "function _uploadFiles(inputId, outputId) {\n",
              "  const steps = uploadFilesStep(inputId, outputId);\n",
              "  const outputElement = document.getElementById(outputId);\n",
              "  // Cache steps on the outputElement to make it available for the next call\n",
              "  // to uploadFilesContinue from Python.\n",
              "  outputElement.steps = steps;\n",
              "\n",
              "  return _uploadFilesContinue(outputId);\n",
              "}\n",
              "\n",
              "// This is roughly an async generator (not supported in the browser yet),\n",
              "// where there are multiple asynchronous steps and the Python side is going\n",
              "// to poll for completion of each step.\n",
              "// This uses a Promise to block the python side on completion of each step,\n",
              "// then passes the result of the previous step as the input to the next step.\n",
              "function _uploadFilesContinue(outputId) {\n",
              "  const outputElement = document.getElementById(outputId);\n",
              "  const steps = outputElement.steps;\n",
              "\n",
              "  const next = steps.next(outputElement.lastPromiseValue);\n",
              "  return Promise.resolve(next.value.promise).then((value) => {\n",
              "    // Cache the last promise value to make it available to the next\n",
              "    // step of the generator.\n",
              "    outputElement.lastPromiseValue = value;\n",
              "    return next.value.response;\n",
              "  });\n",
              "}\n",
              "\n",
              "/**\n",
              " * Generator function which is called between each async step of the upload\n",
              " * process.\n",
              " * @param {string} inputId Element ID of the input file picker element.\n",
              " * @param {string} outputId Element ID of the output display.\n",
              " * @return {!Iterable<!Object>} Iterable of next steps.\n",
              " */\n",
              "function* uploadFilesStep(inputId, outputId) {\n",
              "  const inputElement = document.getElementById(inputId);\n",
              "  inputElement.disabled = false;\n",
              "\n",
              "  const outputElement = document.getElementById(outputId);\n",
              "  outputElement.innerHTML = '';\n",
              "\n",
              "  const pickedPromise = new Promise((resolve) => {\n",
              "    inputElement.addEventListener('change', (e) => {\n",
              "      resolve(e.target.files);\n",
              "    });\n",
              "  });\n",
              "\n",
              "  const cancel = document.createElement('button');\n",
              "  inputElement.parentElement.appendChild(cancel);\n",
              "  cancel.textContent = 'Cancel upload';\n",
              "  const cancelPromise = new Promise((resolve) => {\n",
              "    cancel.onclick = () => {\n",
              "      resolve(null);\n",
              "    };\n",
              "  });\n",
              "\n",
              "  // Wait for the user to pick the files.\n",
              "  const files = yield {\n",
              "    promise: Promise.race([pickedPromise, cancelPromise]),\n",
              "    response: {\n",
              "      action: 'starting',\n",
              "    }\n",
              "  };\n",
              "\n",
              "  cancel.remove();\n",
              "\n",
              "  // Disable the input element since further picks are not allowed.\n",
              "  inputElement.disabled = true;\n",
              "\n",
              "  if (!files) {\n",
              "    return {\n",
              "      response: {\n",
              "        action: 'complete',\n",
              "      }\n",
              "    };\n",
              "  }\n",
              "\n",
              "  for (const file of files) {\n",
              "    const li = document.createElement('li');\n",
              "    li.append(span(file.name, {fontWeight: 'bold'}));\n",
              "    li.append(span(\n",
              "        `(${file.type || 'n/a'}) - ${file.size} bytes, ` +\n",
              "        `last modified: ${\n",
              "            file.lastModifiedDate ? file.lastModifiedDate.toLocaleDateString() :\n",
              "                                    'n/a'} - `));\n",
              "    const percent = span('0% done');\n",
              "    li.appendChild(percent);\n",
              "\n",
              "    outputElement.appendChild(li);\n",
              "\n",
              "    const fileDataPromise = new Promise((resolve) => {\n",
              "      const reader = new FileReader();\n",
              "      reader.onload = (e) => {\n",
              "        resolve(e.target.result);\n",
              "      };\n",
              "      reader.readAsArrayBuffer(file);\n",
              "    });\n",
              "    // Wait for the data to be ready.\n",
              "    let fileData = yield {\n",
              "      promise: fileDataPromise,\n",
              "      response: {\n",
              "        action: 'continue',\n",
              "      }\n",
              "    };\n",
              "\n",
              "    // Use a chunked sending to avoid message size limits. See b/62115660.\n",
              "    let position = 0;\n",
              "    do {\n",
              "      const length = Math.min(fileData.byteLength - position, MAX_PAYLOAD_SIZE);\n",
              "      const chunk = new Uint8Array(fileData, position, length);\n",
              "      position += length;\n",
              "\n",
              "      const base64 = btoa(String.fromCharCode.apply(null, chunk));\n",
              "      yield {\n",
              "        response: {\n",
              "          action: 'append',\n",
              "          file: file.name,\n",
              "          data: base64,\n",
              "        },\n",
              "      };\n",
              "\n",
              "      let percentDone = fileData.byteLength === 0 ?\n",
              "          100 :\n",
              "          Math.round((position / fileData.byteLength) * 100);\n",
              "      percent.textContent = `${percentDone}% done`;\n",
              "\n",
              "    } while (position < fileData.byteLength);\n",
              "  }\n",
              "\n",
              "  // All done.\n",
              "  yield {\n",
              "    response: {\n",
              "      action: 'complete',\n",
              "    }\n",
              "  };\n",
              "}\n",
              "\n",
              "scope.google = scope.google || {};\n",
              "scope.google.colab = scope.google.colab || {};\n",
              "scope.google.colab._files = {\n",
              "  _uploadFiles,\n",
              "  _uploadFilesContinue,\n",
              "};\n",
              "})(self);\n",
              "</script> "
            ]
          },
          "metadata": {}
        },
        {
          "output_type": "stream",
          "name": "stdout",
          "text": [
            "Saving heart_failure_clinical_records_dataset.csv to heart_failure_clinical_records_dataset.csv\n"
          ]
        }
      ]
    },
    {
      "cell_type": "code",
      "source": [
        "ds = pd.read_csv(io.StringIO(dataset['heart_failure_clinical_records_dataset.csv'].decode('utf-8')))"
      ],
      "metadata": {
        "id": "qtqnsBx5vuzx"
      },
      "execution_count": null,
      "outputs": []
    },
    {
      "cell_type": "markdown",
      "source": [
        "**Wizualizacja datasetu wraz z przeglądem danych**"
      ],
      "metadata": {
        "id": "PX4fPeTzw-9_"
      }
    },
    {
      "cell_type": "code",
      "source": [
        "ds.head(10)"
      ],
      "metadata": {
        "colab": {
          "base_uri": "https://localhost:8080/",
          "height": 363
        },
        "id": "l44QG7evxD0g",
        "outputId": "761feb2b-0959-4cf8-d2d5-bb25c33acc61"
      },
      "execution_count": null,
      "outputs": [
        {
          "output_type": "execute_result",
          "data": {
            "text/plain": [
              "    age  anaemia  creatinine_phosphokinase  diabetes  ejection_fraction  \\\n",
              "0  75.0        0                       582         0                 20   \n",
              "1  55.0        0                      7861         0                 38   \n",
              "2  65.0        0                       146         0                 20   \n",
              "3  50.0        1                       111         0                 20   \n",
              "4  65.0        1                       160         1                 20   \n",
              "5  90.0        1                        47         0                 40   \n",
              "6  75.0        1                       246         0                 15   \n",
              "7  60.0        1                       315         1                 60   \n",
              "8  65.0        0                       157         0                 65   \n",
              "9  80.0        1                       123         0                 35   \n",
              "\n",
              "   high_blood_pressure  platelets  serum_creatinine  serum_sodium  sex  \\\n",
              "0                    1  265000.00               1.9           130    1   \n",
              "1                    0  263358.03               1.1           136    1   \n",
              "2                    0  162000.00               1.3           129    1   \n",
              "3                    0  210000.00               1.9           137    1   \n",
              "4                    0  327000.00               2.7           116    0   \n",
              "5                    1  204000.00               2.1           132    1   \n",
              "6                    0  127000.00               1.2           137    1   \n",
              "7                    0  454000.00               1.1           131    1   \n",
              "8                    0  263358.03               1.5           138    0   \n",
              "9                    1  388000.00               9.4           133    1   \n",
              "\n",
              "   smoking  time  DEATH_EVENT  \n",
              "0        0     4            1  \n",
              "1        0     6            1  \n",
              "2        1     7            1  \n",
              "3        0     7            1  \n",
              "4        0     8            1  \n",
              "5        1     8            1  \n",
              "6        0    10            1  \n",
              "7        1    10            1  \n",
              "8        0    10            1  \n",
              "9        1    10            1  "
            ],
            "text/html": [
              "\n",
              "  <div id=\"df-236bffbd-451c-4851-b89c-801ce9cfd52f\">\n",
              "    <div class=\"colab-df-container\">\n",
              "      <div>\n",
              "<style scoped>\n",
              "    .dataframe tbody tr th:only-of-type {\n",
              "        vertical-align: middle;\n",
              "    }\n",
              "\n",
              "    .dataframe tbody tr th {\n",
              "        vertical-align: top;\n",
              "    }\n",
              "\n",
              "    .dataframe thead th {\n",
              "        text-align: right;\n",
              "    }\n",
              "</style>\n",
              "<table border=\"1\" class=\"dataframe\">\n",
              "  <thead>\n",
              "    <tr style=\"text-align: right;\">\n",
              "      <th></th>\n",
              "      <th>age</th>\n",
              "      <th>anaemia</th>\n",
              "      <th>creatinine_phosphokinase</th>\n",
              "      <th>diabetes</th>\n",
              "      <th>ejection_fraction</th>\n",
              "      <th>high_blood_pressure</th>\n",
              "      <th>platelets</th>\n",
              "      <th>serum_creatinine</th>\n",
              "      <th>serum_sodium</th>\n",
              "      <th>sex</th>\n",
              "      <th>smoking</th>\n",
              "      <th>time</th>\n",
              "      <th>DEATH_EVENT</th>\n",
              "    </tr>\n",
              "  </thead>\n",
              "  <tbody>\n",
              "    <tr>\n",
              "      <th>0</th>\n",
              "      <td>75.0</td>\n",
              "      <td>0</td>\n",
              "      <td>582</td>\n",
              "      <td>0</td>\n",
              "      <td>20</td>\n",
              "      <td>1</td>\n",
              "      <td>265000.00</td>\n",
              "      <td>1.9</td>\n",
              "      <td>130</td>\n",
              "      <td>1</td>\n",
              "      <td>0</td>\n",
              "      <td>4</td>\n",
              "      <td>1</td>\n",
              "    </tr>\n",
              "    <tr>\n",
              "      <th>1</th>\n",
              "      <td>55.0</td>\n",
              "      <td>0</td>\n",
              "      <td>7861</td>\n",
              "      <td>0</td>\n",
              "      <td>38</td>\n",
              "      <td>0</td>\n",
              "      <td>263358.03</td>\n",
              "      <td>1.1</td>\n",
              "      <td>136</td>\n",
              "      <td>1</td>\n",
              "      <td>0</td>\n",
              "      <td>6</td>\n",
              "      <td>1</td>\n",
              "    </tr>\n",
              "    <tr>\n",
              "      <th>2</th>\n",
              "      <td>65.0</td>\n",
              "      <td>0</td>\n",
              "      <td>146</td>\n",
              "      <td>0</td>\n",
              "      <td>20</td>\n",
              "      <td>0</td>\n",
              "      <td>162000.00</td>\n",
              "      <td>1.3</td>\n",
              "      <td>129</td>\n",
              "      <td>1</td>\n",
              "      <td>1</td>\n",
              "      <td>7</td>\n",
              "      <td>1</td>\n",
              "    </tr>\n",
              "    <tr>\n",
              "      <th>3</th>\n",
              "      <td>50.0</td>\n",
              "      <td>1</td>\n",
              "      <td>111</td>\n",
              "      <td>0</td>\n",
              "      <td>20</td>\n",
              "      <td>0</td>\n",
              "      <td>210000.00</td>\n",
              "      <td>1.9</td>\n",
              "      <td>137</td>\n",
              "      <td>1</td>\n",
              "      <td>0</td>\n",
              "      <td>7</td>\n",
              "      <td>1</td>\n",
              "    </tr>\n",
              "    <tr>\n",
              "      <th>4</th>\n",
              "      <td>65.0</td>\n",
              "      <td>1</td>\n",
              "      <td>160</td>\n",
              "      <td>1</td>\n",
              "      <td>20</td>\n",
              "      <td>0</td>\n",
              "      <td>327000.00</td>\n",
              "      <td>2.7</td>\n",
              "      <td>116</td>\n",
              "      <td>0</td>\n",
              "      <td>0</td>\n",
              "      <td>8</td>\n",
              "      <td>1</td>\n",
              "    </tr>\n",
              "    <tr>\n",
              "      <th>5</th>\n",
              "      <td>90.0</td>\n",
              "      <td>1</td>\n",
              "      <td>47</td>\n",
              "      <td>0</td>\n",
              "      <td>40</td>\n",
              "      <td>1</td>\n",
              "      <td>204000.00</td>\n",
              "      <td>2.1</td>\n",
              "      <td>132</td>\n",
              "      <td>1</td>\n",
              "      <td>1</td>\n",
              "      <td>8</td>\n",
              "      <td>1</td>\n",
              "    </tr>\n",
              "    <tr>\n",
              "      <th>6</th>\n",
              "      <td>75.0</td>\n",
              "      <td>1</td>\n",
              "      <td>246</td>\n",
              "      <td>0</td>\n",
              "      <td>15</td>\n",
              "      <td>0</td>\n",
              "      <td>127000.00</td>\n",
              "      <td>1.2</td>\n",
              "      <td>137</td>\n",
              "      <td>1</td>\n",
              "      <td>0</td>\n",
              "      <td>10</td>\n",
              "      <td>1</td>\n",
              "    </tr>\n",
              "    <tr>\n",
              "      <th>7</th>\n",
              "      <td>60.0</td>\n",
              "      <td>1</td>\n",
              "      <td>315</td>\n",
              "      <td>1</td>\n",
              "      <td>60</td>\n",
              "      <td>0</td>\n",
              "      <td>454000.00</td>\n",
              "      <td>1.1</td>\n",
              "      <td>131</td>\n",
              "      <td>1</td>\n",
              "      <td>1</td>\n",
              "      <td>10</td>\n",
              "      <td>1</td>\n",
              "    </tr>\n",
              "    <tr>\n",
              "      <th>8</th>\n",
              "      <td>65.0</td>\n",
              "      <td>0</td>\n",
              "      <td>157</td>\n",
              "      <td>0</td>\n",
              "      <td>65</td>\n",
              "      <td>0</td>\n",
              "      <td>263358.03</td>\n",
              "      <td>1.5</td>\n",
              "      <td>138</td>\n",
              "      <td>0</td>\n",
              "      <td>0</td>\n",
              "      <td>10</td>\n",
              "      <td>1</td>\n",
              "    </tr>\n",
              "    <tr>\n",
              "      <th>9</th>\n",
              "      <td>80.0</td>\n",
              "      <td>1</td>\n",
              "      <td>123</td>\n",
              "      <td>0</td>\n",
              "      <td>35</td>\n",
              "      <td>1</td>\n",
              "      <td>388000.00</td>\n",
              "      <td>9.4</td>\n",
              "      <td>133</td>\n",
              "      <td>1</td>\n",
              "      <td>1</td>\n",
              "      <td>10</td>\n",
              "      <td>1</td>\n",
              "    </tr>\n",
              "  </tbody>\n",
              "</table>\n",
              "</div>\n",
              "      <button class=\"colab-df-convert\" onclick=\"convertToInteractive('df-236bffbd-451c-4851-b89c-801ce9cfd52f')\"\n",
              "              title=\"Convert this dataframe to an interactive table.\"\n",
              "              style=\"display:none;\">\n",
              "        \n",
              "  <svg xmlns=\"http://www.w3.org/2000/svg\" height=\"24px\"viewBox=\"0 0 24 24\"\n",
              "       width=\"24px\">\n",
              "    <path d=\"M0 0h24v24H0V0z\" fill=\"none\"/>\n",
              "    <path d=\"M18.56 5.44l.94 2.06.94-2.06 2.06-.94-2.06-.94-.94-2.06-.94 2.06-2.06.94zm-11 1L8.5 8.5l.94-2.06 2.06-.94-2.06-.94L8.5 2.5l-.94 2.06-2.06.94zm10 10l.94 2.06.94-2.06 2.06-.94-2.06-.94-.94-2.06-.94 2.06-2.06.94z\"/><path d=\"M17.41 7.96l-1.37-1.37c-.4-.4-.92-.59-1.43-.59-.52 0-1.04.2-1.43.59L10.3 9.45l-7.72 7.72c-.78.78-.78 2.05 0 2.83L4 21.41c.39.39.9.59 1.41.59.51 0 1.02-.2 1.41-.59l7.78-7.78 2.81-2.81c.8-.78.8-2.07 0-2.86zM5.41 20L4 18.59l7.72-7.72 1.47 1.35L5.41 20z\"/>\n",
              "  </svg>\n",
              "      </button>\n",
              "      \n",
              "  <style>\n",
              "    .colab-df-container {\n",
              "      display:flex;\n",
              "      flex-wrap:wrap;\n",
              "      gap: 12px;\n",
              "    }\n",
              "\n",
              "    .colab-df-convert {\n",
              "      background-color: #E8F0FE;\n",
              "      border: none;\n",
              "      border-radius: 50%;\n",
              "      cursor: pointer;\n",
              "      display: none;\n",
              "      fill: #1967D2;\n",
              "      height: 32px;\n",
              "      padding: 0 0 0 0;\n",
              "      width: 32px;\n",
              "    }\n",
              "\n",
              "    .colab-df-convert:hover {\n",
              "      background-color: #E2EBFA;\n",
              "      box-shadow: 0px 1px 2px rgba(60, 64, 67, 0.3), 0px 1px 3px 1px rgba(60, 64, 67, 0.15);\n",
              "      fill: #174EA6;\n",
              "    }\n",
              "\n",
              "    [theme=dark] .colab-df-convert {\n",
              "      background-color: #3B4455;\n",
              "      fill: #D2E3FC;\n",
              "    }\n",
              "\n",
              "    [theme=dark] .colab-df-convert:hover {\n",
              "      background-color: #434B5C;\n",
              "      box-shadow: 0px 1px 3px 1px rgba(0, 0, 0, 0.15);\n",
              "      filter: drop-shadow(0px 1px 2px rgba(0, 0, 0, 0.3));\n",
              "      fill: #FFFFFF;\n",
              "    }\n",
              "  </style>\n",
              "\n",
              "      <script>\n",
              "        const buttonEl =\n",
              "          document.querySelector('#df-236bffbd-451c-4851-b89c-801ce9cfd52f button.colab-df-convert');\n",
              "        buttonEl.style.display =\n",
              "          google.colab.kernel.accessAllowed ? 'block' : 'none';\n",
              "\n",
              "        async function convertToInteractive(key) {\n",
              "          const element = document.querySelector('#df-236bffbd-451c-4851-b89c-801ce9cfd52f');\n",
              "          const dataTable =\n",
              "            await google.colab.kernel.invokeFunction('convertToInteractive',\n",
              "                                                     [key], {});\n",
              "          if (!dataTable) return;\n",
              "\n",
              "          const docLinkHtml = 'Like what you see? Visit the ' +\n",
              "            '<a target=\"_blank\" href=https://colab.research.google.com/notebooks/data_table.ipynb>data table notebook</a>'\n",
              "            + ' to learn more about interactive tables.';\n",
              "          element.innerHTML = '';\n",
              "          dataTable['output_type'] = 'display_data';\n",
              "          await google.colab.output.renderOutput(dataTable, element);\n",
              "          const docLink = document.createElement('div');\n",
              "          docLink.innerHTML = docLinkHtml;\n",
              "          element.appendChild(docLink);\n",
              "        }\n",
              "      </script>\n",
              "    </div>\n",
              "  </div>\n",
              "  "
            ]
          },
          "metadata": {},
          "execution_count": 10
        }
      ]
    },
    {
      "cell_type": "code",
      "source": [
        "# Statystyczna analiza jednowymiarowa w celu lepszego zrozumienia rozkładu danych\n",
        "ds.describe().T"
      ],
      "metadata": {
        "colab": {
          "base_uri": "https://localhost:8080/",
          "height": 457
        },
        "id": "2AZOL1LHTgdK",
        "outputId": "27050f99-b9f9-4e1b-d986-91528217ceb1"
      },
      "execution_count": null,
      "outputs": [
        {
          "output_type": "execute_result",
          "data": {
            "text/plain": [
              "                          count           mean           std      min  \\\n",
              "age                       299.0      60.833893     11.894809     40.0   \n",
              "anaemia                   299.0       0.431438      0.496107      0.0   \n",
              "creatinine_phosphokinase  299.0     581.839465    970.287881     23.0   \n",
              "diabetes                  299.0       0.418060      0.494067      0.0   \n",
              "ejection_fraction         299.0      38.083612     11.834841     14.0   \n",
              "high_blood_pressure       299.0       0.351171      0.478136      0.0   \n",
              "platelets                 299.0  263358.029264  97804.236869  25100.0   \n",
              "serum_creatinine          299.0       1.393880      1.034510      0.5   \n",
              "serum_sodium              299.0     136.625418      4.412477    113.0   \n",
              "sex                       299.0       0.648829      0.478136      0.0   \n",
              "smoking                   299.0       0.321070      0.467670      0.0   \n",
              "time                      299.0     130.260870     77.614208      4.0   \n",
              "DEATH_EVENT               299.0       0.321070      0.467670      0.0   \n",
              "\n",
              "                               25%       50%       75%       max  \n",
              "age                           51.0      60.0      70.0      95.0  \n",
              "anaemia                        0.0       0.0       1.0       1.0  \n",
              "creatinine_phosphokinase     116.5     250.0     582.0    7861.0  \n",
              "diabetes                       0.0       0.0       1.0       1.0  \n",
              "ejection_fraction             30.0      38.0      45.0      80.0  \n",
              "high_blood_pressure            0.0       0.0       1.0       1.0  \n",
              "platelets                 212500.0  262000.0  303500.0  850000.0  \n",
              "serum_creatinine               0.9       1.1       1.4       9.4  \n",
              "serum_sodium                 134.0     137.0     140.0     148.0  \n",
              "sex                            0.0       1.0       1.0       1.0  \n",
              "smoking                        0.0       0.0       1.0       1.0  \n",
              "time                          73.0     115.0     203.0     285.0  \n",
              "DEATH_EVENT                    0.0       0.0       1.0       1.0  "
            ],
            "text/html": [
              "\n",
              "  <div id=\"df-9b4a9728-8c51-477a-9b88-fed4aca3dff5\">\n",
              "    <div class=\"colab-df-container\">\n",
              "      <div>\n",
              "<style scoped>\n",
              "    .dataframe tbody tr th:only-of-type {\n",
              "        vertical-align: middle;\n",
              "    }\n",
              "\n",
              "    .dataframe tbody tr th {\n",
              "        vertical-align: top;\n",
              "    }\n",
              "\n",
              "    .dataframe thead th {\n",
              "        text-align: right;\n",
              "    }\n",
              "</style>\n",
              "<table border=\"1\" class=\"dataframe\">\n",
              "  <thead>\n",
              "    <tr style=\"text-align: right;\">\n",
              "      <th></th>\n",
              "      <th>count</th>\n",
              "      <th>mean</th>\n",
              "      <th>std</th>\n",
              "      <th>min</th>\n",
              "      <th>25%</th>\n",
              "      <th>50%</th>\n",
              "      <th>75%</th>\n",
              "      <th>max</th>\n",
              "    </tr>\n",
              "  </thead>\n",
              "  <tbody>\n",
              "    <tr>\n",
              "      <th>age</th>\n",
              "      <td>299.0</td>\n",
              "      <td>60.833893</td>\n",
              "      <td>11.894809</td>\n",
              "      <td>40.0</td>\n",
              "      <td>51.0</td>\n",
              "      <td>60.0</td>\n",
              "      <td>70.0</td>\n",
              "      <td>95.0</td>\n",
              "    </tr>\n",
              "    <tr>\n",
              "      <th>anaemia</th>\n",
              "      <td>299.0</td>\n",
              "      <td>0.431438</td>\n",
              "      <td>0.496107</td>\n",
              "      <td>0.0</td>\n",
              "      <td>0.0</td>\n",
              "      <td>0.0</td>\n",
              "      <td>1.0</td>\n",
              "      <td>1.0</td>\n",
              "    </tr>\n",
              "    <tr>\n",
              "      <th>creatinine_phosphokinase</th>\n",
              "      <td>299.0</td>\n",
              "      <td>581.839465</td>\n",
              "      <td>970.287881</td>\n",
              "      <td>23.0</td>\n",
              "      <td>116.5</td>\n",
              "      <td>250.0</td>\n",
              "      <td>582.0</td>\n",
              "      <td>7861.0</td>\n",
              "    </tr>\n",
              "    <tr>\n",
              "      <th>diabetes</th>\n",
              "      <td>299.0</td>\n",
              "      <td>0.418060</td>\n",
              "      <td>0.494067</td>\n",
              "      <td>0.0</td>\n",
              "      <td>0.0</td>\n",
              "      <td>0.0</td>\n",
              "      <td>1.0</td>\n",
              "      <td>1.0</td>\n",
              "    </tr>\n",
              "    <tr>\n",
              "      <th>ejection_fraction</th>\n",
              "      <td>299.0</td>\n",
              "      <td>38.083612</td>\n",
              "      <td>11.834841</td>\n",
              "      <td>14.0</td>\n",
              "      <td>30.0</td>\n",
              "      <td>38.0</td>\n",
              "      <td>45.0</td>\n",
              "      <td>80.0</td>\n",
              "    </tr>\n",
              "    <tr>\n",
              "      <th>high_blood_pressure</th>\n",
              "      <td>299.0</td>\n",
              "      <td>0.351171</td>\n",
              "      <td>0.478136</td>\n",
              "      <td>0.0</td>\n",
              "      <td>0.0</td>\n",
              "      <td>0.0</td>\n",
              "      <td>1.0</td>\n",
              "      <td>1.0</td>\n",
              "    </tr>\n",
              "    <tr>\n",
              "      <th>platelets</th>\n",
              "      <td>299.0</td>\n",
              "      <td>263358.029264</td>\n",
              "      <td>97804.236869</td>\n",
              "      <td>25100.0</td>\n",
              "      <td>212500.0</td>\n",
              "      <td>262000.0</td>\n",
              "      <td>303500.0</td>\n",
              "      <td>850000.0</td>\n",
              "    </tr>\n",
              "    <tr>\n",
              "      <th>serum_creatinine</th>\n",
              "      <td>299.0</td>\n",
              "      <td>1.393880</td>\n",
              "      <td>1.034510</td>\n",
              "      <td>0.5</td>\n",
              "      <td>0.9</td>\n",
              "      <td>1.1</td>\n",
              "      <td>1.4</td>\n",
              "      <td>9.4</td>\n",
              "    </tr>\n",
              "    <tr>\n",
              "      <th>serum_sodium</th>\n",
              "      <td>299.0</td>\n",
              "      <td>136.625418</td>\n",
              "      <td>4.412477</td>\n",
              "      <td>113.0</td>\n",
              "      <td>134.0</td>\n",
              "      <td>137.0</td>\n",
              "      <td>140.0</td>\n",
              "      <td>148.0</td>\n",
              "    </tr>\n",
              "    <tr>\n",
              "      <th>sex</th>\n",
              "      <td>299.0</td>\n",
              "      <td>0.648829</td>\n",
              "      <td>0.478136</td>\n",
              "      <td>0.0</td>\n",
              "      <td>0.0</td>\n",
              "      <td>1.0</td>\n",
              "      <td>1.0</td>\n",
              "      <td>1.0</td>\n",
              "    </tr>\n",
              "    <tr>\n",
              "      <th>smoking</th>\n",
              "      <td>299.0</td>\n",
              "      <td>0.321070</td>\n",
              "      <td>0.467670</td>\n",
              "      <td>0.0</td>\n",
              "      <td>0.0</td>\n",
              "      <td>0.0</td>\n",
              "      <td>1.0</td>\n",
              "      <td>1.0</td>\n",
              "    </tr>\n",
              "    <tr>\n",
              "      <th>time</th>\n",
              "      <td>299.0</td>\n",
              "      <td>130.260870</td>\n",
              "      <td>77.614208</td>\n",
              "      <td>4.0</td>\n",
              "      <td>73.0</td>\n",
              "      <td>115.0</td>\n",
              "      <td>203.0</td>\n",
              "      <td>285.0</td>\n",
              "    </tr>\n",
              "    <tr>\n",
              "      <th>DEATH_EVENT</th>\n",
              "      <td>299.0</td>\n",
              "      <td>0.321070</td>\n",
              "      <td>0.467670</td>\n",
              "      <td>0.0</td>\n",
              "      <td>0.0</td>\n",
              "      <td>0.0</td>\n",
              "      <td>1.0</td>\n",
              "      <td>1.0</td>\n",
              "    </tr>\n",
              "  </tbody>\n",
              "</table>\n",
              "</div>\n",
              "      <button class=\"colab-df-convert\" onclick=\"convertToInteractive('df-9b4a9728-8c51-477a-9b88-fed4aca3dff5')\"\n",
              "              title=\"Convert this dataframe to an interactive table.\"\n",
              "              style=\"display:none;\">\n",
              "        \n",
              "  <svg xmlns=\"http://www.w3.org/2000/svg\" height=\"24px\"viewBox=\"0 0 24 24\"\n",
              "       width=\"24px\">\n",
              "    <path d=\"M0 0h24v24H0V0z\" fill=\"none\"/>\n",
              "    <path d=\"M18.56 5.44l.94 2.06.94-2.06 2.06-.94-2.06-.94-.94-2.06-.94 2.06-2.06.94zm-11 1L8.5 8.5l.94-2.06 2.06-.94-2.06-.94L8.5 2.5l-.94 2.06-2.06.94zm10 10l.94 2.06.94-2.06 2.06-.94-2.06-.94-.94-2.06-.94 2.06-2.06.94z\"/><path d=\"M17.41 7.96l-1.37-1.37c-.4-.4-.92-.59-1.43-.59-.52 0-1.04.2-1.43.59L10.3 9.45l-7.72 7.72c-.78.78-.78 2.05 0 2.83L4 21.41c.39.39.9.59 1.41.59.51 0 1.02-.2 1.41-.59l7.78-7.78 2.81-2.81c.8-.78.8-2.07 0-2.86zM5.41 20L4 18.59l7.72-7.72 1.47 1.35L5.41 20z\"/>\n",
              "  </svg>\n",
              "      </button>\n",
              "      \n",
              "  <style>\n",
              "    .colab-df-container {\n",
              "      display:flex;\n",
              "      flex-wrap:wrap;\n",
              "      gap: 12px;\n",
              "    }\n",
              "\n",
              "    .colab-df-convert {\n",
              "      background-color: #E8F0FE;\n",
              "      border: none;\n",
              "      border-radius: 50%;\n",
              "      cursor: pointer;\n",
              "      display: none;\n",
              "      fill: #1967D2;\n",
              "      height: 32px;\n",
              "      padding: 0 0 0 0;\n",
              "      width: 32px;\n",
              "    }\n",
              "\n",
              "    .colab-df-convert:hover {\n",
              "      background-color: #E2EBFA;\n",
              "      box-shadow: 0px 1px 2px rgba(60, 64, 67, 0.3), 0px 1px 3px 1px rgba(60, 64, 67, 0.15);\n",
              "      fill: #174EA6;\n",
              "    }\n",
              "\n",
              "    [theme=dark] .colab-df-convert {\n",
              "      background-color: #3B4455;\n",
              "      fill: #D2E3FC;\n",
              "    }\n",
              "\n",
              "    [theme=dark] .colab-df-convert:hover {\n",
              "      background-color: #434B5C;\n",
              "      box-shadow: 0px 1px 3px 1px rgba(0, 0, 0, 0.15);\n",
              "      filter: drop-shadow(0px 1px 2px rgba(0, 0, 0, 0.3));\n",
              "      fill: #FFFFFF;\n",
              "    }\n",
              "  </style>\n",
              "\n",
              "      <script>\n",
              "        const buttonEl =\n",
              "          document.querySelector('#df-9b4a9728-8c51-477a-9b88-fed4aca3dff5 button.colab-df-convert');\n",
              "        buttonEl.style.display =\n",
              "          google.colab.kernel.accessAllowed ? 'block' : 'none';\n",
              "\n",
              "        async function convertToInteractive(key) {\n",
              "          const element = document.querySelector('#df-9b4a9728-8c51-477a-9b88-fed4aca3dff5');\n",
              "          const dataTable =\n",
              "            await google.colab.kernel.invokeFunction('convertToInteractive',\n",
              "                                                     [key], {});\n",
              "          if (!dataTable) return;\n",
              "\n",
              "          const docLinkHtml = 'Like what you see? Visit the ' +\n",
              "            '<a target=\"_blank\" href=https://colab.research.google.com/notebooks/data_table.ipynb>data table notebook</a>'\n",
              "            + ' to learn more about interactive tables.';\n",
              "          element.innerHTML = '';\n",
              "          dataTable['output_type'] = 'display_data';\n",
              "          await google.colab.output.renderOutput(dataTable, element);\n",
              "          const docLink = document.createElement('div');\n",
              "          docLink.innerHTML = docLinkHtml;\n",
              "          element.appendChild(docLink);\n",
              "        }\n",
              "      </script>\n",
              "    </div>\n",
              "  </div>\n",
              "  "
            ]
          },
          "metadata": {},
          "execution_count": 15
        }
      ]
    },
    {
      "cell_type": "code",
      "source": [
        "print(\"Liczba rekordów - wierszy: {}\\nLiczba zmiennych: {}\".format(ds.shape[0], ds.shape[1]))"
      ],
      "metadata": {
        "colab": {
          "base_uri": "https://localhost:8080/"
        },
        "id": "igDfPvfvxH6L",
        "outputId": "885ad471-eb6c-4756-dada-01e4eef2b70c"
      },
      "execution_count": null,
      "outputs": [
        {
          "output_type": "stream",
          "name": "stdout",
          "text": [
            "Liczba rekordów - wierszy: 299\n",
            "Liczba zmiennych: 13\n"
          ]
        }
      ]
    },
    {
      "cell_type": "code",
      "source": [
        "## sprawdzimy informację o datasecie\n",
        "ds.info() \n"
      ],
      "metadata": {
        "colab": {
          "base_uri": "https://localhost:8080/"
        },
        "id": "lhebeLEZxOes",
        "outputId": "838dddd2-b537-47d9-c808-13805fbbb47c"
      },
      "execution_count": null,
      "outputs": [
        {
          "output_type": "stream",
          "name": "stdout",
          "text": [
            "<class 'pandas.core.frame.DataFrame'>\n",
            "RangeIndex: 299 entries, 0 to 298\n",
            "Data columns (total 13 columns):\n",
            " #   Column                    Non-Null Count  Dtype  \n",
            "---  ------                    --------------  -----  \n",
            " 0   age                       299 non-null    float64\n",
            " 1   anaemia                   299 non-null    int64  \n",
            " 2   creatinine_phosphokinase  299 non-null    int64  \n",
            " 3   diabetes                  299 non-null    int64  \n",
            " 4   ejection_fraction         299 non-null    int64  \n",
            " 5   high_blood_pressure       299 non-null    int64  \n",
            " 6   platelets                 299 non-null    float64\n",
            " 7   serum_creatinine          299 non-null    float64\n",
            " 8   serum_sodium              299 non-null    int64  \n",
            " 9   sex                       299 non-null    int64  \n",
            " 10  smoking                   299 non-null    int64  \n",
            " 11  time                      299 non-null    int64  \n",
            " 12  DEATH_EVENT               299 non-null    int64  \n",
            "dtypes: float64(3), int64(10)\n",
            "memory usage: 30.5 KB\n"
          ]
        }
      ]
    },
    {
      "cell_type": "markdown",
      "source": [
        "* Typy danych, to floar64 i int 64, brak zmiennych kategorycznych trudnych w użytkowaniu do obliczeń ML\n"
      ],
      "metadata": {
        "id": "z37fn0DqxRTA"
      }
    },
    {
      "cell_type": "code",
      "source": [
        "#sprawdzenie czy columny mają jakieś wartości, których brakuje\n",
        "ds.isnull().sum()\n"
      ],
      "metadata": {
        "colab": {
          "base_uri": "https://localhost:8080/"
        },
        "id": "lnTxFIBqxMhI",
        "outputId": "ae94d5af-fcb7-4cf1-a300-9360afe75cb2"
      },
      "execution_count": null,
      "outputs": [
        {
          "output_type": "execute_result",
          "data": {
            "text/plain": [
              "age                         0\n",
              "anaemia                     0\n",
              "creatinine_phosphokinase    0\n",
              "diabetes                    0\n",
              "ejection_fraction           0\n",
              "high_blood_pressure         0\n",
              "platelets                   0\n",
              "serum_creatinine            0\n",
              "serum_sodium                0\n",
              "sex                         0\n",
              "smoking                     0\n",
              "time                        0\n",
              "DEATH_EVENT                 0\n",
              "dtype: int64"
            ]
          },
          "metadata": {},
          "execution_count": 18
        }
      ]
    },
    {
      "cell_type": "markdown",
      "source": [
        "Wygląda na to, że dataset nie ma brakujących wartości w kolumnach"
      ],
      "metadata": {
        "id": "60FqozfcxuZG"
      }
    },
    {
      "cell_type": "markdown",
      "source": [
        "**Przeżycie vs. śmierć**\n",
        "Autorzy oparli publikację na sprawdzaniu, jakie czynniki wpływają na śmierć pacjenta, dlatego dobrze będzie sprawdzić, jak w datasecie rozkłada się ilość pacjentów, którzy przeżyli.\n",
        "\n"
      ],
      "metadata": {
        "id": "SQWvypYs1DFo"
      }
    },
    {
      "cell_type": "code",
      "source": [
        "death = ds[ds[\"DEATH_EVENT\"] == 1].shape[0]\n",
        "survival = ds[ds[\"DEATH_EVENT\"] == 0].shape[0]\n",
        "proportion = (death / survival)*100\n",
        "#rozklad danych\n",
        "print(f\"ilość wszystkich przypadków przeżycia = {survival}\")\n",
        "print(f\"ilość wszystkich przypadków śmierci = {death}\")\n",
        "print(f\"procent wszystkich przypadków przezycia = {proportion}\")\n",
        "\n"
      ],
      "metadata": {
        "colab": {
          "base_uri": "https://localhost:8080/"
        },
        "id": "LHVaJqAN2UgF",
        "outputId": "f89eba6d-d9fc-4030-838b-adec1216d47a"
      },
      "execution_count": null,
      "outputs": [
        {
          "output_type": "stream",
          "name": "stdout",
          "text": [
            "ilość wszystkich przypadków przeżycia = 203\n",
            "ilość wszystkich przypadków śmierci = 96\n",
            "procent wszystkich przypadków przezycia = 47.29064039408867\n"
          ]
        }
      ]
    },
    {
      "cell_type": "markdown",
      "source": [
        "**Wizualizacja danych**\n",
        "\n",
        "W celu lepszego zwizualizowania danych zdecydowałam się na wizualizację metodą macierzy korelacji. Jej elementy to wrtości współczynników korelacji dla odpowiednich par zmiennych losowych. Dzieki temu będzie można zobaczyć, jaki stopień wzajemnego skorelowania mają konkretne zmienne"
      ],
      "metadata": {
        "id": "-96NtlAMx2IR"
      }
    },
    {
      "cell_type": "code",
      "source": [
        "#tworzenie macierzy korelacji\n",
        "corr = ds.corr() \n",
        "corr_features = corr.index\n",
        "plt.figure(figsize=(20,20)) #rozmiar macierzy\n",
        "\n",
        "#mapa cieplna\n",
        "heat_corr = sns.heatmap(ds[corr_features].corr(),annot=True,cmap=\"Greens\", linewidth=3) \n",
        "#chyba mój ulubiony kolor dla macierzy korelacji :)\n",
        "\n"
      ],
      "metadata": {
        "colab": {
          "base_uri": "https://localhost:8080/",
          "height": 1000
        },
        "id": "iRVlGgsDxzyO",
        "outputId": "93c39577-3ace-4b72-e3a3-911635730ddf"
      },
      "execution_count": null,
      "outputs": [
        {
          "output_type": "display_data",
          "data": {
            "text/plain": [
              "<Figure size 1440x1440 with 2 Axes>"
            ],
            "image/png": "[encoded data removed]"
          },
          "metadata": {
            "needs_background": "light"
          }
        }
      ]
    },
    {
      "cell_type": "markdown",
      "source": [
        "* poszukajmy najbardziej skorelowanych danych z \"DEATH_EVENT\"\n"
      ],
      "metadata": {
        "id": "bec_wq33yDYp"
      }
    },
    {
      "cell_type": "code",
      "source": [
        "features = ds.corr()\n",
        "features[abs(features['DEATH_EVENT']) > 0.1]['DEATH_EVENT']"
      ],
      "metadata": {
        "colab": {
          "base_uri": "https://localhost:8080/"
        },
        "id": "5UlLMbAw4gfA",
        "outputId": "9289e4cc-d310-456b-b143-869fd62d321c"
      },
      "execution_count": null,
      "outputs": [
        {
          "output_type": "execute_result",
          "data": {
            "text/plain": [
              "age                  0.253729\n",
              "ejection_fraction   -0.268603\n",
              "serum_creatinine     0.294278\n",
              "serum_sodium        -0.195204\n",
              "time                -0.526964\n",
              "DEATH_EVENT          1.000000\n",
              "Name: DEATH_EVENT, dtype: float64"
            ]
          },
          "metadata": {},
          "execution_count": 21
        }
      ]
    },
    {
      "cell_type": "markdown",
      "source": [
        "najbardziej skorelowane ze śmiercią zmienne, to:\n",
        "* age - wiek\n",
        "* ejection fraction - frakcja wyrzutowa\n",
        "* serum_creatinine - kreatynina w surowicy\n",
        "* serum sodium - sód w surowicy\n",
        "* time - czas obserwacji (tutaj chodzi o czas spędzony w szpitalu - im dłuższy tym poważniejsze uszkodzenie miało miejsce u pacjenta)"
      ],
      "metadata": {
        "id": "VSOj2GQg5ZyU"
      }
    },
    {
      "cell_type": "markdown",
      "source": [
        "Wyniki zbliżone powinny pojawić się w przypadku algorytmów uczenia maszynowego. \n",
        "\n"
      ],
      "metadata": {
        "id": "5mXqNi1N6nDm"
      }
    },
    {
      "cell_type": "markdown",
      "source": [
        "Celem projektu jest przewidzenie przeżycia pacjenta (oszacowane na podstawie the highest accuracy. W tym celu zasosowano kilka algorytmów uczenia maszynowego."
      ],
      "metadata": {
        "id": "5WvMr2U1QyGy"
      }
    },
    {
      "cell_type": "markdown",
      "source": [
        "**Podział zbioru danych**"
      ],
      "metadata": {
        "id": "PZXQ0ulZ6Lsm"
      }
    },
    {
      "cell_type": "markdown",
      "source": [
        "Podział danych: Autorzy podzielili dane następująco: \n",
        "\n",
        "Zestaw treningowy - 70% pacjentów (0.7) Zestaw testowy - 30% pacjentów (0.3)\n",
        "\n",
        "Podział względem zmiennej DEATH_EVENT jest kloczowy. Następnie modele implementowane są właśnie względem tego podziału i jednocześnie później zastosowana sztuczna sieć neuronowa ocenia te modele (zbudowane na podstawie wcześniej zbudowanego podziału)"
      ],
      "metadata": {
        "id": "6qCkR-5kAICF"
      }
    },
    {
      "cell_type": "code",
      "source": [
        "X = ds.drop(['DEATH_EVENT'], axis=1)\n",
        "y = ds[\"DEATH_EVENT\"]\n",
        "\n",
        "X.shape, y.shape\n"
      ],
      "metadata": {
        "id": "_AcfeHkFyHVi",
        "colab": {
          "base_uri": "https://localhost:8080/"
        },
        "outputId": "44fc729f-c894-4ca2-bf59-fa4f74e7217e"
      },
      "execution_count": null,
      "outputs": [
        {
          "output_type": "execute_result",
          "data": {
            "text/plain": [
              "((299, 12), (299,))"
            ]
          },
          "metadata": {},
          "execution_count": 22
        }
      ]
    },
    {
      "cell_type": "code",
      "source": [
        "\n",
        "y.value_counts()"
      ],
      "metadata": {
        "colab": {
          "base_uri": "https://localhost:8080/"
        },
        "outputId": "99444361-c3e4-4034-c12b-80547115073e",
        "id": "CZeJF75JTVWw"
      },
      "execution_count": null,
      "outputs": [
        {
          "output_type": "execute_result",
          "data": {
            "text/plain": [
              "0    203\n",
              "1     96\n",
              "Name: DEATH_EVENT, dtype: int64"
            ]
          },
          "metadata": {},
          "execution_count": 23
        }
      ]
    },
    {
      "cell_type": "markdown",
      "source": [
        "**Widać, że rozkład jest niezbalansowany, w związku z tym zastosuję algorytm SMOTE**"
      ],
      "metadata": {
        "id": "2V7QNFyaTZJC"
      }
    },
    {
      "cell_type": "code",
      "source": [
        "X_smote,y_smote = SMOTE().fit_resample(X,y)\n",
        "y_smote.value_counts()"
      ],
      "metadata": {
        "colab": {
          "base_uri": "https://localhost:8080/"
        },
        "id": "xLy3ZlEkTjZ8",
        "outputId": "d060dd1e-83ff-4888-e657-2cee252306ed"
      },
      "execution_count": null,
      "outputs": [
        {
          "output_type": "execute_result",
          "data": {
            "text/plain": [
              "1    203\n",
              "0    203\n",
              "Name: DEATH_EVENT, dtype: int64"
            ]
          },
          "metadata": {},
          "execution_count": 24
        }
      ]
    },
    {
      "cell_type": "code",
      "source": [
        "# Setting up a standard scaler for the features and analyzing it thereafter\n",
        "\n",
        "\n",
        "col_names = list(X.columns)\n",
        "s_scaler = preprocessing.StandardScaler()\n",
        "X_scaled= s_scaler.fit_transform(X)\n",
        "X_scaled = pd.DataFrame(X_scaled, columns=col_names)   \n",
        "X_scaled.describe().T"
      ],
      "metadata": {
        "colab": {
          "base_uri": "https://localhost:8080/",
          "height": 426
        },
        "id": "JqSgi7BFap9B",
        "outputId": "01390a82-9c61-4cfd-a69c-a60bcbf1ffc9"
      },
      "execution_count": null,
      "outputs": [
        {
          "output_type": "execute_result",
          "data": {
            "text/plain": [
              "                          count          mean       std       min       25%  \\\n",
              "age                       299.0  5.703353e-16  1.001676 -1.754448 -0.828124   \n",
              "anaemia                   299.0  1.009969e-16  1.001676 -0.871105 -0.871105   \n",
              "creatinine_phosphokinase  299.0  0.000000e+00  1.001676 -0.576918 -0.480393   \n",
              "diabetes                  299.0  9.060014e-17  1.001676 -0.847579 -0.847579   \n",
              "ejection_fraction         299.0 -3.267546e-17  1.001676 -2.038387 -0.684180   \n",
              "high_blood_pressure       299.0  0.000000e+00  1.001676 -0.735688 -0.735688   \n",
              "platelets                 299.0  7.723291e-17  1.001676 -2.440155 -0.520870   \n",
              "serum_creatinine          299.0  1.425838e-16  1.001676 -0.865509 -0.478205   \n",
              "serum_sodium              299.0 -8.673849e-16  1.001676 -5.363206 -0.595996   \n",
              "sex                       299.0 -8.911489e-18  1.001676 -1.359272 -1.359272   \n",
              "smoking                   299.0 -1.188199e-17  1.001676 -0.687682 -0.687682   \n",
              "time                      299.0 -1.901118e-16  1.001676 -1.629502 -0.739000   \n",
              "\n",
              "                               50%       75%       max  \n",
              "age                      -0.070223  0.771889  2.877170  \n",
              "anaemia                  -0.871105  1.147968  1.147968  \n",
              "creatinine_phosphokinase -0.342574  0.000166  7.514640  \n",
              "diabetes                 -0.847579  1.179830  1.179830  \n",
              "ejection_fraction        -0.007077  0.585389  3.547716  \n",
              "high_blood_pressure      -0.735688  1.359272  1.359272  \n",
              "platelets                -0.013908  0.411120  6.008180  \n",
              "serum_creatinine         -0.284552  0.005926  7.752020  \n",
              "serum_sodium              0.085034  0.766064  2.582144  \n",
              "sex                       0.735688  0.735688  0.735688  \n",
              "smoking                  -0.687682  1.454161  1.454161  \n",
              "time                     -0.196954  0.938759  1.997038  "
            ],
            "text/html": [
              "\n",
              "  <div id=\"df-2b47caac-de60-421a-a5d4-9cbf5d201f20\">\n",
              "    <div class=\"colab-df-container\">\n",
              "      <div>\n",
              "<style scoped>\n",
              "    .dataframe tbody tr th:only-of-type {\n",
              "        vertical-align: middle;\n",
              "    }\n",
              "\n",
              "    .dataframe tbody tr th {\n",
              "        vertical-align: top;\n",
              "    }\n",
              "\n",
              "    .dataframe thead th {\n",
              "        text-align: right;\n",
              "    }\n",
              "</style>\n",
              "<table border=\"1\" class=\"dataframe\">\n",
              "  <thead>\n",
              "    <tr style=\"text-align: right;\">\n",
              "      <th></th>\n",
              "      <th>count</th>\n",
              "      <th>mean</th>\n",
              "      <th>std</th>\n",
              "      <th>min</th>\n",
              "      <th>25%</th>\n",
              "      <th>50%</th>\n",
              "      <th>75%</th>\n",
              "      <th>max</th>\n",
              "    </tr>\n",
              "  </thead>\n",
              "  <tbody>\n",
              "    <tr>\n",
              "      <th>age</th>\n",
              "      <td>299.0</td>\n",
              "      <td>5.703353e-16</td>\n",
              "      <td>1.001676</td>\n",
              "      <td>-1.754448</td>\n",
              "      <td>-0.828124</td>\n",
              "      <td>-0.070223</td>\n",
              "      <td>0.771889</td>\n",
              "      <td>2.877170</td>\n",
              "    </tr>\n",
              "    <tr>\n",
              "      <th>anaemia</th>\n",
              "      <td>299.0</td>\n",
              "      <td>1.009969e-16</td>\n",
              "      <td>1.001676</td>\n",
              "      <td>-0.871105</td>\n",
              "      <td>-0.871105</td>\n",
              "      <td>-0.871105</td>\n",
              "      <td>1.147968</td>\n",
              "      <td>1.147968</td>\n",
              "    </tr>\n",
              "    <tr>\n",
              "      <th>creatinine_phosphokinase</th>\n",
              "      <td>299.0</td>\n",
              "      <td>0.000000e+00</td>\n",
              "      <td>1.001676</td>\n",
              "      <td>-0.576918</td>\n",
              "      <td>-0.480393</td>\n",
              "      <td>-0.342574</td>\n",
              "      <td>0.000166</td>\n",
              "      <td>7.514640</td>\n",
              "    </tr>\n",
              "    <tr>\n",
              "      <th>diabetes</th>\n",
              "      <td>299.0</td>\n",
              "      <td>9.060014e-17</td>\n",
              "      <td>1.001676</td>\n",
              "      <td>-0.847579</td>\n",
              "      <td>-0.847579</td>\n",
              "      <td>-0.847579</td>\n",
              "      <td>1.179830</td>\n",
              "      <td>1.179830</td>\n",
              "    </tr>\n",
              "    <tr>\n",
              "      <th>ejection_fraction</th>\n",
              "      <td>299.0</td>\n",
              "      <td>-3.267546e-17</td>\n",
              "      <td>1.001676</td>\n",
              "      <td>-2.038387</td>\n",
              "      <td>-0.684180</td>\n",
              "      <td>-0.007077</td>\n",
              "      <td>0.585389</td>\n",
              "      <td>3.547716</td>\n",
              "    </tr>\n",
              "    <tr>\n",
              "      <th>high_blood_pressure</th>\n",
              "      <td>299.0</td>\n",
              "      <td>0.000000e+00</td>\n",
              "      <td>1.001676</td>\n",
              "      <td>-0.735688</td>\n",
              "      <td>-0.735688</td>\n",
              "      <td>-0.735688</td>\n",
              "      <td>1.359272</td>\n",
              "      <td>1.359272</td>\n",
              "    </tr>\n",
              "    <tr>\n",
              "      <th>platelets</th>\n",
              "      <td>299.0</td>\n",
              "      <td>7.723291e-17</td>\n",
              "      <td>1.001676</td>\n",
              "      <td>-2.440155</td>\n",
              "      <td>-0.520870</td>\n",
              "      <td>-0.013908</td>\n",
              "      <td>0.411120</td>\n",
              "      <td>6.008180</td>\n",
              "    </tr>\n",
              "    <tr>\n",
              "      <th>serum_creatinine</th>\n",
              "      <td>299.0</td>\n",
              "      <td>1.425838e-16</td>\n",
              "      <td>1.001676</td>\n",
              "      <td>-0.865509</td>\n",
              "      <td>-0.478205</td>\n",
              "      <td>-0.284552</td>\n",
              "      <td>0.005926</td>\n",
              "      <td>7.752020</td>\n",
              "    </tr>\n",
              "    <tr>\n",
              "      <th>serum_sodium</th>\n",
              "      <td>299.0</td>\n",
              "      <td>-8.673849e-16</td>\n",
              "      <td>1.001676</td>\n",
              "      <td>-5.363206</td>\n",
              "      <td>-0.595996</td>\n",
              "      <td>0.085034</td>\n",
              "      <td>0.766064</td>\n",
              "      <td>2.582144</td>\n",
              "    </tr>\n",
              "    <tr>\n",
              "      <th>sex</th>\n",
              "      <td>299.0</td>\n",
              "      <td>-8.911489e-18</td>\n",
              "      <td>1.001676</td>\n",
              "      <td>-1.359272</td>\n",
              "      <td>-1.359272</td>\n",
              "      <td>0.735688</td>\n",
              "      <td>0.735688</td>\n",
              "      <td>0.735688</td>\n",
              "    </tr>\n",
              "    <tr>\n",
              "      <th>smoking</th>\n",
              "      <td>299.0</td>\n",
              "      <td>-1.188199e-17</td>\n",
              "      <td>1.001676</td>\n",
              "      <td>-0.687682</td>\n",
              "      <td>-0.687682</td>\n",
              "      <td>-0.687682</td>\n",
              "      <td>1.454161</td>\n",
              "      <td>1.454161</td>\n",
              "    </tr>\n",
              "    <tr>\n",
              "      <th>time</th>\n",
              "      <td>299.0</td>\n",
              "      <td>-1.901118e-16</td>\n",
              "      <td>1.001676</td>\n",
              "      <td>-1.629502</td>\n",
              "      <td>-0.739000</td>\n",
              "      <td>-0.196954</td>\n",
              "      <td>0.938759</td>\n",
              "      <td>1.997038</td>\n",
              "    </tr>\n",
              "  </tbody>\n",
              "</table>\n",
              "</div>\n",
              "      <button class=\"colab-df-convert\" onclick=\"convertToInteractive('df-2b47caac-de60-421a-a5d4-9cbf5d201f20')\"\n",
              "              title=\"Convert this dataframe to an interactive table.\"\n",
              "              style=\"display:none;\">\n",
              "        \n",
              "  <svg xmlns=\"http://www.w3.org/2000/svg\" height=\"24px\"viewBox=\"0 0 24 24\"\n",
              "       width=\"24px\">\n",
              "    <path d=\"M0 0h24v24H0V0z\" fill=\"none\"/>\n",
              "    <path d=\"M18.56 5.44l.94 2.06.94-2.06 2.06-.94-2.06-.94-.94-2.06-.94 2.06-2.06.94zm-11 1L8.5 8.5l.94-2.06 2.06-.94-2.06-.94L8.5 2.5l-.94 2.06-2.06.94zm10 10l.94 2.06.94-2.06 2.06-.94-2.06-.94-.94-2.06-.94 2.06-2.06.94z\"/><path d=\"M17.41 7.96l-1.37-1.37c-.4-.4-.92-.59-1.43-.59-.52 0-1.04.2-1.43.59L10.3 9.45l-7.72 7.72c-.78.78-.78 2.05 0 2.83L4 21.41c.39.39.9.59 1.41.59.51 0 1.02-.2 1.41-.59l7.78-7.78 2.81-2.81c.8-.78.8-2.07 0-2.86zM5.41 20L4 18.59l7.72-7.72 1.47 1.35L5.41 20z\"/>\n",
              "  </svg>\n",
              "      </button>\n",
              "      \n",
              "  <style>\n",
              "    .colab-df-container {\n",
              "      display:flex;\n",
              "      flex-wrap:wrap;\n",
              "      gap: 12px;\n",
              "    }\n",
              "\n",
              "    .colab-df-convert {\n",
              "      background-color: #E8F0FE;\n",
              "      border: none;\n",
              "      border-radius: 50%;\n",
              "      cursor: pointer;\n",
              "      display: none;\n",
              "      fill: #1967D2;\n",
              "      height: 32px;\n",
              "      padding: 0 0 0 0;\n",
              "      width: 32px;\n",
              "    }\n",
              "\n",
              "    .colab-df-convert:hover {\n",
              "      background-color: #E2EBFA;\n",
              "      box-shadow: 0px 1px 2px rgba(60, 64, 67, 0.3), 0px 1px 3px 1px rgba(60, 64, 67, 0.15);\n",
              "      fill: #174EA6;\n",
              "    }\n",
              "\n",
              "    [theme=dark] .colab-df-convert {\n",
              "      background-color: #3B4455;\n",
              "      fill: #D2E3FC;\n",
              "    }\n",
              "\n",
              "    [theme=dark] .colab-df-convert:hover {\n",
              "      background-color: #434B5C;\n",
              "      box-shadow: 0px 1px 3px 1px rgba(0, 0, 0, 0.15);\n",
              "      filter: drop-shadow(0px 1px 2px rgba(0, 0, 0, 0.3));\n",
              "      fill: #FFFFFF;\n",
              "    }\n",
              "  </style>\n",
              "\n",
              "      <script>\n",
              "        const buttonEl =\n",
              "          document.querySelector('#df-2b47caac-de60-421a-a5d4-9cbf5d201f20 button.colab-df-convert');\n",
              "        buttonEl.style.display =\n",
              "          google.colab.kernel.accessAllowed ? 'block' : 'none';\n",
              "\n",
              "        async function convertToInteractive(key) {\n",
              "          const element = document.querySelector('#df-2b47caac-de60-421a-a5d4-9cbf5d201f20');\n",
              "          const dataTable =\n",
              "            await google.colab.kernel.invokeFunction('convertToInteractive',\n",
              "                                                     [key], {});\n",
              "          if (!dataTable) return;\n",
              "\n",
              "          const docLinkHtml = 'Like what you see? Visit the ' +\n",
              "            '<a target=\"_blank\" href=https://colab.research.google.com/notebooks/data_table.ipynb>data table notebook</a>'\n",
              "            + ' to learn more about interactive tables.';\n",
              "          element.innerHTML = '';\n",
              "          dataTable['output_type'] = 'display_data';\n",
              "          await google.colab.output.renderOutput(dataTable, element);\n",
              "          const docLink = document.createElement('div');\n",
              "          docLink.innerHTML = docLinkHtml;\n",
              "          element.appendChild(docLink);\n",
              "        }\n",
              "      </script>\n",
              "    </div>\n",
              "  </div>\n",
              "  "
            ]
          },
          "metadata": {},
          "execution_count": 82
        }
      ]
    },
    {
      "cell_type": "markdown",
      "source": [
        "**Podział zbioru danych**"
      ],
      "metadata": {
        "id": "iOzUx_oUOdP5"
      }
    },
    {
      "cell_type": "code",
      "source": [
        "#spliting variables into training and test sets\n",
        "X_train, X_test, y_train,y_test = train_test_split(X_scaled,y,test_size=0.30,random_state=25)\n",
        "\n",
        "print('Rozkład treningowy - X_train:', X_train.shape)\n",
        "print('Rozkład testowy- X_test:', X_test.shape)\n",
        "print('Rozkład y-treningowy:', y_train.shape)\n",
        "print('Rozkład y-testowy:', y_test.shape)"
      ],
      "metadata": {
        "colab": {
          "base_uri": "https://localhost:8080/"
        },
        "id": "ZEx5H8KnU0w9",
        "outputId": "d321b4a2-2bd7-4696-cb0a-ab77e0ab53ce"
      },
      "execution_count": null,
      "outputs": [
        {
          "output_type": "stream",
          "name": "stdout",
          "text": [
            "Rozkład treningowy - X_train: (209, 12)\n",
            "Rozkład testowy- X_test: (90, 12)\n",
            "Rozkład y-treningowy: (209,)\n",
            "Rozkład y-testowy: (90,)\n"
          ]
        }
      ]
    },
    {
      "cell_type": "code",
      "source": [],
      "metadata": {
        "id": "e5m7--TffxoL"
      },
      "execution_count": null,
      "outputs": []
    },
    {
      "cell_type": "markdown",
      "source": [
        "**Zastosowanie algorytmów uczenia maszynowego**\n",
        "\n",
        "W publikcji autorzy zasosowali kilka algorytmów uczenia maszynowego\n",
        "1. Regresja logistyczna\n",
        "2. SVM\n",
        "3. Drzewo decyzyjne\n",
        "4. Las losowy\n",
        "5. Gradient Boosting \n",
        "6. KNN- K-najbliżsi sąsiedzi\n",
        "\n",
        "W zastosowaniu algorytmów uczenia maszynowego i zbudowania sieci neuronowej posiłkowałam się zeszytami z zajęc, oraz:\n",
        "https://github.com/g-shreekant/Heart-Disease-Prediction-using-Machine-Learning/blob/master/Heart_disease_prediction.ipynb"
      ],
      "metadata": {
        "id": "EaMY0TauyTCk"
      }
    },
    {
      "cell_type": "markdown",
      "source": [
        "**1. Regresja logistyczna**"
      ],
      "metadata": {
        "id": "I6TKBIBkAS5d"
      }
    },
    {
      "cell_type": "code",
      "source": [
        "regression = LogisticRegression()\n",
        "model1 = regression.fit(X_train, y_train)\n",
        "y_pred = model1.predict(X_test)\n",
        "\n"
      ],
      "metadata": {
        "id": "jeECJsTe_In9"
      },
      "execution_count": null,
      "outputs": []
    },
    {
      "cell_type": "code",
      "source": [
        "print(classification_report(y_test, y_pred))\n",
        "accuracy = accuracy_score(y_test, y_pred)\n",
        "accuracy"
      ],
      "metadata": {
        "colab": {
          "base_uri": "https://localhost:8080/"
        },
        "id": "fV2ugFJq4UME",
        "outputId": "97c2314c-dcf9-48d7-bf05-9d2d8c8aabbe"
      },
      "execution_count": null,
      "outputs": [
        {
          "output_type": "stream",
          "name": "stdout",
          "text": [
            "              precision    recall  f1-score   support\n",
            "\n",
            "           0       0.88      0.88      0.88        60\n",
            "           1       0.77      0.77      0.77        30\n",
            "\n",
            "    accuracy                           0.84        90\n",
            "   macro avg       0.82      0.82      0.82        90\n",
            "weighted avg       0.84      0.84      0.84        90\n",
            "\n"
          ]
        },
        {
          "output_type": "execute_result",
          "data": {
            "text/plain": [
              "0.8444444444444444"
            ]
          },
          "metadata": {},
          "execution_count": 88
        }
      ]
    },
    {
      "cell_type": "code",
      "source": [
        "y_pred.shape"
      ],
      "metadata": {
        "colab": {
          "base_uri": "https://localhost:8080/"
        },
        "id": "94tgpw-R4W1W",
        "outputId": "c907295b-37e6-4b9c-b9da-2ac4aeb12e77"
      },
      "execution_count": null,
      "outputs": [
        {
          "output_type": "execute_result",
          "data": {
            "text/plain": [
              "(90,)"
            ]
          },
          "metadata": {},
          "execution_count": 92
        }
      ]
    },
    {
      "cell_type": "code",
      "source": [
        "score_regression= round(accuracy_score(y_pred ,y_test)*100,2)\n",
        "score_regression"
      ],
      "metadata": {
        "colab": {
          "base_uri": "https://localhost:8080/"
        },
        "id": "xgGDKlq74acq",
        "outputId": "5cdafb76-afd0-4ac0-debd-4b3c18c50afb"
      },
      "execution_count": null,
      "outputs": [
        {
          "output_type": "execute_result",
          "data": {
            "text/plain": [
              "84.44"
            ]
          },
          "metadata": {},
          "execution_count": 90
        }
      ]
    },
    {
      "cell_type": "code",
      "source": [
        "sns.heatmap(confusion_matrix(y_test,y_pred), cbar=True, annot=True)"
      ],
      "metadata": {
        "colab": {
          "base_uri": "https://localhost:8080/",
          "height": 282
        },
        "id": "F0FmvJz9ObXw",
        "outputId": "7297f6e2-90b8-4be4-8138-8ab17be65f90"
      },
      "execution_count": null,
      "outputs": [
        {
          "output_type": "execute_result",
          "data": {
            "text/plain": [
              "<matplotlib.axes._subplots.AxesSubplot at 0x7faec9197070>"
            ]
          },
          "metadata": {},
          "execution_count": 91
        },
        {
          "output_type": "display_data",
          "data": {
            "text/plain": [
              "<Figure size 432x288 with 2 Axes>"
            ],
            "image/png": "[encoded data removed]"
          },
          "metadata": {
            "needs_background": "light"
          }
        }
      ]
    },
    {
      "cell_type": "markdown",
      "source": [
        "**2.SVC - Maszyna Wektorów Nośnych**"
      ],
      "metadata": {
        "id": "PsmKiosdXbOO"
      }
    },
    {
      "cell_type": "code",
      "source": [
        "from sklearn.svm import SVC\n",
        "vector_machine = SVC(kernel=\"linear\")\n",
        "model= vector_machine.fit(X_train, y_train)\n",
        "y_pred = model.predict(X_test)\n",
        "\n",
        "\n"
      ],
      "metadata": {
        "id": "VCRYQ8idFTEe"
      },
      "execution_count": null,
      "outputs": []
    },
    {
      "cell_type": "code",
      "source": [
        "print(classification_report(y_test, y_pred))\n",
        "accuracy = accuracy_score(y_test, y_pred)\n",
        "accuracy\n"
      ],
      "metadata": {
        "colab": {
          "base_uri": "https://localhost:8080/"
        },
        "id": "tHNaYsEB5aRl",
        "outputId": "ac9b785e-4b00-43d8-c630-26485b473531"
      },
      "execution_count": null,
      "outputs": [
        {
          "output_type": "stream",
          "name": "stdout",
          "text": [
            "              precision    recall  f1-score   support\n",
            "\n",
            "           0       0.82      0.85      0.84        60\n",
            "           1       0.68      0.63      0.66        30\n",
            "\n",
            "    accuracy                           0.78        90\n",
            "   macro avg       0.75      0.74      0.75        90\n",
            "weighted avg       0.77      0.78      0.78        90\n",
            "\n"
          ]
        },
        {
          "output_type": "execute_result",
          "data": {
            "text/plain": [
              "0.7777777777777778"
            ]
          },
          "metadata": {},
          "execution_count": 94
        }
      ]
    },
    {
      "cell_type": "code",
      "source": [
        "y_pred.shape"
      ],
      "metadata": {
        "colab": {
          "base_uri": "https://localhost:8080/"
        },
        "id": "n9h2OOZM5ltV",
        "outputId": "a069206f-09b6-4e9d-d2d1-6718899f87ef"
      },
      "execution_count": null,
      "outputs": [
        {
          "output_type": "execute_result",
          "data": {
            "text/plain": [
              "(122,)"
            ]
          },
          "metadata": {},
          "execution_count": 33
        }
      ]
    },
    {
      "cell_type": "code",
      "source": [
        "score_vector_machine = round(accuracy_score(y_pred ,y_test)*100,2)\n",
        "score_vector_machine"
      ],
      "metadata": {
        "colab": {
          "base_uri": "https://localhost:8080/"
        },
        "id": "bQj87TjW5uWr",
        "outputId": "b16d4831-3837-4b9b-ed62-42bd576972b7"
      },
      "execution_count": null,
      "outputs": [
        {
          "output_type": "execute_result",
          "data": {
            "text/plain": [
              "77.78"
            ]
          },
          "metadata": {},
          "execution_count": 95
        }
      ]
    },
    {
      "cell_type": "code",
      "source": [
        "\n",
        "sns.heatmap(confusion_matrix(y_test,y_pred), cbar=True, annot=True)"
      ],
      "metadata": {
        "colab": {
          "base_uri": "https://localhost:8080/"
        },
        "id": "dnR9yhHj5dpi",
        "outputId": "e06a0832-ff90-45c5-d701-4f4c7aeecc3b"
      },
      "execution_count": null,
      "outputs": [
        {
          "output_type": "execute_result",
          "data": {
            "text/plain": [
              "<matplotlib.axes._subplots.AxesSubplot at 0x7faec8ed20d0>"
            ]
          },
          "metadata": {},
          "execution_count": 96
        },
        {
          "output_type": "display_data",
          "data": {
            "text/plain": [
              "<Figure size 432x288 with 2 Axes>"
            ],
            "image/png": "[encoded data removed]"
          },
          "metadata": {
            "needs_background": "light"
          }
        }
      ]
    },
    {
      "cell_type": "markdown",
      "source": [
        "**3.Drzewo decyzyjne**"
      ],
      "metadata": {
        "id": "wbwOXChMYeEM"
      }
    },
    {
      "cell_type": "code",
      "source": [
        "decision_tree = DecisionTreeClassifier()\n",
        "model = decision_tree.fit(X_train,y_train)\n",
        "y_pred = model.predict(X_test)\n"
      ],
      "metadata": {
        "id": "hSZHPHroYcLV"
      },
      "execution_count": null,
      "outputs": []
    },
    {
      "cell_type": "code",
      "source": [
        "print(classification_report(y_test, y_pred))\n",
        "accuracy = accuracy_score(y_test, y_pred)\n",
        "accuracy\n"
      ],
      "metadata": {
        "colab": {
          "base_uri": "https://localhost:8080/"
        },
        "id": "BsWU7uxR6CI1",
        "outputId": "c4dcb62c-b4e0-42e4-976a-4f0ad2255eae"
      },
      "execution_count": null,
      "outputs": [
        {
          "output_type": "stream",
          "name": "stdout",
          "text": [
            "              precision    recall  f1-score   support\n",
            "\n",
            "           0       0.82      0.85      0.84        60\n",
            "           1       0.68      0.63      0.66        30\n",
            "\n",
            "    accuracy                           0.78        90\n",
            "   macro avg       0.75      0.74      0.75        90\n",
            "weighted avg       0.77      0.78      0.78        90\n",
            "\n"
          ]
        },
        {
          "output_type": "execute_result",
          "data": {
            "text/plain": [
              "0.7777777777777778"
            ]
          },
          "metadata": {},
          "execution_count": 100
        }
      ]
    },
    {
      "cell_type": "code",
      "source": [
        "sns.heatmap(confusion_matrix(y_test,y_pred), cbar=True, annot=True)"
      ],
      "metadata": {
        "colab": {
          "base_uri": "https://localhost:8080/"
        },
        "id": "0R58vLU-6GDD",
        "outputId": "53e4424f-5dfe-42ec-bf68-6a9d9be19c40"
      },
      "execution_count": null,
      "outputs": [
        {
          "output_type": "execute_result",
          "data": {
            "text/plain": [
              "<matplotlib.axes._subplots.AxesSubplot at 0x7faec8e51b20>"
            ]
          },
          "metadata": {},
          "execution_count": 101
        },
        {
          "output_type": "display_data",
          "data": {
            "text/plain": [
              "<Figure size 432x288 with 2 Axes>"
            ],
            "image/png": "[encoded data removed]"
          },
          "metadata": {
            "needs_background": "light"
          }
        }
      ]
    },
    {
      "cell_type": "code",
      "source": [
        "y_pred.shape"
      ],
      "metadata": {
        "colab": {
          "base_uri": "https://localhost:8080/"
        },
        "id": "GbbcoYkm07C4",
        "outputId": "29235484-aa22-4317-cb68-1d01130d2a88"
      },
      "execution_count": null,
      "outputs": [
        {
          "output_type": "execute_result",
          "data": {
            "text/plain": [
              "(90,)"
            ]
          },
          "metadata": {},
          "execution_count": 102
        }
      ]
    },
    {
      "cell_type": "code",
      "source": [
        "score_decision_tree = round(accuracy_score(y_pred ,y_test)*100,2)\n",
        "score_decision_tree"
      ],
      "metadata": {
        "colab": {
          "base_uri": "https://localhost:8080/"
        },
        "id": "RlmDVY4X6O_E",
        "outputId": "cd309408-6351-4ca0-9515-41d3fb805400"
      },
      "execution_count": null,
      "outputs": [
        {
          "output_type": "execute_result",
          "data": {
            "text/plain": [
              "77.78"
            ]
          },
          "metadata": {},
          "execution_count": 103
        }
      ]
    },
    {
      "cell_type": "markdown",
      "source": [
        "**4.Lasy Losowe**"
      ],
      "metadata": {
        "id": "eTF9VV0Ha4gX"
      }
    },
    {
      "cell_type": "code",
      "source": [
        "random_forest = RandomForestClassifier(n_estimators=100)\n",
        "model = random_forest.fit(X_train,y_train)\n",
        "y_pred = model.predict(X_test)\n",
        "\n"
      ],
      "metadata": {
        "id": "ZmzcFpDxa9Q8"
      },
      "execution_count": null,
      "outputs": []
    },
    {
      "cell_type": "code",
      "source": [
        "print(classification_report(y_test,y_pred))\n",
        "accuracy = accuracy_score(y_test, y_pred)\n",
        "accuracy \n"
      ],
      "metadata": {
        "colab": {
          "base_uri": "https://localhost:8080/"
        },
        "id": "1Sabvj3c6aUf",
        "outputId": "ca852412-1f15-4d32-b7a7-4828947e1cfa"
      },
      "execution_count": 110,
      "outputs": [
        {
          "output_type": "stream",
          "name": "stdout",
          "text": [
            "              precision    recall  f1-score   support\n",
            "\n",
            "           0       0.84      0.85      0.84        60\n",
            "           1       0.69      0.67      0.68        30\n",
            "\n",
            "    accuracy                           0.79        90\n",
            "   macro avg       0.76      0.76      0.76        90\n",
            "weighted avg       0.79      0.79      0.79        90\n",
            "\n"
          ]
        },
        {
          "output_type": "execute_result",
          "data": {
            "text/plain": [
              "0.7888888888888889"
            ]
          },
          "metadata": {},
          "execution_count": 110
        }
      ]
    },
    {
      "cell_type": "code",
      "source": [
        "sns.heatmap(confusion_matrix(y_test,y_pred), cbar=True, annot=True)"
      ],
      "metadata": {
        "colab": {
          "base_uri": "https://localhost:8080/",
          "height": 282
        },
        "id": "kSS5OcFL6f_h",
        "outputId": "d38fd496-9916-4e03-abbb-5e3facfde49f"
      },
      "execution_count": 111,
      "outputs": [
        {
          "output_type": "execute_result",
          "data": {
            "text/plain": [
              "<matplotlib.axes._subplots.AxesSubplot at 0x7faec98707c0>"
            ]
          },
          "metadata": {},
          "execution_count": 111
        },
        {
          "output_type": "display_data",
          "data": {
            "text/plain": [
              "<Figure size 432x288 with 2 Axes>"
            ],
            "image/png": "[encoded data removed]"
          },
          "metadata": {
            "needs_background": "light"
          }
        }
      ]
    },
    {
      "cell_type": "code",
      "source": [
        "score_random_forest =(accuracy_score(y_pred ,y_test)*100,2)\n",
        "score_random_forest"
      ],
      "metadata": {
        "colab": {
          "base_uri": "https://localhost:8080/"
        },
        "id": "W2gP5fqN6olq",
        "outputId": "dd5e3666-15fd-4f9d-bc58-a74e6bb2267e"
      },
      "execution_count": 112,
      "outputs": [
        {
          "output_type": "execute_result",
          "data": {
            "text/plain": [
              "(78.88888888888889, 2)"
            ]
          },
          "metadata": {},
          "execution_count": 112
        }
      ]
    },
    {
      "cell_type": "markdown",
      "source": [
        "**5.Gradient Boosting**\n"
      ],
      "metadata": {
        "id": "DblX-oVRcNsO"
      }
    },
    {
      "cell_type": "code",
      "source": [
        "gradient_boosting = GradientBoostingClassifier()\n",
        "model = gradient_boosting.fit(X_train, y_train)\n",
        "y_pred = model.predict(X_test)\n",
        "\n",
        "\n"
      ],
      "metadata": {
        "id": "Va4O0lbecKsf"
      },
      "execution_count": 113,
      "outputs": []
    },
    {
      "cell_type": "code",
      "source": [
        "\n",
        "print(classification_report(y_test,y_pred))\n",
        "accuracy = accuracy_score(y_test, y_pred)\n",
        "accuracy \n"
      ],
      "metadata": {
        "colab": {
          "base_uri": "https://localhost:8080/"
        },
        "id": "6EIGqJyF603J",
        "outputId": "a0ad38f9-d850-40ff-c3ce-61f7885e264b"
      },
      "execution_count": 114,
      "outputs": [
        {
          "output_type": "stream",
          "name": "stdout",
          "text": [
            "              precision    recall  f1-score   support\n",
            "\n",
            "           0       0.84      0.85      0.84        60\n",
            "           1       0.69      0.67      0.68        30\n",
            "\n",
            "    accuracy                           0.79        90\n",
            "   macro avg       0.76      0.76      0.76        90\n",
            "weighted avg       0.79      0.79      0.79        90\n",
            "\n"
          ]
        },
        {
          "output_type": "execute_result",
          "data": {
            "text/plain": [
              "0.7888888888888889"
            ]
          },
          "metadata": {},
          "execution_count": 114
        }
      ]
    },
    {
      "cell_type": "code",
      "source": [
        "sns.heatmap(confusion_matrix(y_test,y_pred), cbar=True, annot=True)"
      ],
      "metadata": {
        "colab": {
          "base_uri": "https://localhost:8080/",
          "height": 282
        },
        "id": "ZluR_ig264E4",
        "outputId": "95d01ef8-ab38-4f80-fdeb-ba9b5e8d6981"
      },
      "execution_count": 115,
      "outputs": [
        {
          "output_type": "execute_result",
          "data": {
            "text/plain": [
              "<matplotlib.axes._subplots.AxesSubplot at 0x7faec8d54a30>"
            ]
          },
          "metadata": {},
          "execution_count": 115
        },
        {
          "output_type": "display_data",
          "data": {
            "text/plain": [
              "<Figure size 432x288 with 2 Axes>"
            ],
            "image/png": "[encoded data removed]"
          },
          "metadata": {
            "needs_background": "light"
          }
        }
      ]
    },
    {
      "cell_type": "code",
      "source": [
        "score_gradient_boosting =(accuracy_score(y_pred ,y_test)*100)\n",
        "score_gradient_boosting"
      ],
      "metadata": {
        "colab": {
          "base_uri": "https://localhost:8080/"
        },
        "id": "RuHsu4aF6-d7",
        "outputId": "6e9daf89-9fad-49e1-93a0-8f38c0f1b7bf"
      },
      "execution_count": 116,
      "outputs": [
        {
          "output_type": "execute_result",
          "data": {
            "text/plain": [
              "78.88888888888889"
            ]
          },
          "metadata": {},
          "execution_count": 116
        }
      ]
    },
    {
      "cell_type": "markdown",
      "source": [
        "**6. K-Nabliżsi sąsiedzi (K-Nearest Neighbor)**\n"
      ],
      "metadata": {
        "id": "NY5nO925dMy-"
      }
    },
    {
      "cell_type": "code",
      "source": [
        "# Sprawdzenie ile sąsiadów powinniśmy uwzględnić:\n",
        "\n",
        "KNN = []\n",
        "for neighbors in range(3,10):\n",
        "    classifier = KNeighborsClassifier(n_neighbors=neighbors)\n",
        "    classifier.fit(X_train, y_train)\n",
        "    y_pred = classifier.predict(X_test)\n",
        "    KNN.append(accuracy_score(y_test,y_pred))\n",
        "\n",
        "plt.plot(KNN)\n"
      ],
      "metadata": {
        "colab": {
          "base_uri": "https://localhost:8080/",
          "height": 285
        },
        "id": "AheIVo9bdHAu",
        "outputId": "7e088f24-5b47-4282-b4ab-ba6d78fe1a17"
      },
      "execution_count": 117,
      "outputs": [
        {
          "output_type": "execute_result",
          "data": {
            "text/plain": [
              "[<matplotlib.lines.Line2D at 0x7faec8c22730>]"
            ]
          },
          "metadata": {},
          "execution_count": 117
        },
        {
          "output_type": "display_data",
          "data": {
            "text/plain": [
              "<Figure size 432x288 with 1 Axes>"
            ],
            "image/png": "[encoded data removed]"
          },
          "metadata": {
            "needs_background": "light"
          }
        }
      ]
    },
    {
      "cell_type": "code",
      "source": [
        "\n",
        "classification = KNeighborsClassifier(n_neighbors=4)\n",
        "classification.fit(X_train, y_train)\n",
        "y_pred = classification.predict(X_test)\n"
      ],
      "metadata": {
        "id": "Ent51YSpe7h6"
      },
      "execution_count": 118,
      "outputs": []
    },
    {
      "cell_type": "code",
      "source": [
        "print(classification_report(y_test,y_pred))\n",
        "accuracy = accuracy_score(y_test, y_pred)\n",
        "accuracy "
      ],
      "metadata": {
        "colab": {
          "base_uri": "https://localhost:8080/"
        },
        "id": "JVWpuEhz7kPN",
        "outputId": "0ffe98b7-ca91-45a5-b5eb-16ea71025979"
      },
      "execution_count": 119,
      "outputs": [
        {
          "output_type": "stream",
          "name": "stdout",
          "text": [
            "              precision    recall  f1-score   support\n",
            "\n",
            "           0       0.71      0.95      0.81        60\n",
            "           1       0.70      0.23      0.35        30\n",
            "\n",
            "    accuracy                           0.71        90\n",
            "   macro avg       0.71      0.59      0.58        90\n",
            "weighted avg       0.71      0.71      0.66        90\n",
            "\n"
          ]
        },
        {
          "output_type": "execute_result",
          "data": {
            "text/plain": [
              "0.7111111111111111"
            ]
          },
          "metadata": {},
          "execution_count": 119
        }
      ]
    },
    {
      "cell_type": "code",
      "source": [
        "sns.heatmap(confusion_matrix(y_test,y_pred), cbar=True, annot=True)"
      ],
      "metadata": {
        "colab": {
          "base_uri": "https://localhost:8080/",
          "height": 282
        },
        "id": "cBg4Tv4f7ql1",
        "outputId": "8d20b22e-68ed-4c1d-c589-11afed53ea45"
      },
      "execution_count": 120,
      "outputs": [
        {
          "output_type": "execute_result",
          "data": {
            "text/plain": [
              "<matplotlib.axes._subplots.AxesSubplot at 0x7faec8bd3850>"
            ]
          },
          "metadata": {},
          "execution_count": 120
        },
        {
          "output_type": "display_data",
          "data": {
            "text/plain": [
              "<Figure size 432x288 with 2 Axes>"
            ],
            "image/png": "[encoded data removed]"
          },
          "metadata": {
            "needs_background": "light"
          }
        }
      ]
    },
    {
      "cell_type": "code",
      "source": [
        "score_KNN =(accuracy_score(y_pred ,y_test)*100)\n",
        "score_KNN"
      ],
      "metadata": {
        "colab": {
          "base_uri": "https://localhost:8080/"
        },
        "id": "dML_ZUg57uZg",
        "outputId": "1a5ff6a1-c5b6-4664-ece0-6edb3510d2db"
      },
      "execution_count": 121,
      "outputs": [
        {
          "output_type": "execute_result",
          "data": {
            "text/plain": [
              "71.11111111111111"
            ]
          },
          "metadata": {},
          "execution_count": 121
        }
      ]
    },
    {
      "cell_type": "code",
      "source": [
        "models = ['Regresja Logistyczna', 'SVM','Drzewo decyzyjne', 'Las Losowy', 'Gradient Boosting', 'K-najbliżsi sąsiedzi']\n",
        "\n",
        "print(score_random_forest, score_vector_machine,score_decision_tree, score_random_forest, score_gradient_boosting, score_KNN)"
      ],
      "metadata": {
        "colab": {
          "base_uri": "https://localhost:8080/"
        },
        "id": "fGveOBalkZWs",
        "outputId": "9d6b3c2d-38af-41eb-990f-440a0c0e4e3e"
      },
      "execution_count": 138,
      "outputs": [
        {
          "output_type": "stream",
          "name": "stdout",
          "text": [
            "(78.88888888888889, 2) 77.78 77.78 (78.88888888888889, 2) 78.88888888888889 71.11111111111111\n"
          ]
        }
      ]
    },
    {
      "cell_type": "code",
      "source": [
        "models = ['Regresja Logistyczna', 'SVM','Drzewo decyzyjne', 'Las Losowy', 'Gradient Boosting', 'K-najbliżsi sąsiedzi']\n",
        "accuracy_score_list = [78.88888888888889, 77.78, 77.78, 80.88888888888889, 78.88888888888889, 71.11111111111111]\n",
        "\n",
        "plt.figure(figsize=(15,10))\n",
        "sns.barplot(x=models, y= accuracy_score_list)\n",
        "plt.xlabel('Modele Klasyfikacji')\n",
        "plt.ylabel('Accuracy Score')\n",
        "plt.show()"
      ],
      "metadata": {
        "colab": {
          "base_uri": "https://localhost:8080/",
          "height": 606
        },
        "id": "6OafKqNUfdtm",
        "outputId": "c1e3fc82-5cbb-4305-954c-3d426e9b88bb"
      },
      "execution_count": 140,
      "outputs": [
        {
          "output_type": "display_data",
          "data": {
            "text/plain": [
              "<Figure size 1080x720 with 1 Axes>"
            ],
            "image/png": "[encoded data removed]"
          },
          "metadata": {
            "needs_background": "light"
          }
        }
      ]
    },
    {
      "cell_type": "markdown",
      "source": [
        "do analizy najlepiej nadają się algorytmy regresji logistycznej, Lasu losowego, drzew decyzyjnych"
      ],
      "metadata": {
        "id": "hWmnzuTqkrYd"
      }
    },
    {
      "cell_type": "markdown",
      "source": [
        "**Komentarz:**\n",
        "\n",
        "Najlepszy model do oceny zdarzenia śmierci u pacjentów, to las losowy, co pokrywa się z wynikami publikacji"
      ],
      "metadata": {
        "id": "adDBvOVnsFTM"
      }
    },
    {
      "cell_type": "markdown",
      "source": [
        "**Implementacja sieci neuronowej**\n",
        "\n",
        "W wersji poprawionej!\n",
        "Ps. do tego miejsca nie zmieniałam NICZEGO powyżej. Poniżej implementuję \"nową sieć neuronową\" - tzn zaimplementowaną po Pana komentarzu na zajęciach podsumowujących (a jeszcze całkiem poniżej wyników stara sieć + 100 min klauna jak głupi błąd zrobiłam... nawet wstyd komentować)"
      ],
      "metadata": {
        "id": "BpaaV2g8iZS-"
      }
    },
    {
      "cell_type": "code",
      "source": [
        "\n",
        "early_stopping = callbacks.EarlyStopping(\n",
        "    min_delta=0.001, #minimalna ilość zmian, jaką mogę zaliczyć, jako poprawę\n",
        "    patience =20, #jak dużo epochow czekać \n",
        "    restore_best_weights=True)\n",
        "\n",
        "#zainicjowanie sieci neuronowej\n",
        "model = Sequential()\n",
        "\n",
        "#warstwy\n",
        "model.add(Dense(units = 16, kernel_initializer = 'uniform', activation = 'relu', input_dim = 12))\n",
        "model.add(Dense(units = 8, kernel_initializer = 'uniform', activation = 'relu'))\n",
        "model.add(Dropout(0.25))\n",
        "model.add(Dense(units = 8, kernel_initializer = 'uniform', activation = 'relu'))\n",
        "model.add(Dropout(0.5))\n",
        "model.add(Dense(units = 1, kernel_initializer = 'uniform', activation = 'sigmoid'))\n",
        "\n",
        "#kompilacja sieci neuronowej\n",
        "model.compile(optimizer = 'adam', loss = 'binary_crossentropy', metrics = ['accuracy'])\n",
        "\n",
        "# Train the ANN\n",
        "history = model.fit(X_train, y_train, batch_size = 25, epochs = 150,callbacks=[early_stopping], validation_split=0.25)\n",
        "\n"
      ],
      "metadata": {
        "id": "cLs2QFTvidjT",
        "colab": {
          "base_uri": "https://localhost:8080/"
        },
        "outputId": "9550aeec-a03b-4634-b088-575f667631c6"
      },
      "execution_count": 132,
      "outputs": [
        {
          "output_type": "stream",
          "name": "stdout",
          "text": [
            "Epoch 1/150\n",
            "7/7 [==============================] - 2s 61ms/step - loss: 0.6927 - accuracy: 0.6218 - val_loss: 0.6908 - val_accuracy: 0.8302\n",
            "Epoch 2/150\n",
            "7/7 [==============================] - 0s 11ms/step - loss: 0.6918 - accuracy: 0.6346 - val_loss: 0.6884 - val_accuracy: 0.8302\n",
            "Epoch 3/150\n",
            "7/7 [==============================] - 0s 12ms/step - loss: 0.6908 - accuracy: 0.6346 - val_loss: 0.6861 - val_accuracy: 0.8302\n",
            "Epoch 4/150\n",
            "7/7 [==============================] - 0s 17ms/step - loss: 0.6899 - accuracy: 0.6346 - val_loss: 0.6835 - val_accuracy: 0.8302\n",
            "Epoch 5/150\n",
            "7/7 [==============================] - 0s 12ms/step - loss: 0.6889 - accuracy: 0.6346 - val_loss: 0.6811 - val_accuracy: 0.8302\n",
            "Epoch 6/150\n",
            "7/7 [==============================] - 0s 12ms/step - loss: 0.6879 - accuracy: 0.6346 - val_loss: 0.6786 - val_accuracy: 0.8302\n",
            "Epoch 7/150\n",
            "7/7 [==============================] - 0s 13ms/step - loss: 0.6868 - accuracy: 0.6346 - val_loss: 0.6759 - val_accuracy: 0.8302\n",
            "Epoch 8/150\n",
            "7/7 [==============================] - 0s 12ms/step - loss: 0.6851 - accuracy: 0.6346 - val_loss: 0.6729 - val_accuracy: 0.8302\n",
            "Epoch 9/150\n",
            "7/7 [==============================] - 0s 13ms/step - loss: 0.6841 - accuracy: 0.6346 - val_loss: 0.6693 - val_accuracy: 0.8302\n",
            "Epoch 10/150\n",
            "7/7 [==============================] - 0s 10ms/step - loss: 0.6827 - accuracy: 0.6346 - val_loss: 0.6652 - val_accuracy: 0.8302\n",
            "Epoch 11/150\n",
            "7/7 [==============================] - 0s 6ms/step - loss: 0.6809 - accuracy: 0.6346 - val_loss: 0.6606 - val_accuracy: 0.8302\n",
            "Epoch 12/150\n",
            "7/7 [==============================] - 0s 6ms/step - loss: 0.6763 - accuracy: 0.6346 - val_loss: 0.6551 - val_accuracy: 0.8302\n",
            "Epoch 13/150\n",
            "7/7 [==============================] - 0s 8ms/step - loss: 0.6713 - accuracy: 0.6346 - val_loss: 0.6474 - val_accuracy: 0.8302\n",
            "Epoch 14/150\n",
            "7/7 [==============================] - 0s 6ms/step - loss: 0.6641 - accuracy: 0.6346 - val_loss: 0.6372 - val_accuracy: 0.8302\n",
            "Epoch 15/150\n",
            "7/7 [==============================] - 0s 6ms/step - loss: 0.6546 - accuracy: 0.6346 - val_loss: 0.6237 - val_accuracy: 0.8302\n",
            "Epoch 16/150\n",
            "7/7 [==============================] - 0s 8ms/step - loss: 0.6403 - accuracy: 0.6346 - val_loss: 0.6067 - val_accuracy: 0.8302\n",
            "Epoch 17/150\n",
            "7/7 [==============================] - 0s 6ms/step - loss: 0.6378 - accuracy: 0.6346 - val_loss: 0.5871 - val_accuracy: 0.8302\n",
            "Epoch 18/150\n",
            "7/7 [==============================] - 0s 6ms/step - loss: 0.6327 - accuracy: 0.6346 - val_loss: 0.5656 - val_accuracy: 0.8302\n",
            "Epoch 19/150\n",
            "7/7 [==============================] - 0s 6ms/step - loss: 0.6016 - accuracy: 0.6346 - val_loss: 0.5419 - val_accuracy: 0.8302\n",
            "Epoch 20/150\n",
            "7/7 [==============================] - 0s 6ms/step - loss: 0.5987 - accuracy: 0.6603 - val_loss: 0.5173 - val_accuracy: 0.8302\n",
            "Epoch 21/150\n",
            "7/7 [==============================] - 0s 6ms/step - loss: 0.5818 - accuracy: 0.6923 - val_loss: 0.4936 - val_accuracy: 0.8302\n",
            "Epoch 22/150\n",
            "7/7 [==============================] - 0s 6ms/step - loss: 0.5635 - accuracy: 0.7308 - val_loss: 0.4686 - val_accuracy: 0.8302\n",
            "Epoch 23/150\n",
            "7/7 [==============================] - 0s 9ms/step - loss: 0.5539 - accuracy: 0.7821 - val_loss: 0.4476 - val_accuracy: 0.8868\n",
            "Epoch 24/150\n",
            "7/7 [==============================] - 0s 6ms/step - loss: 0.5278 - accuracy: 0.7885 - val_loss: 0.4255 - val_accuracy: 0.9245\n",
            "Epoch 25/150\n",
            "7/7 [==============================] - 0s 9ms/step - loss: 0.4995 - accuracy: 0.8205 - val_loss: 0.4080 - val_accuracy: 0.9245\n",
            "Epoch 26/150\n",
            "7/7 [==============================] - 0s 6ms/step - loss: 0.5174 - accuracy: 0.7821 - val_loss: 0.3907 - val_accuracy: 0.9057\n",
            "Epoch 27/150\n",
            "7/7 [==============================] - 0s 6ms/step - loss: 0.4897 - accuracy: 0.7885 - val_loss: 0.3771 - val_accuracy: 0.9057\n",
            "Epoch 28/150\n",
            "7/7 [==============================] - 0s 6ms/step - loss: 0.4954 - accuracy: 0.8269 - val_loss: 0.3670 - val_accuracy: 0.8868\n",
            "Epoch 29/150\n",
            "7/7 [==============================] - 0s 7ms/step - loss: 0.4793 - accuracy: 0.8077 - val_loss: 0.3595 - val_accuracy: 0.9057\n",
            "Epoch 30/150\n",
            "7/7 [==============================] - 0s 7ms/step - loss: 0.4724 - accuracy: 0.7949 - val_loss: 0.3529 - val_accuracy: 0.8868\n",
            "Epoch 31/150\n",
            "7/7 [==============================] - 0s 6ms/step - loss: 0.4740 - accuracy: 0.8462 - val_loss: 0.3489 - val_accuracy: 0.8679\n",
            "Epoch 32/150\n",
            "7/7 [==============================] - 0s 7ms/step - loss: 0.5010 - accuracy: 0.7564 - val_loss: 0.3471 - val_accuracy: 0.8679\n",
            "Epoch 33/150\n",
            "7/7 [==============================] - 0s 7ms/step - loss: 0.4445 - accuracy: 0.8141 - val_loss: 0.3420 - val_accuracy: 0.8679\n",
            "Epoch 34/150\n",
            "7/7 [==============================] - 0s 9ms/step - loss: 0.4266 - accuracy: 0.8141 - val_loss: 0.3342 - val_accuracy: 0.8868\n",
            "Epoch 35/150\n",
            "7/7 [==============================] - 0s 7ms/step - loss: 0.4519 - accuracy: 0.8397 - val_loss: 0.3288 - val_accuracy: 0.8868\n",
            "Epoch 36/150\n",
            "7/7 [==============================] - 0s 7ms/step - loss: 0.4422 - accuracy: 0.8013 - val_loss: 0.3231 - val_accuracy: 0.8868\n",
            "Epoch 37/150\n",
            "7/7 [==============================] - 0s 6ms/step - loss: 0.4294 - accuracy: 0.8141 - val_loss: 0.3223 - val_accuracy: 0.8868\n",
            "Epoch 38/150\n",
            "7/7 [==============================] - 0s 6ms/step - loss: 0.4813 - accuracy: 0.8013 - val_loss: 0.3233 - val_accuracy: 0.8868\n",
            "Epoch 39/150\n",
            "7/7 [==============================] - 0s 9ms/step - loss: 0.4683 - accuracy: 0.8269 - val_loss: 0.3231 - val_accuracy: 0.8868\n",
            "Epoch 40/150\n",
            "7/7 [==============================] - 0s 6ms/step - loss: 0.4162 - accuracy: 0.8333 - val_loss: 0.3209 - val_accuracy: 0.8868\n",
            "Epoch 41/150\n",
            "7/7 [==============================] - 0s 7ms/step - loss: 0.4581 - accuracy: 0.8077 - val_loss: 0.3229 - val_accuracy: 0.8868\n",
            "Epoch 42/150\n",
            "7/7 [==============================] - 0s 9ms/step - loss: 0.4197 - accuracy: 0.8013 - val_loss: 0.3225 - val_accuracy: 0.8868\n",
            "Epoch 43/150\n",
            "7/7 [==============================] - 0s 9ms/step - loss: 0.4172 - accuracy: 0.8141 - val_loss: 0.3211 - val_accuracy: 0.8868\n",
            "Epoch 44/150\n",
            "7/7 [==============================] - 0s 7ms/step - loss: 0.4032 - accuracy: 0.7692 - val_loss: 0.3219 - val_accuracy: 0.8679\n",
            "Epoch 45/150\n",
            "7/7 [==============================] - 0s 6ms/step - loss: 0.3805 - accuracy: 0.8526 - val_loss: 0.3172 - val_accuracy: 0.8679\n",
            "Epoch 46/150\n",
            "7/7 [==============================] - 0s 9ms/step - loss: 0.4347 - accuracy: 0.7949 - val_loss: 0.3138 - val_accuracy: 0.8679\n",
            "Epoch 47/150\n",
            "7/7 [==============================] - 0s 8ms/step - loss: 0.4471 - accuracy: 0.7756 - val_loss: 0.3136 - val_accuracy: 0.8679\n",
            "Epoch 48/150\n",
            "7/7 [==============================] - 0s 9ms/step - loss: 0.4095 - accuracy: 0.8077 - val_loss: 0.3141 - val_accuracy: 0.8679\n",
            "Epoch 49/150\n",
            "7/7 [==============================] - 0s 6ms/step - loss: 0.4066 - accuracy: 0.8654 - val_loss: 0.3149 - val_accuracy: 0.8491\n",
            "Epoch 50/150\n",
            "7/7 [==============================] - 0s 9ms/step - loss: 0.3923 - accuracy: 0.8077 - val_loss: 0.3205 - val_accuracy: 0.8491\n",
            "Epoch 51/150\n",
            "7/7 [==============================] - 0s 8ms/step - loss: 0.4591 - accuracy: 0.7821 - val_loss: 0.3216 - val_accuracy: 0.8491\n",
            "Epoch 52/150\n",
            "7/7 [==============================] - 0s 6ms/step - loss: 0.4098 - accuracy: 0.8269 - val_loss: 0.3246 - val_accuracy: 0.8491\n",
            "Epoch 53/150\n",
            "7/7 [==============================] - 0s 6ms/step - loss: 0.4167 - accuracy: 0.8077 - val_loss: 0.3331 - val_accuracy: 0.8302\n",
            "Epoch 54/150\n",
            "7/7 [==============================] - 0s 9ms/step - loss: 0.4280 - accuracy: 0.8269 - val_loss: 0.3362 - val_accuracy: 0.8302\n",
            "Epoch 55/150\n",
            "7/7 [==============================] - 0s 9ms/step - loss: 0.4202 - accuracy: 0.8462 - val_loss: 0.3367 - val_accuracy: 0.8302\n",
            "Epoch 56/150\n",
            "7/7 [==============================] - 0s 6ms/step - loss: 0.4279 - accuracy: 0.8397 - val_loss: 0.3366 - val_accuracy: 0.8302\n",
            "Epoch 57/150\n",
            "7/7 [==============================] - 0s 6ms/step - loss: 0.4218 - accuracy: 0.8462 - val_loss: 0.3382 - val_accuracy: 0.8302\n",
            "Epoch 58/150\n",
            "7/7 [==============================] - 0s 6ms/step - loss: 0.3777 - accuracy: 0.8269 - val_loss: 0.3393 - val_accuracy: 0.8491\n",
            "Epoch 59/150\n",
            "7/7 [==============================] - 0s 6ms/step - loss: 0.3862 - accuracy: 0.8654 - val_loss: 0.3392 - val_accuracy: 0.8491\n",
            "Epoch 60/150\n",
            "7/7 [==============================] - 0s 6ms/step - loss: 0.3788 - accuracy: 0.8526 - val_loss: 0.3405 - val_accuracy: 0.8491\n",
            "Epoch 61/150\n",
            "7/7 [==============================] - 0s 9ms/step - loss: 0.3646 - accuracy: 0.8462 - val_loss: 0.3361 - val_accuracy: 0.8491\n",
            "Epoch 62/150\n",
            "7/7 [==============================] - 0s 9ms/step - loss: 0.3756 - accuracy: 0.8590 - val_loss: 0.3316 - val_accuracy: 0.8491\n",
            "Epoch 63/150\n",
            "7/7 [==============================] - 0s 9ms/step - loss: 0.4344 - accuracy: 0.8397 - val_loss: 0.3255 - val_accuracy: 0.8491\n",
            "Epoch 64/150\n",
            "7/7 [==============================] - 0s 6ms/step - loss: 0.3965 - accuracy: 0.8462 - val_loss: 0.3211 - val_accuracy: 0.8491\n",
            "Epoch 65/150\n",
            "7/7 [==============================] - 0s 9ms/step - loss: 0.4145 - accuracy: 0.8269 - val_loss: 0.3145 - val_accuracy: 0.8491\n",
            "Epoch 66/150\n",
            "7/7 [==============================] - 0s 6ms/step - loss: 0.3774 - accuracy: 0.8526 - val_loss: 0.3096 - val_accuracy: 0.8491\n",
            "Epoch 67/150\n",
            "7/7 [==============================] - 0s 6ms/step - loss: 0.3852 - accuracy: 0.8526 - val_loss: 0.3091 - val_accuracy: 0.8491\n",
            "Epoch 68/150\n",
            "7/7 [==============================] - 0s 9ms/step - loss: 0.4297 - accuracy: 0.8333 - val_loss: 0.3113 - val_accuracy: 0.8491\n",
            "Epoch 69/150\n",
            "7/7 [==============================] - 0s 10ms/step - loss: 0.3720 - accuracy: 0.8333 - val_loss: 0.3098 - val_accuracy: 0.8491\n",
            "Epoch 70/150\n",
            "7/7 [==============================] - 0s 9ms/step - loss: 0.4044 - accuracy: 0.8462 - val_loss: 0.3071 - val_accuracy: 0.8491\n",
            "Epoch 71/150\n",
            "7/7 [==============================] - 0s 9ms/step - loss: 0.3964 - accuracy: 0.8462 - val_loss: 0.3059 - val_accuracy: 0.8491\n",
            "Epoch 72/150\n",
            "7/7 [==============================] - 0s 8ms/step - loss: 0.3644 - accuracy: 0.8462 - val_loss: 0.3068 - val_accuracy: 0.8302\n",
            "Epoch 73/150\n",
            "7/7 [==============================] - 0s 9ms/step - loss: 0.3835 - accuracy: 0.8590 - val_loss: 0.3048 - val_accuracy: 0.8302\n",
            "Epoch 74/150\n",
            "7/7 [==============================] - 0s 7ms/step - loss: 0.3603 - accuracy: 0.8654 - val_loss: 0.3046 - val_accuracy: 0.8302\n",
            "Epoch 75/150\n",
            "7/7 [==============================] - 0s 6ms/step - loss: 0.3748 - accuracy: 0.8526 - val_loss: 0.3067 - val_accuracy: 0.8302\n",
            "Epoch 76/150\n",
            "7/7 [==============================] - 0s 6ms/step - loss: 0.3898 - accuracy: 0.8654 - val_loss: 0.3130 - val_accuracy: 0.8302\n",
            "Epoch 77/150\n",
            "7/7 [==============================] - 0s 9ms/step - loss: 0.3740 - accuracy: 0.8590 - val_loss: 0.3202 - val_accuracy: 0.8302\n",
            "Epoch 78/150\n",
            "7/7 [==============================] - 0s 6ms/step - loss: 0.3563 - accuracy: 0.8462 - val_loss: 0.3242 - val_accuracy: 0.8302\n",
            "Epoch 79/150\n",
            "7/7 [==============================] - 0s 15ms/step - loss: 0.3343 - accuracy: 0.8718 - val_loss: 0.3270 - val_accuracy: 0.8302\n",
            "Epoch 80/150\n",
            "7/7 [==============================] - 0s 9ms/step - loss: 0.3798 - accuracy: 0.8462 - val_loss: 0.3309 - val_accuracy: 0.8302\n",
            "Epoch 81/150\n",
            "7/7 [==============================] - 0s 13ms/step - loss: 0.3586 - accuracy: 0.8654 - val_loss: 0.3263 - val_accuracy: 0.8302\n",
            "Epoch 82/150\n",
            "7/7 [==============================] - 0s 18ms/step - loss: 0.3389 - accuracy: 0.8590 - val_loss: 0.3205 - val_accuracy: 0.8302\n",
            "Epoch 83/150\n",
            "7/7 [==============================] - 0s 11ms/step - loss: 0.3478 - accuracy: 0.8654 - val_loss: 0.3203 - val_accuracy: 0.8302\n",
            "Epoch 84/150\n",
            "7/7 [==============================] - 0s 13ms/step - loss: 0.3702 - accuracy: 0.8590 - val_loss: 0.3187 - val_accuracy: 0.8302\n",
            "Epoch 85/150\n",
            "7/7 [==============================] - 0s 15ms/step - loss: 0.3382 - accuracy: 0.8590 - val_loss: 0.3220 - val_accuracy: 0.8302\n",
            "Epoch 86/150\n",
            "7/7 [==============================] - 0s 14ms/step - loss: 0.3657 - accuracy: 0.8654 - val_loss: 0.3235 - val_accuracy: 0.8302\n",
            "Epoch 87/150\n",
            "7/7 [==============================] - 0s 13ms/step - loss: 0.3693 - accuracy: 0.8654 - val_loss: 0.3235 - val_accuracy: 0.8302\n",
            "Epoch 88/150\n",
            "7/7 [==============================] - 0s 12ms/step - loss: 0.3074 - accuracy: 0.8974 - val_loss: 0.3232 - val_accuracy: 0.8302\n",
            "Epoch 89/150\n",
            "7/7 [==============================] - 0s 16ms/step - loss: 0.3549 - accuracy: 0.8333 - val_loss: 0.3225 - val_accuracy: 0.8302\n",
            "Epoch 90/150\n",
            "7/7 [==============================] - 0s 12ms/step - loss: 0.3277 - accuracy: 0.8654 - val_loss: 0.3182 - val_accuracy: 0.8302\n",
            "Epoch 91/150\n",
            "7/7 [==============================] - 0s 12ms/step - loss: 0.3254 - accuracy: 0.8782 - val_loss: 0.3119 - val_accuracy: 0.8491\n",
            "Epoch 92/150\n",
            "7/7 [==============================] - 0s 14ms/step - loss: 0.3339 - accuracy: 0.8590 - val_loss: 0.3115 - val_accuracy: 0.8491\n",
            "Epoch 93/150\n",
            "7/7 [==============================] - 0s 20ms/step - loss: 0.3408 - accuracy: 0.8782 - val_loss: 0.3111 - val_accuracy: 0.8491\n"
          ]
        }
      ]
    },
    {
      "cell_type": "code",
      "source": [
        "y_pred_nn = model.predict(X_test)"
      ],
      "metadata": {
        "colab": {
          "base_uri": "https://localhost:8080/"
        },
        "id": "vLwvs7tgx0ku",
        "outputId": "3203c9d2-a460-4321-82bf-5782238b8e0d"
      },
      "execution_count": 126,
      "outputs": [
        {
          "output_type": "stream",
          "name": "stdout",
          "text": [
            "3/3 [==============================] - 0s 7ms/step\n"
          ]
        }
      ]
    },
    {
      "cell_type": "code",
      "source": [
        "y_pred_nn.shape"
      ],
      "metadata": {
        "colab": {
          "base_uri": "https://localhost:8080/"
        },
        "id": "SsuakaNUyCXh",
        "outputId": "da3926ea-2393-43c7-bf67-0bab5e7c3120"
      },
      "execution_count": 128,
      "outputs": [
        {
          "output_type": "execute_result",
          "data": {
            "text/plain": [
              "(90, 1)"
            ]
          },
          "metadata": {},
          "execution_count": 128
        }
      ]
    },
    {
      "cell_type": "code",
      "source": [
        "rounded = [round(x[0]) for x in y_pred_nn]\n",
        "\n",
        "y_pred_nn = rounded"
      ],
      "metadata": {
        "id": "tTq3ddwTyGas"
      },
      "execution_count": 129,
      "outputs": []
    },
    {
      "cell_type": "code",
      "source": [
        "score_nn = round(accuracy_score(y_pred_nn,y_test)*100,2)\n",
        "\n",
        "print(\"The accuracy score achieved using Neural Network is: \"+str(score_nn)+\" %\")"
      ],
      "metadata": {
        "colab": {
          "base_uri": "https://localhost:8080/"
        },
        "id": "V51ojk0hy4YA",
        "outputId": "a4d750ea-1fa2-4068-afe3-97ac7ec577af"
      },
      "execution_count": 130,
      "outputs": [
        {
          "output_type": "stream",
          "name": "stdout",
          "text": [
            "The accuracy score achieved using Neural Network is: 76.67 %\n"
          ]
        }
      ]
    },
    {
      "cell_type": "code",
      "source": [
        "# Wyplotowanie model accuracy\n",
        "\n",
        "%matplotlib inline\n",
        "\n",
        "plt.plot(history.history['accuracy'])\n",
        "plt.plot(history.history['val_accuracy'])\n",
        "plt.title('Model Accuracy')\n",
        "plt.ylabel('accuracy')\n",
        "plt.xlabel('epoch')\n",
        "plt.legend(['train', 'test'])\n",
        "plt.show()"
      ],
      "metadata": {
        "colab": {
          "base_uri": "https://localhost:8080/",
          "height": 295
        },
        "outputId": "b0e7299a-0369-4808-a91b-bc44a92de30e",
        "id": "CkQOH_FzjADf"
      },
      "execution_count": 133,
      "outputs": [
        {
          "output_type": "display_data",
          "data": {
            "text/plain": [
              "<Figure size 432x288 with 1 Axes>"
            ],
            "image/png": "[encoded data removed]"
          },
          "metadata": {
            "needs_background": "light"
          }
        }
      ]
    },
    {
      "cell_type": "code",
      "source": [
        "# model loss\n",
        "\n",
        "plt.plot(history.history['loss'])\n",
        "plt.plot(history.history['val_loss'])\n",
        "plt.title('Model Loss')\n",
        "plt.ylabel('loss')\n",
        "plt.xlabel('epoch')\n",
        "plt.legend(['train', 'test'])\n",
        "plt.show()"
      ],
      "metadata": {
        "colab": {
          "base_uri": "https://localhost:8080/",
          "height": 295
        },
        "id": "OM_JgEQ4jK--",
        "outputId": "a164f72d-da40-480e-ce1a-fecc685586e6"
      },
      "execution_count": 134,
      "outputs": [
        {
          "output_type": "display_data",
          "data": {
            "text/plain": [
              "<Figure size 432x288 with 1 Axes>"
            ],
            "image/png": "[encoded data removed]"
          },
          "metadata": {
            "needs_background": "light"
          }
        }
      ]
    },
    {
      "cell_type": "code",
      "source": [
        "models = ['Regresja Logistyczna', 'SVM','Drzewo decyzyjne', 'Las Losowy', 'Gradient Boosting', 'K-najbliżsi sąsiedzi', 'Sieć neuronowa']\n",
        "accuracy_score_list = [78.88888888888889, 77.78, 77.78, 80.88888888888889, 78.88888888888889, 71.11111111111111, 76.67]\n",
        "\n",
        "plt.figure(figsize=(15,10))\n",
        "sns.barplot(x=models, y= accuracy_score_list)\n",
        "plt.xlabel('Modele Klasyfikacji')\n",
        "plt.ylabel('Accuracy Score')\n",
        "plt.show()"
      ],
      "metadata": {
        "colab": {
          "base_uri": "https://localhost:8080/",
          "height": 606
        },
        "outputId": "08d25e4b-c91b-4f5d-81e2-4fe5dc3bd42e",
        "id": "mkHs-NVqlF_H"
      },
      "execution_count": 142,
      "outputs": [
        {
          "output_type": "display_data",
          "data": {
            "text/plain": [
              "<Figure size 1080x720 with 1 Axes>"
            ],
            "image/png": "[encoded data removed]"
          },
          "metadata": {
            "needs_background": "light"
          }
        }
      ]
    },
    {
      "cell_type": "markdown",
      "source": [
        "**Sieć Neuronowa -- wersja \"STARA\"** \n",
        "\n",
        "Znalazłam błąd. mianowicie - brak warstw (tutaj powinnam chyba wrzucić minę klauna !!!! Najgorsze, że to byl chyba mój ulubiony temat z zajęć i doskonale wiem, że trzeba warstwy!!! Nie wiem jak mogłam to przeoczyć :( (w tym miejscu kolejna mina klauna albo nawet trzy)"
      ],
      "metadata": {
        "id": "hDHAJck4jqom"
      }
    },
    {
      "cell_type": "code",
      "source": [
        "model = Sequential()\n",
        "model.add(Dense(11,activation='relu',input_dim=12))\n",
        "model.add(Dense(1,activation='sigmoid'))\n",
        "\n",
        "model.compile(loss='binary_crossentropy',optimizer='adam',metrics=['accuracy'])\n",
        "\n",
        "print(model.summary())"
      ],
      "metadata": {
        "colab": {
          "base_uri": "https://localhost:8080/"
        },
        "id": "A38HfwCTjsZ6",
        "outputId": "710b61cc-db97-4e4e-dee0-f7df865c588a"
      },
      "execution_count": null,
      "outputs": [
        {
          "output_type": "stream",
          "name": "stdout",
          "text": [
            "Model: \"sequential_14\"\n",
            "_________________________________________________________________\n",
            " Layer (type)                Output Shape              Param #   \n",
            "=================================================================\n",
            " dense_37 (Dense)            (None, 11)                143       \n",
            "                                                                 \n",
            " dense_38 (Dense)            (None, 1)                 12        \n",
            "                                                                 \n",
            "=================================================================\n",
            "Total params: 155\n",
            "Trainable params: 155\n",
            "Non-trainable params: 0\n",
            "_________________________________________________________________\n",
            "None\n"
          ]
        }
      ]
    },
    {
      "cell_type": "code",
      "source": [
        "# fit the model to the training data\n",
        "a =model.fit(X_train, y_train, validation_data=(X_test, y_test),epochs=150, batch_size=10)"
      ],
      "metadata": {
        "colab": {
          "base_uri": "https://localhost:8080/"
        },
        "id": "EyPOA7qLj5bJ",
        "outputId": "8ad8df0c-0484-483a-83bf-dae87fc19702"
      },
      "execution_count": null,
      "outputs": [
        {
          "output_type": "stream",
          "name": "stdout",
          "text": [
            "Epoch 1/150\n",
            "29/29 [==============================] - 1s 9ms/step - loss: 36429.1211 - accuracy: 0.5000 - val_loss: 31765.1816 - val_accuracy: 0.5000\n",
            "Epoch 2/150\n",
            "29/29 [==============================] - 0s 4ms/step - loss: 25609.0098 - accuracy: 0.5000 - val_loss: 20440.4160 - val_accuracy: 0.5000\n",
            "Epoch 3/150\n",
            "29/29 [==============================] - 0s 4ms/step - loss: 15240.7451 - accuracy: 0.5000 - val_loss: 10682.1953 - val_accuracy: 0.5000\n",
            "Epoch 4/150\n",
            "29/29 [==============================] - 0s 4ms/step - loss: 5735.8618 - accuracy: 0.5000 - val_loss: 853.7404 - val_accuracy: 0.5000\n",
            "Epoch 5/150\n",
            "29/29 [==============================] - 0s 5ms/step - loss: 549.9177 - accuracy: 0.4965 - val_loss: 137.2326 - val_accuracy: 0.5246\n",
            "Epoch 6/150\n",
            "29/29 [==============================] - 0s 4ms/step - loss: 117.8762 - accuracy: 0.4542 - val_loss: 110.2772 - val_accuracy: 0.5246\n",
            "Epoch 7/150\n",
            "29/29 [==============================] - 0s 5ms/step - loss: 105.4371 - accuracy: 0.4859 - val_loss: 120.3484 - val_accuracy: 0.5000\n",
            "Epoch 8/150\n",
            "29/29 [==============================] - 0s 4ms/step - loss: 105.6371 - accuracy: 0.4789 - val_loss: 167.5434 - val_accuracy: 0.5000\n",
            "Epoch 9/150\n",
            "29/29 [==============================] - 0s 5ms/step - loss: 103.8671 - accuracy: 0.4894 - val_loss: 45.0923 - val_accuracy: 0.4754\n",
            "Epoch 10/150\n",
            "29/29 [==============================] - 0s 4ms/step - loss: 83.2680 - accuracy: 0.4824 - val_loss: 124.7328 - val_accuracy: 0.5000\n",
            "Epoch 11/150\n",
            "29/29 [==============================] - 0s 5ms/step - loss: 164.7540 - accuracy: 0.4930 - val_loss: 41.4261 - val_accuracy: 0.5164\n",
            "Epoch 12/150\n",
            "29/29 [==============================] - 0s 4ms/step - loss: 106.6837 - accuracy: 0.5141 - val_loss: 37.5819 - val_accuracy: 0.5082\n",
            "Epoch 13/150\n",
            "29/29 [==============================] - 0s 4ms/step - loss: 67.4354 - accuracy: 0.4542 - val_loss: 28.3763 - val_accuracy: 0.4590\n",
            "Epoch 14/150\n",
            "29/29 [==============================] - 0s 4ms/step - loss: 128.6424 - accuracy: 0.4577 - val_loss: 88.3729 - val_accuracy: 0.5000\n",
            "Epoch 15/150\n",
            "29/29 [==============================] - 0s 4ms/step - loss: 70.2599 - accuracy: 0.4824 - val_loss: 60.6727 - val_accuracy: 0.5164\n",
            "Epoch 16/150\n",
            "29/29 [==============================] - 0s 4ms/step - loss: 91.0858 - accuracy: 0.4930 - val_loss: 122.7575 - val_accuracy: 0.5082\n",
            "Epoch 17/150\n",
            "29/29 [==============================] - 0s 5ms/step - loss: 51.8448 - accuracy: 0.5070 - val_loss: 42.9607 - val_accuracy: 0.5246\n",
            "Epoch 18/150\n",
            "29/29 [==============================] - 0s 4ms/step - loss: 35.4265 - accuracy: 0.5352 - val_loss: 84.9211 - val_accuracy: 0.5000\n",
            "Epoch 19/150\n",
            "29/29 [==============================] - 0s 4ms/step - loss: 78.6426 - accuracy: 0.5352 - val_loss: 65.0858 - val_accuracy: 0.5000\n",
            "Epoch 20/150\n",
            "29/29 [==============================] - 0s 4ms/step - loss: 42.3595 - accuracy: 0.5035 - val_loss: 109.7087 - val_accuracy: 0.5000\n",
            "Epoch 21/150\n",
            "29/29 [==============================] - 0s 4ms/step - loss: 61.3560 - accuracy: 0.4965 - val_loss: 66.5481 - val_accuracy: 0.4918\n",
            "Epoch 22/150\n",
            "29/29 [==============================] - 0s 4ms/step - loss: 22.1473 - accuracy: 0.5106 - val_loss: 18.0525 - val_accuracy: 0.5000\n",
            "Epoch 23/150\n",
            "29/29 [==============================] - 0s 4ms/step - loss: 40.7542 - accuracy: 0.4683 - val_loss: 87.1773 - val_accuracy: 0.5000\n",
            "Epoch 24/150\n",
            "29/29 [==============================] - 0s 6ms/step - loss: 56.6505 - accuracy: 0.4859 - val_loss: 48.0547 - val_accuracy: 0.5000\n",
            "Epoch 25/150\n",
            "29/29 [==============================] - 0s 4ms/step - loss: 28.4694 - accuracy: 0.5423 - val_loss: 19.6783 - val_accuracy: 0.5164\n",
            "Epoch 26/150\n",
            "29/29 [==============================] - 0s 4ms/step - loss: 44.5852 - accuracy: 0.5000 - val_loss: 7.2462 - val_accuracy: 0.6393\n",
            "Epoch 27/150\n",
            "29/29 [==============================] - 0s 4ms/step - loss: 21.3375 - accuracy: 0.5810 - val_loss: 85.2952 - val_accuracy: 0.5000\n",
            "Epoch 28/150\n",
            "29/29 [==============================] - 0s 6ms/step - loss: 37.7468 - accuracy: 0.5563 - val_loss: 10.7187 - val_accuracy: 0.5246\n",
            "Epoch 29/150\n",
            "29/29 [==============================] - 0s 5ms/step - loss: 16.4709 - accuracy: 0.5739 - val_loss: 21.2576 - val_accuracy: 0.5082\n",
            "Epoch 30/150\n",
            "29/29 [==============================] - 0s 5ms/step - loss: 43.9812 - accuracy: 0.5317 - val_loss: 99.6159 - val_accuracy: 0.5000\n",
            "Epoch 31/150\n",
            "29/29 [==============================] - 0s 4ms/step - loss: 20.2071 - accuracy: 0.5775 - val_loss: 19.7511 - val_accuracy: 0.5164\n",
            "Epoch 32/150\n",
            "29/29 [==============================] - 0s 4ms/step - loss: 21.7960 - accuracy: 0.5176 - val_loss: 18.1135 - val_accuracy: 0.5164\n",
            "Epoch 33/150\n",
            "29/29 [==============================] - 0s 4ms/step - loss: 66.1127 - accuracy: 0.4613 - val_loss: 9.1196 - val_accuracy: 0.5902\n",
            "Epoch 34/150\n",
            "29/29 [==============================] - 0s 4ms/step - loss: 13.7885 - accuracy: 0.6268 - val_loss: 36.3285 - val_accuracy: 0.5082\n",
            "Epoch 35/150\n",
            "29/29 [==============================] - 0s 5ms/step - loss: 39.9505 - accuracy: 0.5458 - val_loss: 51.4209 - val_accuracy: 0.5000\n",
            "Epoch 36/150\n",
            "29/29 [==============================] - 0s 5ms/step - loss: 32.6071 - accuracy: 0.5986 - val_loss: 6.1944 - val_accuracy: 0.6311\n",
            "Epoch 37/150\n",
            "29/29 [==============================] - 0s 4ms/step - loss: 47.1100 - accuracy: 0.4754 - val_loss: 22.8522 - val_accuracy: 0.5164\n",
            "Epoch 38/150\n",
            "29/29 [==============================] - 0s 5ms/step - loss: 63.2854 - accuracy: 0.5352 - val_loss: 8.5927 - val_accuracy: 0.5738\n",
            "Epoch 39/150\n",
            "29/29 [==============================] - 0s 4ms/step - loss: 21.2763 - accuracy: 0.6056 - val_loss: 4.2872 - val_accuracy: 0.7377\n",
            "Epoch 40/150\n",
            "29/29 [==============================] - 0s 4ms/step - loss: 47.6985 - accuracy: 0.5810 - val_loss: 56.9276 - val_accuracy: 0.5000\n",
            "Epoch 41/150\n",
            "29/29 [==============================] - 0s 4ms/step - loss: 68.6957 - accuracy: 0.5141 - val_loss: 5.0808 - val_accuracy: 0.7377\n",
            "Epoch 42/150\n",
            "29/29 [==============================] - 0s 6ms/step - loss: 30.3835 - accuracy: 0.5493 - val_loss: 12.4852 - val_accuracy: 0.5820\n",
            "Epoch 43/150\n",
            "29/29 [==============================] - 0s 5ms/step - loss: 55.8381 - accuracy: 0.5035 - val_loss: 26.0594 - val_accuracy: 0.5164\n",
            "Epoch 44/150\n",
            "29/29 [==============================] - 0s 4ms/step - loss: 49.9395 - accuracy: 0.5493 - val_loss: 62.7720 - val_accuracy: 0.5000\n",
            "Epoch 45/150\n",
            "29/29 [==============================] - 0s 4ms/step - loss: 20.6900 - accuracy: 0.5563 - val_loss: 4.0087 - val_accuracy: 0.7705\n",
            "Epoch 46/150\n",
            "29/29 [==============================] - 0s 4ms/step - loss: 7.8300 - accuracy: 0.6690 - val_loss: 9.8432 - val_accuracy: 0.6311\n",
            "Epoch 47/150\n",
            "29/29 [==============================] - 0s 5ms/step - loss: 94.5016 - accuracy: 0.4754 - val_loss: 112.8303 - val_accuracy: 0.5000\n",
            "Epoch 48/150\n",
            "29/29 [==============================] - 0s 4ms/step - loss: 46.6989 - accuracy: 0.5563 - val_loss: 80.4721 - val_accuracy: 0.5000\n",
            "Epoch 49/150\n",
            "29/29 [==============================] - 0s 4ms/step - loss: 21.4287 - accuracy: 0.6549 - val_loss: 5.4979 - val_accuracy: 0.6639\n",
            "Epoch 50/150\n",
            "29/29 [==============================] - 0s 4ms/step - loss: 47.5437 - accuracy: 0.5000 - val_loss: 29.6280 - val_accuracy: 0.5164\n",
            "Epoch 51/150\n",
            "29/29 [==============================] - 0s 4ms/step - loss: 38.1638 - accuracy: 0.5669 - val_loss: 14.5848 - val_accuracy: 0.5328\n",
            "Epoch 52/150\n",
            "29/29 [==============================] - 0s 4ms/step - loss: 28.2821 - accuracy: 0.5986 - val_loss: 5.7714 - val_accuracy: 0.6967\n",
            "Epoch 53/150\n",
            "29/29 [==============================] - 0s 5ms/step - loss: 10.8381 - accuracy: 0.6479 - val_loss: 8.2131 - val_accuracy: 0.6311\n",
            "Epoch 54/150\n",
            "29/29 [==============================] - 0s 4ms/step - loss: 14.2905 - accuracy: 0.6725 - val_loss: 73.9198 - val_accuracy: 0.5000\n",
            "Epoch 55/150\n",
            "29/29 [==============================] - 0s 4ms/step - loss: 31.6467 - accuracy: 0.6092 - val_loss: 28.0615 - val_accuracy: 0.5246\n",
            "Epoch 56/150\n",
            "29/29 [==============================] - 0s 4ms/step - loss: 49.5442 - accuracy: 0.5387 - val_loss: 13.7998 - val_accuracy: 0.5902\n",
            "Epoch 57/150\n",
            "29/29 [==============================] - 0s 4ms/step - loss: 20.4605 - accuracy: 0.6197 - val_loss: 4.3550 - val_accuracy: 0.7459\n",
            "Epoch 58/150\n",
            "29/29 [==============================] - 0s 4ms/step - loss: 11.5701 - accuracy: 0.6479 - val_loss: 25.9297 - val_accuracy: 0.5000\n",
            "Epoch 59/150\n",
            "29/29 [==============================] - 0s 4ms/step - loss: 21.0125 - accuracy: 0.6268 - val_loss: 54.0746 - val_accuracy: 0.5000\n",
            "Epoch 60/150\n",
            "29/29 [==============================] - 0s 6ms/step - loss: 49.9338 - accuracy: 0.5211 - val_loss: 17.7037 - val_accuracy: 0.5656\n",
            "Epoch 61/150\n",
            "29/29 [==============================] - 0s 4ms/step - loss: 12.1500 - accuracy: 0.6479 - val_loss: 18.3737 - val_accuracy: 0.5246\n",
            "Epoch 62/150\n",
            "29/29 [==============================] - 0s 4ms/step - loss: 43.1023 - accuracy: 0.5141 - val_loss: 15.1063 - val_accuracy: 0.5738\n",
            "Epoch 63/150\n",
            "29/29 [==============================] - 0s 4ms/step - loss: 33.5869 - accuracy: 0.5669 - val_loss: 11.0688 - val_accuracy: 0.5984\n",
            "Epoch 64/150\n",
            "29/29 [==============================] - 0s 4ms/step - loss: 25.2016 - accuracy: 0.5880 - val_loss: 41.4814 - val_accuracy: 0.5082\n",
            "Epoch 65/150\n",
            "29/29 [==============================] - 0s 4ms/step - loss: 30.4124 - accuracy: 0.5106 - val_loss: 58.0940 - val_accuracy: 0.5000\n",
            "Epoch 66/150\n",
            "29/29 [==============================] - 0s 4ms/step - loss: 44.9355 - accuracy: 0.5352 - val_loss: 7.5072 - val_accuracy: 0.6721\n",
            "Epoch 67/150\n",
            "29/29 [==============================] - 0s 4ms/step - loss: 14.4096 - accuracy: 0.6268 - val_loss: 11.0918 - val_accuracy: 0.6311\n",
            "Epoch 68/150\n",
            "29/29 [==============================] - 0s 4ms/step - loss: 38.5046 - accuracy: 0.5387 - val_loss: 39.2411 - val_accuracy: 0.5164\n",
            "Epoch 69/150\n",
            "29/29 [==============================] - 0s 4ms/step - loss: 32.4127 - accuracy: 0.5352 - val_loss: 6.2493 - val_accuracy: 0.6721\n",
            "Epoch 70/150\n",
            "29/29 [==============================] - 0s 6ms/step - loss: 22.2522 - accuracy: 0.6162 - val_loss: 11.3869 - val_accuracy: 0.6311\n",
            "Epoch 71/150\n",
            "29/29 [==============================] - 0s 4ms/step - loss: 31.8027 - accuracy: 0.5915 - val_loss: 12.9220 - val_accuracy: 0.5820\n",
            "Epoch 72/150\n",
            "29/29 [==============================] - 0s 4ms/step - loss: 37.1322 - accuracy: 0.5070 - val_loss: 45.7397 - val_accuracy: 0.5000\n",
            "Epoch 73/150\n",
            "29/29 [==============================] - 0s 4ms/step - loss: 30.0904 - accuracy: 0.5845 - val_loss: 4.4791 - val_accuracy: 0.7705\n",
            "Epoch 74/150\n",
            "29/29 [==============================] - 0s 4ms/step - loss: 11.4742 - accuracy: 0.7042 - val_loss: 4.3766 - val_accuracy: 0.7541\n",
            "Epoch 75/150\n",
            "29/29 [==============================] - 0s 4ms/step - loss: 23.9930 - accuracy: 0.6021 - val_loss: 46.5856 - val_accuracy: 0.5000\n",
            "Epoch 76/150\n",
            "29/29 [==============================] - 0s 4ms/step - loss: 25.6621 - accuracy: 0.6197 - val_loss: 110.7611 - val_accuracy: 0.5000\n",
            "Epoch 77/150\n",
            "29/29 [==============================] - 0s 4ms/step - loss: 49.1936 - accuracy: 0.5106 - val_loss: 16.2783 - val_accuracy: 0.5328\n",
            "Epoch 78/150\n",
            "29/29 [==============================] - 0s 4ms/step - loss: 79.4887 - accuracy: 0.5035 - val_loss: 5.9659 - val_accuracy: 0.7377\n",
            "Epoch 79/150\n",
            "29/29 [==============================] - 0s 4ms/step - loss: 11.0822 - accuracy: 0.6937 - val_loss: 5.1261 - val_accuracy: 0.7623\n",
            "Epoch 80/150\n",
            "29/29 [==============================] - 0s 4ms/step - loss: 24.4195 - accuracy: 0.6127 - val_loss: 8.4296 - val_accuracy: 0.6721\n",
            "Epoch 81/150\n",
            "29/29 [==============================] - 0s 4ms/step - loss: 27.4400 - accuracy: 0.5458 - val_loss: 72.8970 - val_accuracy: 0.5000\n",
            "Epoch 82/150\n",
            "29/29 [==============================] - 0s 4ms/step - loss: 29.3026 - accuracy: 0.5704 - val_loss: 4.9735 - val_accuracy: 0.7541\n",
            "Epoch 83/150\n",
            "29/29 [==============================] - 0s 4ms/step - loss: 15.9257 - accuracy: 0.6056 - val_loss: 52.9604 - val_accuracy: 0.5000\n",
            "Epoch 84/150\n",
            "29/29 [==============================] - 0s 4ms/step - loss: 19.5951 - accuracy: 0.6127 - val_loss: 8.3209 - val_accuracy: 0.6803\n",
            "Epoch 85/150\n",
            "29/29 [==============================] - 0s 4ms/step - loss: 44.2038 - accuracy: 0.5986 - val_loss: 79.1194 - val_accuracy: 0.5000\n",
            "Epoch 86/150\n",
            "29/29 [==============================] - 0s 5ms/step - loss: 59.6357 - accuracy: 0.5423 - val_loss: 9.4180 - val_accuracy: 0.6721\n",
            "Epoch 87/150\n",
            "29/29 [==============================] - 0s 4ms/step - loss: 16.5980 - accuracy: 0.6338 - val_loss: 71.1132 - val_accuracy: 0.5000\n",
            "Epoch 88/150\n",
            "29/29 [==============================] - 0s 4ms/step - loss: 33.3518 - accuracy: 0.5986 - val_loss: 20.1170 - val_accuracy: 0.5738\n",
            "Epoch 89/150\n",
            "29/29 [==============================] - 0s 5ms/step - loss: 28.9872 - accuracy: 0.5493 - val_loss: 27.7505 - val_accuracy: 0.5410\n",
            "Epoch 90/150\n",
            "29/29 [==============================] - 0s 4ms/step - loss: 38.2159 - accuracy: 0.5106 - val_loss: 21.6444 - val_accuracy: 0.5328\n",
            "Epoch 91/150\n",
            "29/29 [==============================] - 0s 4ms/step - loss: 23.5979 - accuracy: 0.6162 - val_loss: 45.2885 - val_accuracy: 0.5082\n",
            "Epoch 92/150\n",
            "29/29 [==============================] - 0s 4ms/step - loss: 55.2372 - accuracy: 0.5739 - val_loss: 56.7341 - val_accuracy: 0.5082\n",
            "Epoch 93/150\n",
            "29/29 [==============================] - 0s 5ms/step - loss: 40.6147 - accuracy: 0.5423 - val_loss: 28.4092 - val_accuracy: 0.5246\n",
            "Epoch 94/150\n",
            "29/29 [==============================] - 0s 4ms/step - loss: 30.0939 - accuracy: 0.5423 - val_loss: 19.4865 - val_accuracy: 0.5902\n",
            "Epoch 95/150\n",
            "29/29 [==============================] - 0s 4ms/step - loss: 40.3500 - accuracy: 0.5317 - val_loss: 51.0791 - val_accuracy: 0.5082\n",
            "Epoch 96/150\n",
            "29/29 [==============================] - 0s 4ms/step - loss: 47.9563 - accuracy: 0.5845 - val_loss: 81.3512 - val_accuracy: 0.5000\n",
            "Epoch 97/150\n",
            "29/29 [==============================] - 0s 4ms/step - loss: 24.7163 - accuracy: 0.5669 - val_loss: 12.5972 - val_accuracy: 0.6639\n",
            "Epoch 98/150\n",
            "29/29 [==============================] - 0s 4ms/step - loss: 29.5393 - accuracy: 0.5810 - val_loss: 20.0501 - val_accuracy: 0.5738\n",
            "Epoch 99/150\n",
            "29/29 [==============================] - 0s 4ms/step - loss: 23.4769 - accuracy: 0.6092 - val_loss: 14.6612 - val_accuracy: 0.5984\n",
            "Epoch 100/150\n",
            "29/29 [==============================] - 0s 4ms/step - loss: 17.8540 - accuracy: 0.5704 - val_loss: 8.2898 - val_accuracy: 0.6721\n",
            "Epoch 101/150\n",
            "29/29 [==============================] - 0s 4ms/step - loss: 44.4420 - accuracy: 0.5669 - val_loss: 245.2897 - val_accuracy: 0.5000\n",
            "Epoch 102/150\n",
            "29/29 [==============================] - 0s 6ms/step - loss: 122.8569 - accuracy: 0.5704 - val_loss: 83.5102 - val_accuracy: 0.5000\n",
            "Epoch 103/150\n",
            "29/29 [==============================] - 0s 4ms/step - loss: 52.2014 - accuracy: 0.5599 - val_loss: 25.1209 - val_accuracy: 0.5410\n",
            "Epoch 104/150\n",
            "29/29 [==============================] - 0s 6ms/step - loss: 30.1222 - accuracy: 0.5704 - val_loss: 10.6194 - val_accuracy: 0.6721\n",
            "Epoch 105/150\n",
            "29/29 [==============================] - 0s 4ms/step - loss: 22.8597 - accuracy: 0.6021 - val_loss: 29.8166 - val_accuracy: 0.5246\n",
            "Epoch 106/150\n",
            "29/29 [==============================] - 0s 4ms/step - loss: 13.0056 - accuracy: 0.6831 - val_loss: 8.8223 - val_accuracy: 0.6967\n",
            "Epoch 107/150\n",
            "29/29 [==============================] - 0s 4ms/step - loss: 33.8211 - accuracy: 0.6021 - val_loss: 41.1182 - val_accuracy: 0.5410\n",
            "Epoch 108/150\n",
            "29/29 [==============================] - 0s 4ms/step - loss: 65.9429 - accuracy: 0.5493 - val_loss: 20.1296 - val_accuracy: 0.5820\n",
            "Epoch 109/150\n",
            "29/29 [==============================] - 0s 5ms/step - loss: 17.1693 - accuracy: 0.6479 - val_loss: 5.2016 - val_accuracy: 0.7787\n",
            "Epoch 110/150\n",
            "29/29 [==============================] - 0s 4ms/step - loss: 16.2298 - accuracy: 0.6444 - val_loss: 29.3281 - val_accuracy: 0.5574\n",
            "Epoch 111/150\n",
            "29/29 [==============================] - 0s 4ms/step - loss: 21.6650 - accuracy: 0.6127 - val_loss: 17.0044 - val_accuracy: 0.5902\n",
            "Epoch 112/150\n",
            "29/29 [==============================] - 0s 4ms/step - loss: 16.2736 - accuracy: 0.6655 - val_loss: 26.8153 - val_accuracy: 0.5410\n",
            "Epoch 113/150\n",
            "29/29 [==============================] - 0s 4ms/step - loss: 26.5000 - accuracy: 0.6021 - val_loss: 7.1801 - val_accuracy: 0.7131\n",
            "Epoch 114/150\n",
            "29/29 [==============================] - 0s 6ms/step - loss: 17.9067 - accuracy: 0.6620 - val_loss: 86.0171 - val_accuracy: 0.5000\n",
            "Epoch 115/150\n",
            "29/29 [==============================] - 0s 5ms/step - loss: 38.6017 - accuracy: 0.5246 - val_loss: 22.0567 - val_accuracy: 0.5820\n",
            "Epoch 116/150\n",
            "29/29 [==============================] - 0s 5ms/step - loss: 20.7945 - accuracy: 0.6197 - val_loss: 12.0199 - val_accuracy: 0.6803\n",
            "Epoch 117/150\n",
            "29/29 [==============================] - 0s 6ms/step - loss: 32.6087 - accuracy: 0.5634 - val_loss: 78.7195 - val_accuracy: 0.5000\n",
            "Epoch 118/150\n",
            "29/29 [==============================] - 0s 4ms/step - loss: 36.4666 - accuracy: 0.5599 - val_loss: 81.3298 - val_accuracy: 0.5000\n",
            "Epoch 119/150\n",
            "29/29 [==============================] - 0s 4ms/step - loss: 53.5793 - accuracy: 0.5563 - val_loss: 5.9076 - val_accuracy: 0.7787\n",
            "Epoch 120/150\n",
            "29/29 [==============================] - 0s 4ms/step - loss: 20.8840 - accuracy: 0.5810 - val_loss: 35.9737 - val_accuracy: 0.5164\n",
            "Epoch 121/150\n",
            "29/29 [==============================] - 0s 4ms/step - loss: 27.4842 - accuracy: 0.6338 - val_loss: 12.5733 - val_accuracy: 0.6639\n",
            "Epoch 122/150\n",
            "29/29 [==============================] - 0s 5ms/step - loss: 33.0927 - accuracy: 0.5775 - val_loss: 5.6713 - val_accuracy: 0.7787\n",
            "Epoch 123/150\n",
            "29/29 [==============================] - 0s 4ms/step - loss: 22.4843 - accuracy: 0.6620 - val_loss: 62.9150 - val_accuracy: 0.5000\n",
            "Epoch 124/150\n",
            "29/29 [==============================] - 0s 5ms/step - loss: 61.1931 - accuracy: 0.5070 - val_loss: 147.2016 - val_accuracy: 0.5000\n",
            "Epoch 125/150\n",
            "29/29 [==============================] - 0s 6ms/step - loss: 54.9361 - accuracy: 0.5704 - val_loss: 88.4151 - val_accuracy: 0.5000\n",
            "Epoch 126/150\n",
            "29/29 [==============================] - 0s 6ms/step - loss: 55.8226 - accuracy: 0.5669 - val_loss: 6.6440 - val_accuracy: 0.7459\n",
            "Epoch 127/150\n",
            "29/29 [==============================] - 0s 5ms/step - loss: 15.3126 - accuracy: 0.6585 - val_loss: 12.7755 - val_accuracy: 0.6885\n",
            "Epoch 128/150\n",
            "29/29 [==============================] - 0s 6ms/step - loss: 23.8224 - accuracy: 0.6373 - val_loss: 25.3068 - val_accuracy: 0.5328\n",
            "Epoch 129/150\n",
            "29/29 [==============================] - 0s 4ms/step - loss: 32.0911 - accuracy: 0.5986 - val_loss: 8.9845 - val_accuracy: 0.7131\n",
            "Epoch 130/150\n",
            "29/29 [==============================] - 0s 4ms/step - loss: 13.1515 - accuracy: 0.6620 - val_loss: 9.0506 - val_accuracy: 0.7131\n",
            "Epoch 131/150\n",
            "29/29 [==============================] - 0s 4ms/step - loss: 12.7281 - accuracy: 0.6761 - val_loss: 31.8033 - val_accuracy: 0.5492\n",
            "Epoch 132/150\n",
            "29/29 [==============================] - 0s 4ms/step - loss: 20.8154 - accuracy: 0.6338 - val_loss: 16.0815 - val_accuracy: 0.5984\n",
            "Epoch 133/150\n",
            "29/29 [==============================] - 0s 6ms/step - loss: 15.3934 - accuracy: 0.6796 - val_loss: 5.3178 - val_accuracy: 0.7459\n",
            "Epoch 134/150\n",
            "29/29 [==============================] - 0s 4ms/step - loss: 11.1056 - accuracy: 0.6725 - val_loss: 16.7738 - val_accuracy: 0.6311\n",
            "Epoch 135/150\n",
            "29/29 [==============================] - 0s 5ms/step - loss: 33.6233 - accuracy: 0.5845 - val_loss: 109.4695 - val_accuracy: 0.5000\n",
            "Epoch 136/150\n",
            "29/29 [==============================] - 0s 4ms/step - loss: 76.4920 - accuracy: 0.5246 - val_loss: 69.4598 - val_accuracy: 0.5000\n",
            "Epoch 137/150\n",
            "29/29 [==============================] - 0s 4ms/step - loss: 77.5034 - accuracy: 0.5528 - val_loss: 175.4241 - val_accuracy: 0.5000\n",
            "Epoch 138/150\n",
            "29/29 [==============================] - 0s 6ms/step - loss: 55.9391 - accuracy: 0.5423 - val_loss: 8.9301 - val_accuracy: 0.6885\n",
            "Epoch 139/150\n",
            "29/29 [==============================] - 0s 4ms/step - loss: 22.3509 - accuracy: 0.6162 - val_loss: 78.8975 - val_accuracy: 0.5000\n",
            "Epoch 140/150\n",
            "29/29 [==============================] - 0s 5ms/step - loss: 63.9502 - accuracy: 0.5669 - val_loss: 9.1210 - val_accuracy: 0.7049\n",
            "Epoch 141/150\n",
            "29/29 [==============================] - 0s 4ms/step - loss: 11.8919 - accuracy: 0.6549 - val_loss: 5.4221 - val_accuracy: 0.7623\n",
            "Epoch 142/150\n",
            "29/29 [==============================] - 0s 5ms/step - loss: 10.1055 - accuracy: 0.6866 - val_loss: 14.9606 - val_accuracy: 0.6148\n",
            "Epoch 143/150\n",
            "29/29 [==============================] - 0s 4ms/step - loss: 14.9506 - accuracy: 0.6549 - val_loss: 14.1659 - val_accuracy: 0.6066\n",
            "Epoch 144/150\n",
            "29/29 [==============================] - 0s 4ms/step - loss: 24.9775 - accuracy: 0.6268 - val_loss: 50.0274 - val_accuracy: 0.5246\n",
            "Epoch 145/150\n",
            "29/29 [==============================] - 0s 4ms/step - loss: 18.3569 - accuracy: 0.6444 - val_loss: 19.3669 - val_accuracy: 0.6066\n",
            "Epoch 146/150\n",
            "29/29 [==============================] - 0s 4ms/step - loss: 29.7096 - accuracy: 0.5775 - val_loss: 6.5726 - val_accuracy: 0.7213\n",
            "Epoch 147/150\n",
            "29/29 [==============================] - 0s 4ms/step - loss: 19.2446 - accuracy: 0.6585 - val_loss: 83.4167 - val_accuracy: 0.5000\n",
            "Epoch 148/150\n",
            "29/29 [==============================] - 0s 4ms/step - loss: 35.7598 - accuracy: 0.5739 - val_loss: 74.2069 - val_accuracy: 0.5000\n",
            "Epoch 149/150\n",
            "29/29 [==============================] - 0s 4ms/step - loss: 70.3142 - accuracy: 0.4894 - val_loss: 58.5955 - val_accuracy: 0.5082\n",
            "Epoch 150/150\n",
            "29/29 [==============================] - 0s 4ms/step - loss: 30.2795 - accuracy: 0.5810 - val_loss: 155.4582 - val_accuracy: 0.5000\n"
          ]
        }
      ]
    },
    {
      "cell_type": "code",
      "source": [
        "# Wyplotowanie model accuracy\n",
        "\n",
        "%matplotlib inline\n",
        "\n",
        "plt.plot(history.history['accuracy'])\n",
        "plt.plot(history.history['val_accuracy'])\n",
        "plt.title('Model Accuracy')\n",
        "plt.ylabel('accuracy')\n",
        "plt.xlabel('epoch')\n",
        "plt.legend(['train', 'test'])\n",
        "plt.show()"
      ],
      "metadata": {
        "colab": {
          "base_uri": "https://localhost:8080/",
          "height": 295
        },
        "id": "nYEb-osknYKo",
        "outputId": "af31ea81-8011-499a-c314-0c69a9879d0e"
      },
      "execution_count": null,
      "outputs": [
        {
          "output_type": "display_data",
          "data": {
            "text/plain": [
              "<Figure size 432x288 with 1 Axes>"
            ],
            "image/png": "[encoded data removed]"
          },
          "metadata": {
            "needs_background": "light"
          }
        }
      ]
    },
    {
      "cell_type": "code",
      "source": [
        "# model loss\n",
        "\n",
        "plt.plot(history.history['loss'])\n",
        "plt.plot(history.history['val_loss'])\n",
        "plt.title('Model Loss')\n",
        "plt.ylabel('loss')\n",
        "plt.xlabel('epoch')\n",
        "plt.legend(['train', 'test'])\n",
        "plt.show()"
      ],
      "metadata": {
        "colab": {
          "base_uri": "https://localhost:8080/",
          "height": 295
        },
        "id": "TtbQHCqSpFA4",
        "outputId": "6c531ce4-ee46-4559-f173-39d0840db9e9"
      },
      "execution_count": null,
      "outputs": [
        {
          "output_type": "display_data",
          "data": {
            "text/plain": [
              "<Figure size 432x288 with 1 Axes>"
            ],
            "image/png": "[encoded data removed]"
          },
          "metadata": {
            "needs_background": "light"
          }
        }
      ]
    },
    {
      "cell_type": "code",
      "source": [],
      "metadata": {
        "id": "--jnNQojuN9K"
      },
      "execution_count": null,
      "outputs": []
    }
  ]
}