{
  "nbformat": 4,
  "nbformat_minor": 0,
  "metadata": {
    "colab": {
      "provenance": []
    },
    "kernelspec": {
      "name": "python3",
      "display_name": "Python 3"
    },
    "language_info": {
      "name": "python"
    }
  },
  "cells": [
    {
      "cell_type": "markdown",
      "source": [
        "**Cel projektu:**\n",
        "(analiza datasetu) Celem projektu jest: Podwierdzenie dwóch cech będących w największej korelacji ze zdarzeniem śmierci u pacjentów (od strony analizy danych)\n",
        "(Machine Learning part) Celem projektu zastosowanie znalezienie z pośród zaproponowanych przez autorów klasyfikatorów, najlepszej metody do oceny przeżycia.\n",
        "\n",
        "\n",
        "**Zbiór danych:** \n",
        "\n",
        "Projekt został zrealizowany w oparciu o artykuł: Chicco, D., Jurman, G. Machine learning can predict survival of patients with heart failure from serum creatinine and ejection fraction alone. BMC Med Inform Decis Mak 20, 16 (2020). https://doi.org/10.1186/s12911-020-1023-5 znaleziony na stronie: Machine learning can predict survival of patients with heart failure from serum creatinine and ejection fraction alone | BMC Medical Informatics and Decision Making | Full Text (biomedcentral.com) (open access)\n",
        "\n",
        "**Źródło i opis danych:**\n",
        "Dane do projektu zostały pobrane ze strony UCI – Machine Learning repository. W źródłach literaturowych artykułu znajduje się bezpośredni link do źródła :  UCI Machine Learning Repository: Heart failure clinical records Data Set (open access)"
      ],
      "metadata": {
        "id": "ddJu_7RnAtwj"
      }
    },
    {
      "cell_type": "markdown",
      "source": [
        "**Zaimportowanie bibliotek**"
      ],
      "metadata": {
        "id": "gMrqVoSAwxWT"
      }
    },
    {
      "cell_type": "code",
      "source": [
        "## Wizualizacja i przegląd datasetu\n",
        "import numpy as np\n",
        "import pandas as pd\n",
        "import matplotlib as mt \n",
        "import matplotlib.pyplot as plt\n",
        "from matplotlib import rcParams\n",
        "import seaborn as sns #do macierzy korelacji\n",
        "from sklearn.preprocessing import LabelEncoder, OneHotEncoder #do przekształcenia zmiennych kategorycznych w binarne\n",
        "\n",
        "## Import bibliotek do części Machine Learning\n",
        "from sklearn.model_selection import train_test_split\n",
        "from sklearn.preprocessing import StandardScaler\n",
        "from sklearn.feature_selection import mutual_info_classif\n",
        "from imblearn.over_sampling import SMOTE\n",
        "from sklearn.metrics import accuracy_score, confusion_matrix, classification_report\n",
        "from sklearn.linear_model import LogisticRegression\n",
        "from sklearn.neighbors import KNeighborsClassifier\n",
        "from sklearn.svm import SVC\n",
        "from sklearn.tree import DecisionTreeClassifier\n",
        "from sklearn.ensemble import RandomForestClassifier\n",
        "from sklearn.ensemble import GradientBoostingClassifier\n",
        "\n",
        "\n",
        "# + biblioteki do Neuronal Network\n",
        "from keras.models import Sequential\n",
        "from keras.layers import Dense\n",
        "from keras.optimizers import Adam\n",
        "from keras.layers import Dropout\n",
        "from keras import regularizers\n",
        "\n"
      ],
      "metadata": {
        "id": "0xbod__uw1FA"
      },
      "execution_count": 56,
      "outputs": []
    },
    {
      "cell_type": "markdown",
      "source": [],
      "metadata": {
        "id": "0Kw6vHuUqmBM"
      }
    },
    {
      "cell_type": "markdown",
      "source": [
        "**Zaimportowanie datasetu:**"
      ],
      "metadata": {
        "id": "1TOpuxEQvFT3"
      }
    },
    {
      "cell_type": "code",
      "source": [
        "from google.colab import files\n",
        "import io\n",
        "\n",
        "dataset = files.upload()"
      ],
      "metadata": {
        "colab": {
          "base_uri": "https://localhost:8080/",
          "height": 73
        },
        "id": "a9-kU3KUvNV4",
        "outputId": "d64c952a-3ece-4bf4-d158-61c1937ed686"
      },
      "execution_count": 8,
      "outputs": [
        {
          "output_type": "display_data",
          "data": {
            "text/plain": [
              "<IPython.core.display.HTML object>"
            ],
            "text/html": [
              "\n",
              "     <input type=\"file\" id=\"files-1e748b91-8ba8-4635-9086-dda4f8aa4227\" name=\"files[]\" multiple disabled\n",
              "        style=\"border:none\" />\n",
              "     <output id=\"result-1e748b91-8ba8-4635-9086-dda4f8aa4227\">\n",
              "      Upload widget is only available when the cell has been executed in the\n",
              "      current browser session. Please rerun this cell to enable.\n",
              "      </output>\n",
              "      <script>// Copyright 2017 Google LLC\n",
              "//\n",
              "// Licensed under the Apache License, Version 2.0 (the \"License\");\n",
              "// you may not use this file except in compliance with the License.\n",
              "// You may obtain a copy of the License at\n",
              "//\n",
              "//      http://www.apache.org/licenses/LICENSE-2.0\n",
              "//\n",
              "// Unless required by applicable law or agreed to in writing, software\n",
              "// distributed under the License is distributed on an \"AS IS\" BASIS,\n",
              "// WITHOUT WARRANTIES OR CONDITIONS OF ANY KIND, either express or implied.\n",
              "// See the License for the specific language governing permissions and\n",
              "// limitations under the License.\n",
              "\n",
              "/**\n",
              " * @fileoverview Helpers for google.colab Python module.\n",
              " */\n",
              "(function(scope) {\n",
              "function span(text, styleAttributes = {}) {\n",
              "  const element = document.createElement('span');\n",
              "  element.textContent = text;\n",
              "  for (const key of Object.keys(styleAttributes)) {\n",
              "    element.style[key] = styleAttributes[key];\n",
              "  }\n",
              "  return element;\n",
              "}\n",
              "\n",
              "// Max number of bytes which will be uploaded at a time.\n",
              "const MAX_PAYLOAD_SIZE = 100 * 1024;\n",
              "\n",
              "function _uploadFiles(inputId, outputId) {\n",
              "  const steps = uploadFilesStep(inputId, outputId);\n",
              "  const outputElement = document.getElementById(outputId);\n",
              "  // Cache steps on the outputElement to make it available for the next call\n",
              "  // to uploadFilesContinue from Python.\n",
              "  outputElement.steps = steps;\n",
              "\n",
              "  return _uploadFilesContinue(outputId);\n",
              "}\n",
              "\n",
              "// This is roughly an async generator (not supported in the browser yet),\n",
              "// where there are multiple asynchronous steps and the Python side is going\n",
              "// to poll for completion of each step.\n",
              "// This uses a Promise to block the python side on completion of each step,\n",
              "// then passes the result of the previous step as the input to the next step.\n",
              "function _uploadFilesContinue(outputId) {\n",
              "  const outputElement = document.getElementById(outputId);\n",
              "  const steps = outputElement.steps;\n",
              "\n",
              "  const next = steps.next(outputElement.lastPromiseValue);\n",
              "  return Promise.resolve(next.value.promise).then((value) => {\n",
              "    // Cache the last promise value to make it available to the next\n",
              "    // step of the generator.\n",
              "    outputElement.lastPromiseValue = value;\n",
              "    return next.value.response;\n",
              "  });\n",
              "}\n",
              "\n",
              "/**\n",
              " * Generator function which is called between each async step of the upload\n",
              " * process.\n",
              " * @param {string} inputId Element ID of the input file picker element.\n",
              " * @param {string} outputId Element ID of the output display.\n",
              " * @return {!Iterable<!Object>} Iterable of next steps.\n",
              " */\n",
              "function* uploadFilesStep(inputId, outputId) {\n",
              "  const inputElement = document.getElementById(inputId);\n",
              "  inputElement.disabled = false;\n",
              "\n",
              "  const outputElement = document.getElementById(outputId);\n",
              "  outputElement.innerHTML = '';\n",
              "\n",
              "  const pickedPromise = new Promise((resolve) => {\n",
              "    inputElement.addEventListener('change', (e) => {\n",
              "      resolve(e.target.files);\n",
              "    });\n",
              "  });\n",
              "\n",
              "  const cancel = document.createElement('button');\n",
              "  inputElement.parentElement.appendChild(cancel);\n",
              "  cancel.textContent = 'Cancel upload';\n",
              "  const cancelPromise = new Promise((resolve) => {\n",
              "    cancel.onclick = () => {\n",
              "      resolve(null);\n",
              "    };\n",
              "  });\n",
              "\n",
              "  // Wait for the user to pick the files.\n",
              "  const files = yield {\n",
              "    promise: Promise.race([pickedPromise, cancelPromise]),\n",
              "    response: {\n",
              "      action: 'starting',\n",
              "    }\n",
              "  };\n",
              "\n",
              "  cancel.remove();\n",
              "\n",
              "  // Disable the input element since further picks are not allowed.\n",
              "  inputElement.disabled = true;\n",
              "\n",
              "  if (!files) {\n",
              "    return {\n",
              "      response: {\n",
              "        action: 'complete',\n",
              "      }\n",
              "    };\n",
              "  }\n",
              "\n",
              "  for (const file of files) {\n",
              "    const li = document.createElement('li');\n",
              "    li.append(span(file.name, {fontWeight: 'bold'}));\n",
              "    li.append(span(\n",
              "        `(${file.type || 'n/a'}) - ${file.size} bytes, ` +\n",
              "        `last modified: ${\n",
              "            file.lastModifiedDate ? file.lastModifiedDate.toLocaleDateString() :\n",
              "                                    'n/a'} - `));\n",
              "    const percent = span('0% done');\n",
              "    li.appendChild(percent);\n",
              "\n",
              "    outputElement.appendChild(li);\n",
              "\n",
              "    const fileDataPromise = new Promise((resolve) => {\n",
              "      const reader = new FileReader();\n",
              "      reader.onload = (e) => {\n",
              "        resolve(e.target.result);\n",
              "      };\n",
              "      reader.readAsArrayBuffer(file);\n",
              "    });\n",
              "    // Wait for the data to be ready.\n",
              "    let fileData = yield {\n",
              "      promise: fileDataPromise,\n",
              "      response: {\n",
              "        action: 'continue',\n",
              "      }\n",
              "    };\n",
              "\n",
              "    // Use a chunked sending to avoid message size limits. See b/62115660.\n",
              "    let position = 0;\n",
              "    do {\n",
              "      const length = Math.min(fileData.byteLength - position, MAX_PAYLOAD_SIZE);\n",
              "      const chunk = new Uint8Array(fileData, position, length);\n",
              "      position += length;\n",
              "\n",
              "      const base64 = btoa(String.fromCharCode.apply(null, chunk));\n",
              "      yield {\n",
              "        response: {\n",
              "          action: 'append',\n",
              "          file: file.name,\n",
              "          data: base64,\n",
              "        },\n",
              "      };\n",
              "\n",
              "      let percentDone = fileData.byteLength === 0 ?\n",
              "          100 :\n",
              "          Math.round((position / fileData.byteLength) * 100);\n",
              "      percent.textContent = `${percentDone}% done`;\n",
              "\n",
              "    } while (position < fileData.byteLength);\n",
              "  }\n",
              "\n",
              "  // All done.\n",
              "  yield {\n",
              "    response: {\n",
              "      action: 'complete',\n",
              "    }\n",
              "  };\n",
              "}\n",
              "\n",
              "scope.google = scope.google || {};\n",
              "scope.google.colab = scope.google.colab || {};\n",
              "scope.google.colab._files = {\n",
              "  _uploadFiles,\n",
              "  _uploadFilesContinue,\n",
              "};\n",
              "})(self);\n",
              "</script> "
            ]
          },
          "metadata": {}
        },
        {
          "output_type": "stream",
          "name": "stdout",
          "text": [
            "Saving heart_failure_clinical_records_dataset.csv to heart_failure_clinical_records_dataset.csv\n"
          ]
        }
      ]
    },
    {
      "cell_type": "code",
      "source": [
        "ds = pd.read_csv(io.StringIO(dataset['heart_failure_clinical_records_dataset.csv'].decode('utf-8')))"
      ],
      "metadata": {
        "id": "qtqnsBx5vuzx"
      },
      "execution_count": 9,
      "outputs": []
    },
    {
      "cell_type": "markdown",
      "source": [
        "**Wizualizacja datasetu wraz z przeglądem danych**"
      ],
      "metadata": {
        "id": "PX4fPeTzw-9_"
      }
    },
    {
      "cell_type": "code",
      "source": [
        "ds.head(10)"
      ],
      "metadata": {
        "colab": {
          "base_uri": "https://localhost:8080/",
          "height": 363
        },
        "id": "l44QG7evxD0g",
        "outputId": "47370805-42eb-4b95-a556-5adcab67ead6"
      },
      "execution_count": 10,
      "outputs": [
        {
          "output_type": "execute_result",
          "data": {
            "text/plain": [
              "    age  anaemia  creatinine_phosphokinase  diabetes  ejection_fraction  \\\n",
              "0  75.0        0                       582         0                 20   \n",
              "1  55.0        0                      7861         0                 38   \n",
              "2  65.0        0                       146         0                 20   \n",
              "3  50.0        1                       111         0                 20   \n",
              "4  65.0        1                       160         1                 20   \n",
              "5  90.0        1                        47         0                 40   \n",
              "6  75.0        1                       246         0                 15   \n",
              "7  60.0        1                       315         1                 60   \n",
              "8  65.0        0                       157         0                 65   \n",
              "9  80.0        1                       123         0                 35   \n",
              "\n",
              "   high_blood_pressure  platelets  serum_creatinine  serum_sodium  sex  \\\n",
              "0                    1  265000.00               1.9           130    1   \n",
              "1                    0  263358.03               1.1           136    1   \n",
              "2                    0  162000.00               1.3           129    1   \n",
              "3                    0  210000.00               1.9           137    1   \n",
              "4                    0  327000.00               2.7           116    0   \n",
              "5                    1  204000.00               2.1           132    1   \n",
              "6                    0  127000.00               1.2           137    1   \n",
              "7                    0  454000.00               1.1           131    1   \n",
              "8                    0  263358.03               1.5           138    0   \n",
              "9                    1  388000.00               9.4           133    1   \n",
              "\n",
              "   smoking  time  DEATH_EVENT  \n",
              "0        0     4            1  \n",
              "1        0     6            1  \n",
              "2        1     7            1  \n",
              "3        0     7            1  \n",
              "4        0     8            1  \n",
              "5        1     8            1  \n",
              "6        0    10            1  \n",
              "7        1    10            1  \n",
              "8        0    10            1  \n",
              "9        1    10            1  "
            ],
            "text/html": [
              "\n",
              "  <div id=\"df-9ac22e45-7fc2-4861-89af-dc491de5b3ed\">\n",
              "    <div class=\"colab-df-container\">\n",
              "      <div>\n",
              "<style scoped>\n",
              "    .dataframe tbody tr th:only-of-type {\n",
              "        vertical-align: middle;\n",
              "    }\n",
              "\n",
              "    .dataframe tbody tr th {\n",
              "        vertical-align: top;\n",
              "    }\n",
              "\n",
              "    .dataframe thead th {\n",
              "        text-align: right;\n",
              "    }\n",
              "</style>\n",
              "<table border=\"1\" class=\"dataframe\">\n",
              "  <thead>\n",
              "    <tr style=\"text-align: right;\">\n",
              "      <th></th>\n",
              "      <th>age</th>\n",
              "      <th>anaemia</th>\n",
              "      <th>creatinine_phosphokinase</th>\n",
              "      <th>diabetes</th>\n",
              "      <th>ejection_fraction</th>\n",
              "      <th>high_blood_pressure</th>\n",
              "      <th>platelets</th>\n",
              "      <th>serum_creatinine</th>\n",
              "      <th>serum_sodium</th>\n",
              "      <th>sex</th>\n",
              "      <th>smoking</th>\n",
              "      <th>time</th>\n",
              "      <th>DEATH_EVENT</th>\n",
              "    </tr>\n",
              "  </thead>\n",
              "  <tbody>\n",
              "    <tr>\n",
              "      <th>0</th>\n",
              "      <td>75.0</td>\n",
              "      <td>0</td>\n",
              "      <td>582</td>\n",
              "      <td>0</td>\n",
              "      <td>20</td>\n",
              "      <td>1</td>\n",
              "      <td>265000.00</td>\n",
              "      <td>1.9</td>\n",
              "      <td>130</td>\n",
              "      <td>1</td>\n",
              "      <td>0</td>\n",
              "      <td>4</td>\n",
              "      <td>1</td>\n",
              "    </tr>\n",
              "    <tr>\n",
              "      <th>1</th>\n",
              "      <td>55.0</td>\n",
              "      <td>0</td>\n",
              "      <td>7861</td>\n",
              "      <td>0</td>\n",
              "      <td>38</td>\n",
              "      <td>0</td>\n",
              "      <td>263358.03</td>\n",
              "      <td>1.1</td>\n",
              "      <td>136</td>\n",
              "      <td>1</td>\n",
              "      <td>0</td>\n",
              "      <td>6</td>\n",
              "      <td>1</td>\n",
              "    </tr>\n",
              "    <tr>\n",
              "      <th>2</th>\n",
              "      <td>65.0</td>\n",
              "      <td>0</td>\n",
              "      <td>146</td>\n",
              "      <td>0</td>\n",
              "      <td>20</td>\n",
              "      <td>0</td>\n",
              "      <td>162000.00</td>\n",
              "      <td>1.3</td>\n",
              "      <td>129</td>\n",
              "      <td>1</td>\n",
              "      <td>1</td>\n",
              "      <td>7</td>\n",
              "      <td>1</td>\n",
              "    </tr>\n",
              "    <tr>\n",
              "      <th>3</th>\n",
              "      <td>50.0</td>\n",
              "      <td>1</td>\n",
              "      <td>111</td>\n",
              "      <td>0</td>\n",
              "      <td>20</td>\n",
              "      <td>0</td>\n",
              "      <td>210000.00</td>\n",
              "      <td>1.9</td>\n",
              "      <td>137</td>\n",
              "      <td>1</td>\n",
              "      <td>0</td>\n",
              "      <td>7</td>\n",
              "      <td>1</td>\n",
              "    </tr>\n",
              "    <tr>\n",
              "      <th>4</th>\n",
              "      <td>65.0</td>\n",
              "      <td>1</td>\n",
              "      <td>160</td>\n",
              "      <td>1</td>\n",
              "      <td>20</td>\n",
              "      <td>0</td>\n",
              "      <td>327000.00</td>\n",
              "      <td>2.7</td>\n",
              "      <td>116</td>\n",
              "      <td>0</td>\n",
              "      <td>0</td>\n",
              "      <td>8</td>\n",
              "      <td>1</td>\n",
              "    </tr>\n",
              "    <tr>\n",
              "      <th>5</th>\n",
              "      <td>90.0</td>\n",
              "      <td>1</td>\n",
              "      <td>47</td>\n",
              "      <td>0</td>\n",
              "      <td>40</td>\n",
              "      <td>1</td>\n",
              "      <td>204000.00</td>\n",
              "      <td>2.1</td>\n",
              "      <td>132</td>\n",
              "      <td>1</td>\n",
              "      <td>1</td>\n",
              "      <td>8</td>\n",
              "      <td>1</td>\n",
              "    </tr>\n",
              "    <tr>\n",
              "      <th>6</th>\n",
              "      <td>75.0</td>\n",
              "      <td>1</td>\n",
              "      <td>246</td>\n",
              "      <td>0</td>\n",
              "      <td>15</td>\n",
              "      <td>0</td>\n",
              "      <td>127000.00</td>\n",
              "      <td>1.2</td>\n",
              "      <td>137</td>\n",
              "      <td>1</td>\n",
              "      <td>0</td>\n",
              "      <td>10</td>\n",
              "      <td>1</td>\n",
              "    </tr>\n",
              "    <tr>\n",
              "      <th>7</th>\n",
              "      <td>60.0</td>\n",
              "      <td>1</td>\n",
              "      <td>315</td>\n",
              "      <td>1</td>\n",
              "      <td>60</td>\n",
              "      <td>0</td>\n",
              "      <td>454000.00</td>\n",
              "      <td>1.1</td>\n",
              "      <td>131</td>\n",
              "      <td>1</td>\n",
              "      <td>1</td>\n",
              "      <td>10</td>\n",
              "      <td>1</td>\n",
              "    </tr>\n",
              "    <tr>\n",
              "      <th>8</th>\n",
              "      <td>65.0</td>\n",
              "      <td>0</td>\n",
              "      <td>157</td>\n",
              "      <td>0</td>\n",
              "      <td>65</td>\n",
              "      <td>0</td>\n",
              "      <td>263358.03</td>\n",
              "      <td>1.5</td>\n",
              "      <td>138</td>\n",
              "      <td>0</td>\n",
              "      <td>0</td>\n",
              "      <td>10</td>\n",
              "      <td>1</td>\n",
              "    </tr>\n",
              "    <tr>\n",
              "      <th>9</th>\n",
              "      <td>80.0</td>\n",
              "      <td>1</td>\n",
              "      <td>123</td>\n",
              "      <td>0</td>\n",
              "      <td>35</td>\n",
              "      <td>1</td>\n",
              "      <td>388000.00</td>\n",
              "      <td>9.4</td>\n",
              "      <td>133</td>\n",
              "      <td>1</td>\n",
              "      <td>1</td>\n",
              "      <td>10</td>\n",
              "      <td>1</td>\n",
              "    </tr>\n",
              "  </tbody>\n",
              "</table>\n",
              "</div>\n",
              "      <button class=\"colab-df-convert\" onclick=\"convertToInteractive('df-9ac22e45-7fc2-4861-89af-dc491de5b3ed')\"\n",
              "              title=\"Convert this dataframe to an interactive table.\"\n",
              "              style=\"display:none;\">\n",
              "        \n",
              "  <svg xmlns=\"http://www.w3.org/2000/svg\" height=\"24px\"viewBox=\"0 0 24 24\"\n",
              "       width=\"24px\">\n",
              "    <path d=\"M0 0h24v24H0V0z\" fill=\"none\"/>\n",
              "    <path d=\"M18.56 5.44l.94 2.06.94-2.06 2.06-.94-2.06-.94-.94-2.06-.94 2.06-2.06.94zm-11 1L8.5 8.5l.94-2.06 2.06-.94-2.06-.94L8.5 2.5l-.94 2.06-2.06.94zm10 10l.94 2.06.94-2.06 2.06-.94-2.06-.94-.94-2.06-.94 2.06-2.06.94z\"/><path d=\"M17.41 7.96l-1.37-1.37c-.4-.4-.92-.59-1.43-.59-.52 0-1.04.2-1.43.59L10.3 9.45l-7.72 7.72c-.78.78-.78 2.05 0 2.83L4 21.41c.39.39.9.59 1.41.59.51 0 1.02-.2 1.41-.59l7.78-7.78 2.81-2.81c.8-.78.8-2.07 0-2.86zM5.41 20L4 18.59l7.72-7.72 1.47 1.35L5.41 20z\"/>\n",
              "  </svg>\n",
              "      </button>\n",
              "      \n",
              "  <style>\n",
              "    .colab-df-container {\n",
              "      display:flex;\n",
              "      flex-wrap:wrap;\n",
              "      gap: 12px;\n",
              "    }\n",
              "\n",
              "    .colab-df-convert {\n",
              "      background-color: #E8F0FE;\n",
              "      border: none;\n",
              "      border-radius: 50%;\n",
              "      cursor: pointer;\n",
              "      display: none;\n",
              "      fill: #1967D2;\n",
              "      height: 32px;\n",
              "      padding: 0 0 0 0;\n",
              "      width: 32px;\n",
              "    }\n",
              "\n",
              "    .colab-df-convert:hover {\n",
              "      background-color: #E2EBFA;\n",
              "      box-shadow: 0px 1px 2px rgba(60, 64, 67, 0.3), 0px 1px 3px 1px rgba(60, 64, 67, 0.15);\n",
              "      fill: #174EA6;\n",
              "    }\n",
              "\n",
              "    [theme=dark] .colab-df-convert {\n",
              "      background-color: #3B4455;\n",
              "      fill: #D2E3FC;\n",
              "    }\n",
              "\n",
              "    [theme=dark] .colab-df-convert:hover {\n",
              "      background-color: #434B5C;\n",
              "      box-shadow: 0px 1px 3px 1px rgba(0, 0, 0, 0.15);\n",
              "      filter: drop-shadow(0px 1px 2px rgba(0, 0, 0, 0.3));\n",
              "      fill: #FFFFFF;\n",
              "    }\n",
              "  </style>\n",
              "\n",
              "      <script>\n",
              "        const buttonEl =\n",
              "          document.querySelector('#df-9ac22e45-7fc2-4861-89af-dc491de5b3ed button.colab-df-convert');\n",
              "        buttonEl.style.display =\n",
              "          google.colab.kernel.accessAllowed ? 'block' : 'none';\n",
              "\n",
              "        async function convertToInteractive(key) {\n",
              "          const element = document.querySelector('#df-9ac22e45-7fc2-4861-89af-dc491de5b3ed');\n",
              "          const dataTable =\n",
              "            await google.colab.kernel.invokeFunction('convertToInteractive',\n",
              "                                                     [key], {});\n",
              "          if (!dataTable) return;\n",
              "\n",
              "          const docLinkHtml = 'Like what you see? Visit the ' +\n",
              "            '<a target=\"_blank\" href=https://colab.research.google.com/notebooks/data_table.ipynb>data table notebook</a>'\n",
              "            + ' to learn more about interactive tables.';\n",
              "          element.innerHTML = '';\n",
              "          dataTable['output_type'] = 'display_data';\n",
              "          await google.colab.output.renderOutput(dataTable, element);\n",
              "          const docLink = document.createElement('div');\n",
              "          docLink.innerHTML = docLinkHtml;\n",
              "          element.appendChild(docLink);\n",
              "        }\n",
              "      </script>\n",
              "    </div>\n",
              "  </div>\n",
              "  "
            ]
          },
          "metadata": {},
          "execution_count": 10
        }
      ]
    },
    {
      "cell_type": "code",
      "source": [
        "print(\"Liczba rekordów - wierszy: {}\\nLiczba zmiennych: {}\".format(ds.shape[0], ds.shape[1]))"
      ],
      "metadata": {
        "colab": {
          "base_uri": "https://localhost:8080/"
        },
        "id": "igDfPvfvxH6L",
        "outputId": "4be6933b-ec87-4c7f-b8a3-2ac0b606850e"
      },
      "execution_count": 11,
      "outputs": [
        {
          "output_type": "stream",
          "name": "stdout",
          "text": [
            "Liczba rekordów - wierszy: 299\n",
            "Liczba zmiennych: 13\n"
          ]
        }
      ]
    },
    {
      "cell_type": "code",
      "source": [
        "## sprawdzimy informację o datasecie\n",
        "ds.info() \n"
      ],
      "metadata": {
        "colab": {
          "base_uri": "https://localhost:8080/"
        },
        "id": "lhebeLEZxOes",
        "outputId": "3c6463d8-562b-49ca-d0a4-99d5a01bea21"
      },
      "execution_count": 12,
      "outputs": [
        {
          "output_type": "stream",
          "name": "stdout",
          "text": [
            "<class 'pandas.core.frame.DataFrame'>\n",
            "RangeIndex: 299 entries, 0 to 298\n",
            "Data columns (total 13 columns):\n",
            " #   Column                    Non-Null Count  Dtype  \n",
            "---  ------                    --------------  -----  \n",
            " 0   age                       299 non-null    float64\n",
            " 1   anaemia                   299 non-null    int64  \n",
            " 2   creatinine_phosphokinase  299 non-null    int64  \n",
            " 3   diabetes                  299 non-null    int64  \n",
            " 4   ejection_fraction         299 non-null    int64  \n",
            " 5   high_blood_pressure       299 non-null    int64  \n",
            " 6   platelets                 299 non-null    float64\n",
            " 7   serum_creatinine          299 non-null    float64\n",
            " 8   serum_sodium              299 non-null    int64  \n",
            " 9   sex                       299 non-null    int64  \n",
            " 10  smoking                   299 non-null    int64  \n",
            " 11  time                      299 non-null    int64  \n",
            " 12  DEATH_EVENT               299 non-null    int64  \n",
            "dtypes: float64(3), int64(10)\n",
            "memory usage: 30.5 KB\n"
          ]
        }
      ]
    },
    {
      "cell_type": "markdown",
      "source": [
        "* Typy danych, to floar64 i int 64, brak zmiennych kategorycznych trudnych w użytkowaniu do obliczeń ML\n"
      ],
      "metadata": {
        "id": "z37fn0DqxRTA"
      }
    },
    {
      "cell_type": "code",
      "source": [
        "#sprawdzenie czy columny mają jakieś wartości, których brakuje\n",
        "ds.isnull().sum()\n"
      ],
      "metadata": {
        "colab": {
          "base_uri": "https://localhost:8080/"
        },
        "id": "lnTxFIBqxMhI",
        "outputId": "2a4bcd2d-f136-4ebf-e6f6-bb78199fe403"
      },
      "execution_count": 13,
      "outputs": [
        {
          "output_type": "execute_result",
          "data": {
            "text/plain": [
              "age                         0\n",
              "anaemia                     0\n",
              "creatinine_phosphokinase    0\n",
              "diabetes                    0\n",
              "ejection_fraction           0\n",
              "high_blood_pressure         0\n",
              "platelets                   0\n",
              "serum_creatinine            0\n",
              "serum_sodium                0\n",
              "sex                         0\n",
              "smoking                     0\n",
              "time                        0\n",
              "DEATH_EVENT                 0\n",
              "dtype: int64"
            ]
          },
          "metadata": {},
          "execution_count": 13
        }
      ]
    },
    {
      "cell_type": "markdown",
      "source": [
        "Wygląda na to, że dataset nie ma brakujących wartości w kolumnach"
      ],
      "metadata": {
        "id": "60FqozfcxuZG"
      }
    },
    {
      "cell_type": "markdown",
      "source": [
        "**Przeżycie vs. śmierć**\n",
        "Autorzy oparli publikację na sprawdzaniu, jakie czynniki wpływają na śmierć pacjenta, dlatego dobrze będzie sprawdzić, jak w datasecie rozkłada się ilość pacjentów, którzy przeżyli.\n",
        "\n"
      ],
      "metadata": {
        "id": "SQWvypYs1DFo"
      }
    },
    {
      "cell_type": "code",
      "source": [
        "death = ds[ds[\"DEATH_EVENT\"] == 1].shape[0]\n",
        "survival = ds[ds[\"DEATH_EVENT\"] == 0].shape[0]\n",
        "proportion = (death / survival)*100\n",
        "#rozklad danych\n",
        "print(f\"ilość wszystkich przypadków przeżycia = {survival}\")\n",
        "print(f\"ilość wszystkich przypadków śmierci = {death}\")\n",
        "print(f\"procent wszystkich przypadków przezycia = {proportion}\")\n",
        "\n"
      ],
      "metadata": {
        "colab": {
          "base_uri": "https://localhost:8080/"
        },
        "id": "LHVaJqAN2UgF",
        "outputId": "530fc35f-3504-416c-ce2a-68c757d24572"
      },
      "execution_count": 14,
      "outputs": [
        {
          "output_type": "stream",
          "name": "stdout",
          "text": [
            "ilość wszystkich przypadków przeżycia = 203\n",
            "ilość wszystkich przypadków śmierci = 96\n",
            "procent wszystkich przypadków przezycia = 47.29064039408867\n"
          ]
        }
      ]
    },
    {
      "cell_type": "markdown",
      "source": [
        "**Wizualizacja danych**\n",
        "\n",
        "W celu lepszego zwizualizowania danych zdecydowałam się na wizualizację metodą macierzy korelacji. Jej elementy to wrtości współczynników korelacji dla odpowiednich par zmiennych losowych. Dzieki temu będzie można zobaczyć, jaki stopień wzajemnego skorelowania mają konkretne zmienne"
      ],
      "metadata": {
        "id": "-96NtlAMx2IR"
      }
    },
    {
      "cell_type": "code",
      "source": [
        "#tworzenie macierzy korelacji\n",
        "corr = ds.corr() \n",
        "corr_features = corr.index\n",
        "plt.figure(figsize=(20,20)) #rozmiar macierzy\n",
        "\n",
        "#mapa cieplna\n",
        "heat_corr = sns.heatmap(ds[corr_features].corr(),annot=True,cmap=\"Greens\", linewidth=3) \n",
        "#chyba mój ulubiony kolor dla macierzy korelacji :)\n",
        "\n"
      ],
      "metadata": {
        "colab": {
          "base_uri": "https://localhost:8080/",
          "height": 1000
        },
        "id": "iRVlGgsDxzyO",
        "outputId": "3a5dce59-ccf9-4cfc-cc07-3127c089704c"
      },
      "execution_count": 15,
      "outputs": [
        {
          "output_type": "display_data",
          "data": {
            "text/plain": [
              "<Figure size 1440x1440 with 2 Axes>"
            ],
            "image/png": "[encoded data removed]"
          },
          "metadata": {
            "needs_background": "light"
          }
        }
      ]
    },
    {
      "cell_type": "markdown",
      "source": [
        "* poszukajmy najbardziej skorelowanych danych z \"DEATH_EVENT\"\n"
      ],
      "metadata": {
        "id": "bec_wq33yDYp"
      }
    },
    {
      "cell_type": "code",
      "source": [
        "features = ds.corr()\n",
        "features[abs(features['DEATH_EVENT']) > 0.1]['DEATH_EVENT']"
      ],
      "metadata": {
        "colab": {
          "base_uri": "https://localhost:8080/"
        },
        "id": "5UlLMbAw4gfA",
        "outputId": "dab4d032-8672-40d3-85ad-19d1f0be95ee"
      },
      "execution_count": 16,
      "outputs": [
        {
          "output_type": "execute_result",
          "data": {
            "text/plain": [
              "age                  0.253729\n",
              "ejection_fraction   -0.268603\n",
              "serum_creatinine     0.294278\n",
              "serum_sodium        -0.195204\n",
              "time                -0.526964\n",
              "DEATH_EVENT          1.000000\n",
              "Name: DEATH_EVENT, dtype: float64"
            ]
          },
          "metadata": {},
          "execution_count": 16
        }
      ]
    },
    {
      "cell_type": "markdown",
      "source": [
        "najbardziej skorelowane ze śmiercią zmienne, to:\n",
        "* age - wiek\n",
        "* ejection fraction - frakcja wyrzutowa\n",
        "* serum_creatinine - kreatynina w surowicy\n",
        "* serum sodium - sód w surowicy\n",
        "* time - czas obserwacji (tutaj chodzi o czas spędzony w szpitalu - im dłuższy tym poważniejsze uszkodzenie miało miejsce u pacjenta)"
      ],
      "metadata": {
        "id": "VSOj2GQg5ZyU"
      }
    },
    {
      "cell_type": "markdown",
      "source": [
        "Wyniki zbliżone powinny pojawić się w przypadku algorytmów uczenia maszynowego. \n",
        "\n"
      ],
      "metadata": {
        "id": "5mXqNi1N6nDm"
      }
    },
    {
      "cell_type": "markdown",
      "source": [
        "Celem projektu jest przewidzenie przeżycia pacjenta (oszacowane na podstawie the highest accuracy. W tym celu zasosowano kilka algorytmów uczenia mas"
      ],
      "metadata": {
        "id": "5WvMr2U1QyGy"
      }
    },
    {
      "cell_type": "markdown",
      "source": [
        "**Podział zbioru danych**"
      ],
      "metadata": {
        "id": "PZXQ0ulZ6Lsm"
      }
    },
    {
      "cell_type": "markdown",
      "source": [
        "Podział danych: Autorzy podzielili dane następująco: \n",
        "\n",
        "Zestaw treningowy - 70% pacjentów (0.7) Zestaw testowy - 30% pacjentów (0.3)\n",
        "\n",
        "Podział względem zmiennej DEATH_EVENT jest kloczowy. Następnie modele implementowane są właśnie względem tego podziału i jednocześnie później zastosowana sztuczna sieć neuronowa ocenia te modele (zbudowane na podstawie wcześniej zbudowanego podziału)"
      ],
      "metadata": {
        "id": "6qCkR-5kAICF"
      }
    },
    {
      "cell_type": "code",
      "source": [
        "X = ds.drop(['DEATH_EVENT'], axis=1)\n",
        "y = ds[\"DEATH_EVENT\"]\n",
        "\n",
        "X.shape, y.shape\n"
      ],
      "metadata": {
        "id": "_AcfeHkFyHVi",
        "colab": {
          "base_uri": "https://localhost:8080/"
        },
        "outputId": "db939775-f685-4477-84ee-f92212c06e08"
      },
      "execution_count": 17,
      "outputs": [
        {
          "output_type": "execute_result",
          "data": {
            "text/plain": [
              "((299, 12), (299,))"
            ]
          },
          "metadata": {},
          "execution_count": 17
        }
      ]
    },
    {
      "cell_type": "code",
      "source": [
        "\n",
        "y.value_counts()"
      ],
      "metadata": {
        "colab": {
          "base_uri": "https://localhost:8080/"
        },
        "outputId": "9fac9bed-4f54-4558-f8cd-dcfafca18998",
        "id": "CZeJF75JTVWw"
      },
      "execution_count": 18,
      "outputs": [
        {
          "output_type": "execute_result",
          "data": {
            "text/plain": [
              "0    203\n",
              "1     96\n",
              "Name: DEATH_EVENT, dtype: int64"
            ]
          },
          "metadata": {},
          "execution_count": 18
        }
      ]
    },
    {
      "cell_type": "markdown",
      "source": [
        "**Widać, że rozkład jest niezbalansowany, w związku z tym zastosuję algorytm SMOTE**"
      ],
      "metadata": {
        "id": "2V7QNFyaTZJC"
      }
    },
    {
      "cell_type": "code",
      "source": [
        "X_smote,y_smote = SMOTE().fit_resample(X,y)\n",
        "y_smote.value_counts()"
      ],
      "metadata": {
        "colab": {
          "base_uri": "https://localhost:8080/"
        },
        "id": "xLy3ZlEkTjZ8",
        "outputId": "d1828ff5-a668-4b4f-9253-c88bd89834a2"
      },
      "execution_count": 19,
      "outputs": [
        {
          "output_type": "execute_result",
          "data": {
            "text/plain": [
              "1    203\n",
              "0    203\n",
              "Name: DEATH_EVENT, dtype: int64"
            ]
          },
          "metadata": {},
          "execution_count": 19
        }
      ]
    },
    {
      "cell_type": "markdown",
      "source": [
        "**Podział zbioru danych**"
      ],
      "metadata": {
        "id": "iOzUx_oUOdP5"
      }
    },
    {
      "cell_type": "code",
      "source": [
        "X_train, X_test, y_train, y_test = train_test_split(X_smote, y_smote, stratify = y_smote, test_size=0.30, train_size=0.70, random_state=50)\n",
        "\n",
        "print('Rozkład treningowy - X_train:', X_train.shape)\n",
        "print('Rozkład testowy- X_test:', X_test.shape)\n",
        "print('Rozkład y-treningowy:', y_train.shape)\n",
        "print('Rozkład y-testowy:', y_test.shape)"
      ],
      "metadata": {
        "colab": {
          "base_uri": "https://localhost:8080/"
        },
        "id": "ZEx5H8KnU0w9",
        "outputId": "194d4676-0fa8-409e-e415-d3f4988c7912"
      },
      "execution_count": 20,
      "outputs": [
        {
          "output_type": "stream",
          "name": "stdout",
          "text": [
            "Rozkład treningowy - X_train: (284, 12)\n",
            "Rozkład testowy- X_test: (122, 12)\n",
            "Rozkład y-treningowy: (284,)\n",
            "Rozkład y-testowy: (122,)\n"
          ]
        }
      ]
    },
    {
      "cell_type": "markdown",
      "source": [
        "**Zastosowanie algorytmów uczenia maszynowego**\n",
        "\n",
        "W publikcji autorzy zasosowali kilka algorytmów uczenia maszynowego\n",
        "1. Regresja logistyczna\n",
        "2. SVM\n",
        "3. Drzewo decyzyjne\n",
        "4. Las losowy\n",
        "5. Gradient Boosting \n",
        "6. KNN- K-najbliżsi sąsiedzi\n",
        "\n",
        "W zastosowaniu algorytmów uczenia maszynowego i zbudowania sieci neuronowej posiłkowałam się zeszytami z zajęc, oraz:\n",
        "https://github.com/g-shreekant/Heart-Disease-Prediction-using-Machine-Learning/blob/master/Heart_disease_prediction.ipynb"
      ],
      "metadata": {
        "id": "EaMY0TauyTCk"
      }
    },
    {
      "cell_type": "markdown",
      "source": [
        "**1. Regresja logistyczna**"
      ],
      "metadata": {
        "id": "I6TKBIBkAS5d"
      }
    },
    {
      "cell_type": "code",
      "source": [
        "regression = LogisticRegression()\n",
        "model1 = regression.fit(X_train, y_train)\n",
        "y_pred = model1.predict(X_test)\n",
        "\n"
      ],
      "metadata": {
        "id": "jeECJsTe_In9"
      },
      "execution_count": 21,
      "outputs": []
    },
    {
      "cell_type": "code",
      "source": [
        "print(classification_report(y_test, y_pred))\n",
        "accuracy = accuracy_score(y_test, y_pred)\n",
        "accuracy"
      ],
      "metadata": {
        "colab": {
          "base_uri": "https://localhost:8080/"
        },
        "id": "fV2ugFJq4UME",
        "outputId": "b030b4a8-a7d2-4be5-ab40-a0e92b5400d4"
      },
      "execution_count": 22,
      "outputs": [
        {
          "output_type": "stream",
          "name": "stdout",
          "text": [
            "              precision    recall  f1-score   support\n",
            "\n",
            "           0       0.79      0.80      0.80        61\n",
            "           1       0.80      0.79      0.79        61\n",
            "\n",
            "    accuracy                           0.80       122\n",
            "   macro avg       0.80      0.80      0.80       122\n",
            "weighted avg       0.80      0.80      0.80       122\n",
            "\n"
          ]
        },
        {
          "output_type": "execute_result",
          "data": {
            "text/plain": [
              "0.7950819672131147"
            ]
          },
          "metadata": {},
          "execution_count": 22
        }
      ]
    },
    {
      "cell_type": "code",
      "source": [
        "y_pred.shape"
      ],
      "metadata": {
        "colab": {
          "base_uri": "https://localhost:8080/"
        },
        "id": "94tgpw-R4W1W",
        "outputId": "c1ed4fc5-ffaf-4b95-955d-6f74d8b9ba6a"
      },
      "execution_count": 23,
      "outputs": [
        {
          "output_type": "execute_result",
          "data": {
            "text/plain": [
              "(122,)"
            ]
          },
          "metadata": {},
          "execution_count": 23
        }
      ]
    },
    {
      "cell_type": "code",
      "source": [
        "score_regression= round(accuracy_score(y_pred ,y_test)*100,2)\n",
        "score_regression"
      ],
      "metadata": {
        "colab": {
          "base_uri": "https://localhost:8080/"
        },
        "id": "xgGDKlq74acq",
        "outputId": "8b17ed12-22c7-434d-d5f2-20a3eab6fbf4"
      },
      "execution_count": 24,
      "outputs": [
        {
          "output_type": "execute_result",
          "data": {
            "text/plain": [
              "79.51"
            ]
          },
          "metadata": {},
          "execution_count": 24
        }
      ]
    },
    {
      "cell_type": "code",
      "source": [
        "sns.heatmap(confusion_matrix(y_test,y_pred), cbar=True, annot=True)"
      ],
      "metadata": {
        "colab": {
          "base_uri": "https://localhost:8080/",
          "height": 283
        },
        "id": "F0FmvJz9ObXw",
        "outputId": "aac97d9d-00de-454b-cc2c-cf875ed16780"
      },
      "execution_count": 25,
      "outputs": [
        {
          "output_type": "execute_result",
          "data": {
            "text/plain": [
              "<matplotlib.axes._subplots.AxesSubplot at 0x7f40e9604880>"
            ]
          },
          "metadata": {},
          "execution_count": 25
        },
        {
          "output_type": "display_data",
          "data": {
            "text/plain": [
              "<Figure size 432x288 with 2 Axes>"
            ],
            "image/png": "[encoded data removed]"
          },
          "metadata": {
            "needs_background": "light"
          }
        }
      ]
    },
    {
      "cell_type": "markdown",
      "source": [
        "**2.SVC - Maszyna Wektorów Nośnych**"
      ],
      "metadata": {
        "id": "PsmKiosdXbOO"
      }
    },
    {
      "cell_type": "code",
      "source": [
        "from sklearn.svm import SVC\n",
        "vector_machine = SVC(kernel=\"linear\")\n",
        "model= vector_machine.fit(X_train, y_train)\n",
        "y_pred = model.predict(X_test)\n",
        "\n",
        "\n"
      ],
      "metadata": {
        "id": "VCRYQ8idFTEe"
      },
      "execution_count": 26,
      "outputs": []
    },
    {
      "cell_type": "code",
      "source": [
        "print(classification_report(y_test, y_pred))\n",
        "accuracy = accuracy_score(y_test, y_pred)\n",
        "accuracy\n"
      ],
      "metadata": {
        "colab": {
          "base_uri": "https://localhost:8080/"
        },
        "id": "tHNaYsEB5aRl",
        "outputId": "58a4eed1-64bf-4209-e9d4-d4ada06d3344"
      },
      "execution_count": 27,
      "outputs": [
        {
          "output_type": "stream",
          "name": "stdout",
          "text": [
            "              precision    recall  f1-score   support\n",
            "\n",
            "           0       0.82      0.66      0.73        61\n",
            "           1       0.71      0.85      0.78        61\n",
            "\n",
            "    accuracy                           0.75       122\n",
            "   macro avg       0.76      0.75      0.75       122\n",
            "weighted avg       0.76      0.75      0.75       122\n",
            "\n"
          ]
        },
        {
          "output_type": "execute_result",
          "data": {
            "text/plain": [
              "0.7540983606557377"
            ]
          },
          "metadata": {},
          "execution_count": 27
        }
      ]
    },
    {
      "cell_type": "code",
      "source": [
        "y_pred.shape"
      ],
      "metadata": {
        "colab": {
          "base_uri": "https://localhost:8080/"
        },
        "id": "n9h2OOZM5ltV",
        "outputId": "06ccc3e3-c45b-46c6-f377-5ecb5284053f"
      },
      "execution_count": 28,
      "outputs": [
        {
          "output_type": "execute_result",
          "data": {
            "text/plain": [
              "(122,)"
            ]
          },
          "metadata": {},
          "execution_count": 28
        }
      ]
    },
    {
      "cell_type": "code",
      "source": [
        "score_vector_machine = round(accuracy_score(y_pred ,y_test)*100,2)\n",
        "score_vector_machine"
      ],
      "metadata": {
        "colab": {
          "base_uri": "https://localhost:8080/"
        },
        "id": "bQj87TjW5uWr",
        "outputId": "0212643d-327b-4bcf-ea23-b32979c05c67"
      },
      "execution_count": 29,
      "outputs": [
        {
          "output_type": "execute_result",
          "data": {
            "text/plain": [
              "75.41"
            ]
          },
          "metadata": {},
          "execution_count": 29
        }
      ]
    },
    {
      "cell_type": "code",
      "source": [
        "\n",
        "sns.heatmap(confusion_matrix(y_test,y_pred), cbar=True, annot=True)"
      ],
      "metadata": {
        "colab": {
          "base_uri": "https://localhost:8080/",
          "height": 283
        },
        "id": "dnR9yhHj5dpi",
        "outputId": "61a60118-f89d-4355-dbd9-5d052c42cbf9"
      },
      "execution_count": 30,
      "outputs": [
        {
          "output_type": "execute_result",
          "data": {
            "text/plain": [
              "<matplotlib.axes._subplots.AxesSubplot at 0x7f40f62315b0>"
            ]
          },
          "metadata": {},
          "execution_count": 30
        },
        {
          "output_type": "display_data",
          "data": {
            "text/plain": [
              "<Figure size 432x288 with 2 Axes>"
            ],
            "image/png": "[encoded data removed]"
          },
          "metadata": {
            "needs_background": "light"
          }
        }
      ]
    },
    {
      "cell_type": "markdown",
      "source": [
        "**3.Drzewo decyzyjne**"
      ],
      "metadata": {
        "id": "wbwOXChMYeEM"
      }
    },
    {
      "cell_type": "code",
      "source": [
        "decision_tree = DecisionTreeClassifier()\n",
        "model = decision_tree.fit(X_train,y_train)\n",
        "y_pred = model.predict(X_test)\n"
      ],
      "metadata": {
        "id": "hSZHPHroYcLV"
      },
      "execution_count": 31,
      "outputs": []
    },
    {
      "cell_type": "code",
      "source": [
        "print(classification_report(y_test, y_pred))\n",
        "accuracy = accuracy_score(y_test, y_pred)\n",
        "accuracy\n"
      ],
      "metadata": {
        "colab": {
          "base_uri": "https://localhost:8080/"
        },
        "id": "BsWU7uxR6CI1",
        "outputId": "6418a4ed-4257-4e5d-ff75-55c6a361da5f"
      },
      "execution_count": 32,
      "outputs": [
        {
          "output_type": "stream",
          "name": "stdout",
          "text": [
            "              precision    recall  f1-score   support\n",
            "\n",
            "           0       0.79      0.82      0.81        61\n",
            "           1       0.81      0.79      0.80        61\n",
            "\n",
            "    accuracy                           0.80       122\n",
            "   macro avg       0.80      0.80      0.80       122\n",
            "weighted avg       0.80      0.80      0.80       122\n",
            "\n"
          ]
        },
        {
          "output_type": "execute_result",
          "data": {
            "text/plain": [
              "0.8032786885245902"
            ]
          },
          "metadata": {},
          "execution_count": 32
        }
      ]
    },
    {
      "cell_type": "code",
      "source": [
        "sns.heatmap(confusion_matrix(y_test,y_pred), cbar=True, annot=True)"
      ],
      "metadata": {
        "colab": {
          "base_uri": "https://localhost:8080/",
          "height": 287
        },
        "id": "0R58vLU-6GDD",
        "outputId": "177d1f09-d2af-45b2-8ffe-aff67db3b636"
      },
      "execution_count": 33,
      "outputs": [
        {
          "output_type": "execute_result",
          "data": {
            "text/plain": [
              "<matplotlib.axes._subplots.AxesSubplot at 0x7f40e4e86100>"
            ]
          },
          "metadata": {},
          "execution_count": 33
        },
        {
          "output_type": "display_data",
          "data": {
            "text/plain": [
              "<Figure size 432x288 with 2 Axes>"
            ],
            "image/png": "[encoded data removed]"
          },
          "metadata": {
            "needs_background": "light"
          }
        }
      ]
    },
    {
      "cell_type": "code",
      "source": [
        "y_pred.shape"
      ],
      "metadata": {
        "colab": {
          "base_uri": "https://localhost:8080/"
        },
        "id": "GbbcoYkm07C4",
        "outputId": "badb152f-62c7-4b50-842a-390f62a10cd5"
      },
      "execution_count": 34,
      "outputs": [
        {
          "output_type": "execute_result",
          "data": {
            "text/plain": [
              "(122,)"
            ]
          },
          "metadata": {},
          "execution_count": 34
        }
      ]
    },
    {
      "cell_type": "code",
      "source": [
        "score_decision_tree = round(accuracy_score(y_pred ,y_test)*100,2)\n",
        "score_decision_tree"
      ],
      "metadata": {
        "colab": {
          "base_uri": "https://localhost:8080/"
        },
        "id": "RlmDVY4X6O_E",
        "outputId": "634a493e-5224-4809-e31f-096362f7321a"
      },
      "execution_count": 35,
      "outputs": [
        {
          "output_type": "execute_result",
          "data": {
            "text/plain": [
              "80.33"
            ]
          },
          "metadata": {},
          "execution_count": 35
        }
      ]
    },
    {
      "cell_type": "markdown",
      "source": [
        "**4.Lasy Losowe**"
      ],
      "metadata": {
        "id": "eTF9VV0Ha4gX"
      }
    },
    {
      "cell_type": "code",
      "source": [
        "random_forest = RandomForestClassifier(n_estimators=100)\n",
        "model = random_forest.fit(X_train,y_train)\n",
        "y_pred = model.predict(X_test)\n",
        "\n"
      ],
      "metadata": {
        "id": "ZmzcFpDxa9Q8"
      },
      "execution_count": 36,
      "outputs": []
    },
    {
      "cell_type": "code",
      "source": [
        "print(classification_report(y_test,y_pred))\n",
        "accuracy = accuracy_score(y_test, y_pred)\n",
        "accuracy \n"
      ],
      "metadata": {
        "colab": {
          "base_uri": "https://localhost:8080/"
        },
        "id": "1Sabvj3c6aUf",
        "outputId": "f4c2fe92-921d-42c7-e215-20e955c7f61a"
      },
      "execution_count": 37,
      "outputs": [
        {
          "output_type": "stream",
          "name": "stdout",
          "text": [
            "              precision    recall  f1-score   support\n",
            "\n",
            "           0       0.83      0.89      0.86        61\n",
            "           1       0.88      0.82      0.85        61\n",
            "\n",
            "    accuracy                           0.85       122\n",
            "   macro avg       0.85      0.85      0.85       122\n",
            "weighted avg       0.85      0.85      0.85       122\n",
            "\n"
          ]
        },
        {
          "output_type": "execute_result",
          "data": {
            "text/plain": [
              "0.8524590163934426"
            ]
          },
          "metadata": {},
          "execution_count": 37
        }
      ]
    },
    {
      "cell_type": "code",
      "source": [
        "sns.heatmap(confusion_matrix(y_test,y_pred), cbar=True, annot=True)"
      ],
      "metadata": {
        "colab": {
          "base_uri": "https://localhost:8080/",
          "height": 283
        },
        "id": "kSS5OcFL6f_h",
        "outputId": "25ead0d5-49ba-44f7-9562-a48620650e98"
      },
      "execution_count": 38,
      "outputs": [
        {
          "output_type": "execute_result",
          "data": {
            "text/plain": [
              "<matplotlib.axes._subplots.AxesSubplot at 0x7f40e4df3be0>"
            ]
          },
          "metadata": {},
          "execution_count": 38
        },
        {
          "output_type": "display_data",
          "data": {
            "text/plain": [
              "<Figure size 432x288 with 2 Axes>"
            ],
            "image/png": "[encoded data removed]"
          },
          "metadata": {
            "needs_background": "light"
          }
        }
      ]
    },
    {
      "cell_type": "code",
      "source": [
        "score_random_forest =(accuracy_score(y_pred ,y_test)*100,2)\n",
        "score_random_forest"
      ],
      "metadata": {
        "colab": {
          "base_uri": "https://localhost:8080/"
        },
        "id": "W2gP5fqN6olq",
        "outputId": "a026d37f-7631-4389-fcae-395a787f5f2d"
      },
      "execution_count": 39,
      "outputs": [
        {
          "output_type": "execute_result",
          "data": {
            "text/plain": [
              "(85.24590163934425, 2)"
            ]
          },
          "metadata": {},
          "execution_count": 39
        }
      ]
    },
    {
      "cell_type": "markdown",
      "source": [
        "**5.Gradient Boosting**\n"
      ],
      "metadata": {
        "id": "DblX-oVRcNsO"
      }
    },
    {
      "cell_type": "code",
      "source": [
        "gradient_boosting = GradientBoostingClassifier()\n",
        "model = gradient_boosting.fit(X_train, y_train)\n",
        "y_pred = model.predict(X_test)\n",
        "\n",
        "\n"
      ],
      "metadata": {
        "id": "Va4O0lbecKsf"
      },
      "execution_count": 40,
      "outputs": []
    },
    {
      "cell_type": "code",
      "source": [
        "\n",
        "print(classification_report(y_test,y_pred))\n",
        "accuracy = accuracy_score(y_test, y_pred)\n",
        "accuracy \n"
      ],
      "metadata": {
        "colab": {
          "base_uri": "https://localhost:8080/"
        },
        "id": "6EIGqJyF603J",
        "outputId": "e37e8580-1b07-4b9c-f897-c1d4351e0fb7"
      },
      "execution_count": 41,
      "outputs": [
        {
          "output_type": "stream",
          "name": "stdout",
          "text": [
            "              precision    recall  f1-score   support\n",
            "\n",
            "           0       0.82      0.84      0.83        61\n",
            "           1       0.83      0.82      0.83        61\n",
            "\n",
            "    accuracy                           0.83       122\n",
            "   macro avg       0.83      0.83      0.83       122\n",
            "weighted avg       0.83      0.83      0.83       122\n",
            "\n"
          ]
        },
        {
          "output_type": "execute_result",
          "data": {
            "text/plain": [
              "0.8278688524590164"
            ]
          },
          "metadata": {},
          "execution_count": 41
        }
      ]
    },
    {
      "cell_type": "code",
      "source": [
        "sns.heatmap(confusion_matrix(y_test,y_pred), cbar=True, annot=True)"
      ],
      "metadata": {
        "colab": {
          "base_uri": "https://localhost:8080/",
          "height": 283
        },
        "id": "ZluR_ig264E4",
        "outputId": "530f313d-53a6-4f1c-863c-e07dd6bfaa70"
      },
      "execution_count": null,
      "outputs": [
        {
          "output_type": "execute_result",
          "data": {
            "text/plain": [
              "<matplotlib.axes._subplots.AxesSubplot at 0x7f71c8af13a0>"
            ]
          },
          "metadata": {},
          "execution_count": 196
        },
        {
          "output_type": "display_data",
          "data": {
            "text/plain": [
              "<Figure size 432x288 with 2 Axes>"
            ],
            "image/png": "[encoded data removed]"
          },
          "metadata": {
            "needs_background": "light"
          }
        }
      ]
    },
    {
      "cell_type": "code",
      "source": [
        "score_gradient_boosting =(accuracy_score(y_pred ,y_test)*100)\n",
        "score_gradient_boosting"
      ],
      "metadata": {
        "colab": {
          "base_uri": "https://localhost:8080/"
        },
        "id": "RuHsu4aF6-d7",
        "outputId": "7f10be55-67c4-4dd0-df6e-0333b3b742b0"
      },
      "execution_count": 42,
      "outputs": [
        {
          "output_type": "execute_result",
          "data": {
            "text/plain": [
              "82.78688524590164"
            ]
          },
          "metadata": {},
          "execution_count": 42
        }
      ]
    },
    {
      "cell_type": "markdown",
      "source": [
        "**6. K-Nabliżsi sąsiedzi (K-Nearest Neighbor)**\n"
      ],
      "metadata": {
        "id": "NY5nO925dMy-"
      }
    },
    {
      "cell_type": "code",
      "source": [
        "# Sprawdzenie ile sąsiadów powinniśmy uwzględnić:\n",
        "\n",
        "KNN = []\n",
        "for neighbors in range(3,10):\n",
        "    classifier = KNeighborsClassifier(n_neighbors=neighbors)\n",
        "    classifier.fit(X_train, y_train)\n",
        "    y_pred = classifier.predict(X_test)\n",
        "    KNN.append(accuracy_score(y_test,y_pred))\n",
        "\n",
        "plt.plot(KNN)\n"
      ],
      "metadata": {
        "colab": {
          "base_uri": "https://localhost:8080/",
          "height": 283
        },
        "id": "AheIVo9bdHAu",
        "outputId": "61a3ba02-040a-4f65-fb47-c5b7c78f9480"
      },
      "execution_count": 45,
      "outputs": [
        {
          "output_type": "execute_result",
          "data": {
            "text/plain": [
              "[<matplotlib.lines.Line2D at 0x7f40e4c9a130>]"
            ]
          },
          "metadata": {},
          "execution_count": 45
        },
        {
          "output_type": "display_data",
          "data": {
            "text/plain": [
              "<Figure size 432x288 with 1 Axes>"
            ],
            "image/png": "[encoded data removed]"
          },
          "metadata": {
            "needs_background": "light"
          }
        }
      ]
    },
    {
      "cell_type": "code",
      "source": [
        "# 2 or 3 neighbors is best option\n",
        "\n",
        "classification = KNeighborsClassifier(n_neighbors=3)\n",
        "classification.fit(X_train, y_train)\n",
        "y_pred = classification.predict(X_test)\n"
      ],
      "metadata": {
        "id": "Ent51YSpe7h6"
      },
      "execution_count": 47,
      "outputs": []
    },
    {
      "cell_type": "code",
      "source": [
        "print(classification_report(y_test,y_pred))\n",
        "accuracy = accuracy_score(y_test, y_pred)\n",
        "accuracy "
      ],
      "metadata": {
        "colab": {
          "base_uri": "https://localhost:8080/"
        },
        "id": "JVWpuEhz7kPN",
        "outputId": "dd1aa98f-3359-4be9-e051-c8a95883cdcc"
      },
      "execution_count": 48,
      "outputs": [
        {
          "output_type": "stream",
          "name": "stdout",
          "text": [
            "              precision    recall  f1-score   support\n",
            "\n",
            "           0       0.54      0.59      0.56        61\n",
            "           1       0.55      0.49      0.52        61\n",
            "\n",
            "    accuracy                           0.54       122\n",
            "   macro avg       0.54      0.54      0.54       122\n",
            "weighted avg       0.54      0.54      0.54       122\n",
            "\n"
          ]
        },
        {
          "output_type": "execute_result",
          "data": {
            "text/plain": [
              "0.5409836065573771"
            ]
          },
          "metadata": {},
          "execution_count": 48
        }
      ]
    },
    {
      "cell_type": "code",
      "source": [
        "sns.heatmap(confusion_matrix(y_test,y_pred), cbar=True, annot=True)"
      ],
      "metadata": {
        "colab": {
          "base_uri": "https://localhost:8080/",
          "height": 287
        },
        "id": "cBg4Tv4f7ql1",
        "outputId": "7d40d9ed-ebc3-450b-baac-b2346ca4d982"
      },
      "execution_count": 49,
      "outputs": [
        {
          "output_type": "execute_result",
          "data": {
            "text/plain": [
              "<matplotlib.axes._subplots.AxesSubplot at 0x7f40e4c3b4c0>"
            ]
          },
          "metadata": {},
          "execution_count": 49
        },
        {
          "output_type": "display_data",
          "data": {
            "text/plain": [
              "<Figure size 432x288 with 2 Axes>"
            ],
            "image/png": "[encoded data removed]"
          },
          "metadata": {
            "needs_background": "light"
          }
        }
      ]
    },
    {
      "cell_type": "code",
      "source": [
        "score_KNN =(accuracy_score(y_pred ,y_test)*100)\n",
        "score_KNN"
      ],
      "metadata": {
        "colab": {
          "base_uri": "https://localhost:8080/"
        },
        "id": "dML_ZUg57uZg",
        "outputId": "2d55f4ec-d3c6-4e40-87df-82746a99b36c"
      },
      "execution_count": 50,
      "outputs": [
        {
          "output_type": "execute_result",
          "data": {
            "text/plain": [
              "54.09836065573771"
            ]
          },
          "metadata": {},
          "execution_count": 50
        }
      ]
    },
    {
      "cell_type": "code",
      "source": [
        "models = ['Regresja Logistyczna', 'SVM','Drzewo decyzyjne', 'Las Losowy', 'Gradient Boosting', 'K-najbliżsi sąsiedzi']\n",
        "\n",
        "print(score_random_forest, score_vector_machine,score_decision_tree, score_random_forest, score_gradient_boosting, score_KNN)"
      ],
      "metadata": {
        "colab": {
          "base_uri": "https://localhost:8080/"
        },
        "id": "-uEtdM9l85Cn",
        "outputId": "e01bf481-97e3-4986-f198-a0f324e3854a"
      },
      "execution_count": 54,
      "outputs": [
        {
          "output_type": "stream",
          "name": "stdout",
          "text": [
            "(85.24590163934425, 2) 75.41 80.33 (85.24590163934425, 2) 82.78688524590164 54.09836065573771\n"
          ]
        }
      ]
    },
    {
      "cell_type": "code",
      "source": [
        "models = ['Regresja Logistyczna', 'SVM','Drzewo decyzyjne', 'Las Losowy', 'Gradient Boosting', 'K-najbliżsi sąsiedzi']\n",
        "\n",
        "accuracy_score_list =[81.14754098360656, 77.87, 81.15, 81.14754098360656,  81.14754098360656, 54.09836065573771  ]\n",
        "\n",
        "\n",
        "plt.figure(figsize=(15,10))\n",
        "sns.barplot(x=models, y=accuracy_score_list)\n",
        "plt.xlabel('Modele Klasyfikacji')\n",
        "plt.ylabel('Accuracy Score')\n",
        "plt.show()"
      ],
      "metadata": {
        "colab": {
          "base_uri": "https://localhost:8080/",
          "height": 606
        },
        "id": "6OafKqNUfdtm",
        "outputId": "ac02f536-913c-4a0d-b8ce-9273c9859b69"
      },
      "execution_count": 55,
      "outputs": [
        {
          "output_type": "display_data",
          "data": {
            "text/plain": [
              "<Figure size 1080x720 with 1 Axes>"
            ],
            "image/png": "[encoded data removed]"
          },
          "metadata": {
            "needs_background": "light"
          }
        }
      ]
    },
    {
      "cell_type": "markdown",
      "source": [
        "**Komentarz:**\n",
        "\n",
        "Najlepszy model do oceny zdarzenia śmierci u pacjentów, to las losowy, co pokrywa się z wynikami publikacji"
      ],
      "metadata": {
        "id": "adDBvOVnsFTM"
      }
    },
    {
      "cell_type": "markdown",
      "source": [
        "**Implementacja sieci neuronowej**"
      ],
      "metadata": {
        "id": "BpaaV2g8iZS-"
      }
    },
    {
      "cell_type": "markdown",
      "source": [
        "została stworzona sztuczna sieć neuronowa, która ma na celu ocenić, które z przetestowanych modeli nadają się najlepiej do oceny prawdopobieństwa zdarzenia śmierci. "
      ],
      "metadata": {
        "id": "RYyxIBinqqBn"
      }
    },
    {
      "cell_type": "code",
      "source": [
        "model = Sequential()\n",
        "model.add(Dense(11,activation='relu',input_dim=12))\n",
        "model.add(Dense(1,activation='sigmoid'))\n",
        "\n",
        "model.compile(loss='binary_crossentropy',optimizer='adam',metrics=['accuracy'])\n"
      ],
      "metadata": {
        "id": "cLs2QFTvidjT"
      },
      "execution_count": null,
      "outputs": []
    },
    {
      "cell_type": "code",
      "source": [
        "model.fit(X_train, y_train, epochs=150)"
      ],
      "metadata": {
        "colab": {
          "base_uri": "https://localhost:8080/"
        },
        "id": "GO2Qwv0Gv2G9",
        "outputId": "137ea9b8-71a1-4a0b-b915-be64d345c1b4"
      },
      "execution_count": null,
      "outputs": [
        {
          "output_type": "stream",
          "name": "stdout",
          "text": [
            "Epoch 1/150\n",
            "9/9 [==============================] - 0s 4ms/step - loss: 59.1355 - accuracy: 0.5528\n",
            "Epoch 2/150\n",
            "9/9 [==============================] - 0s 3ms/step - loss: 38.4601 - accuracy: 0.5634\n",
            "Epoch 3/150\n",
            "9/9 [==============================] - 0s 4ms/step - loss: 17.1286 - accuracy: 0.6479\n",
            "Epoch 4/150\n",
            "9/9 [==============================] - 0s 3ms/step - loss: 13.1248 - accuracy: 0.6866\n",
            "Epoch 5/150\n",
            "9/9 [==============================] - 0s 4ms/step - loss: 17.2595 - accuracy: 0.6585\n",
            "Epoch 6/150\n",
            "9/9 [==============================] - 0s 4ms/step - loss: 24.1046 - accuracy: 0.6232\n",
            "Epoch 7/150\n",
            "9/9 [==============================] - 0s 3ms/step - loss: 48.6690 - accuracy: 0.5176\n",
            "Epoch 8/150\n",
            "9/9 [==============================] - 0s 3ms/step - loss: 16.7625 - accuracy: 0.6690\n",
            "Epoch 9/150\n",
            "9/9 [==============================] - 0s 3ms/step - loss: 33.1039 - accuracy: 0.5775\n",
            "Epoch 10/150\n",
            "9/9 [==============================] - 0s 3ms/step - loss: 16.1224 - accuracy: 0.6831\n",
            "Epoch 11/150\n",
            "9/9 [==============================] - 0s 4ms/step - loss: 9.9714 - accuracy: 0.7113\n",
            "Epoch 12/150\n",
            "9/9 [==============================] - 0s 3ms/step - loss: 22.5499 - accuracy: 0.6056\n",
            "Epoch 13/150\n",
            "9/9 [==============================] - 0s 3ms/step - loss: 25.2394 - accuracy: 0.6162\n",
            "Epoch 14/150\n",
            "9/9 [==============================] - 0s 3ms/step - loss: 29.5224 - accuracy: 0.5845\n",
            "Epoch 15/150\n",
            "9/9 [==============================] - 0s 3ms/step - loss: 37.3293 - accuracy: 0.5915\n",
            "Epoch 16/150\n",
            "9/9 [==============================] - 0s 3ms/step - loss: 31.9763 - accuracy: 0.6092\n",
            "Epoch 17/150\n",
            "9/9 [==============================] - 0s 5ms/step - loss: 17.1171 - accuracy: 0.6479\n",
            "Epoch 18/150\n",
            "9/9 [==============================] - 0s 3ms/step - loss: 15.0306 - accuracy: 0.6620\n",
            "Epoch 19/150\n",
            "9/9 [==============================] - 0s 3ms/step - loss: 9.9462 - accuracy: 0.7007\n",
            "Epoch 20/150\n",
            "9/9 [==============================] - 0s 3ms/step - loss: 12.8958 - accuracy: 0.6972\n",
            "Epoch 21/150\n",
            "9/9 [==============================] - 0s 3ms/step - loss: 15.4549 - accuracy: 0.6866\n",
            "Epoch 22/150\n",
            "9/9 [==============================] - 0s 3ms/step - loss: 10.0335 - accuracy: 0.7324\n",
            "Epoch 23/150\n",
            "9/9 [==============================] - 0s 4ms/step - loss: 12.8166 - accuracy: 0.6831\n",
            "Epoch 24/150\n",
            "9/9 [==============================] - 0s 4ms/step - loss: 13.4280 - accuracy: 0.6901\n",
            "Epoch 25/150\n",
            "9/9 [==============================] - 0s 4ms/step - loss: 17.4120 - accuracy: 0.6725\n",
            "Epoch 26/150\n",
            "9/9 [==============================] - 0s 3ms/step - loss: 11.1625 - accuracy: 0.7148\n",
            "Epoch 27/150\n",
            "9/9 [==============================] - 0s 3ms/step - loss: 19.7895 - accuracy: 0.6514\n",
            "Epoch 28/150\n",
            "9/9 [==============================] - 0s 3ms/step - loss: 10.2990 - accuracy: 0.7289\n",
            "Epoch 29/150\n",
            "9/9 [==============================] - 0s 4ms/step - loss: 9.5639 - accuracy: 0.7324\n",
            "Epoch 30/150\n",
            "9/9 [==============================] - 0s 3ms/step - loss: 14.8999 - accuracy: 0.6479\n",
            "Epoch 31/150\n",
            "9/9 [==============================] - 0s 3ms/step - loss: 26.8467 - accuracy: 0.6162\n",
            "Epoch 32/150\n",
            "9/9 [==============================] - 0s 2ms/step - loss: 47.7684 - accuracy: 0.5634\n",
            "Epoch 33/150\n",
            "9/9 [==============================] - 0s 2ms/step - loss: 35.6584 - accuracy: 0.5810\n",
            "Epoch 34/150\n",
            "9/9 [==============================] - 0s 2ms/step - loss: 24.8014 - accuracy: 0.5951\n",
            "Epoch 35/150\n",
            "9/9 [==============================] - 0s 2ms/step - loss: 18.5327 - accuracy: 0.6831\n",
            "Epoch 36/150\n",
            "9/9 [==============================] - 0s 2ms/step - loss: 33.5592 - accuracy: 0.5986\n",
            "Epoch 37/150\n",
            "9/9 [==============================] - 0s 2ms/step - loss: 47.8100 - accuracy: 0.5563\n",
            "Epoch 38/150\n",
            "9/9 [==============================] - 0s 2ms/step - loss: 28.5393 - accuracy: 0.6021\n",
            "Epoch 39/150\n",
            "9/9 [==============================] - 0s 2ms/step - loss: 53.0907 - accuracy: 0.5669\n",
            "Epoch 40/150\n",
            "9/9 [==============================] - 0s 2ms/step - loss: 32.1826 - accuracy: 0.6232\n",
            "Epoch 41/150\n",
            "9/9 [==============================] - 0s 2ms/step - loss: 24.9343 - accuracy: 0.5739\n",
            "Epoch 42/150\n",
            "9/9 [==============================] - 0s 2ms/step - loss: 19.7422 - accuracy: 0.6655\n",
            "Epoch 43/150\n",
            "9/9 [==============================] - 0s 3ms/step - loss: 13.5178 - accuracy: 0.6937\n",
            "Epoch 44/150\n",
            "9/9 [==============================] - 0s 2ms/step - loss: 8.1816 - accuracy: 0.7359\n",
            "Epoch 45/150\n",
            "9/9 [==============================] - 0s 3ms/step - loss: 19.1911 - accuracy: 0.6549\n",
            "Epoch 46/150\n",
            "9/9 [==============================] - 0s 2ms/step - loss: 16.7609 - accuracy: 0.6479\n",
            "Epoch 47/150\n",
            "9/9 [==============================] - 0s 3ms/step - loss: 14.1765 - accuracy: 0.6972\n",
            "Epoch 48/150\n",
            "9/9 [==============================] - 0s 2ms/step - loss: 17.9517 - accuracy: 0.6655\n",
            "Epoch 49/150\n",
            "9/9 [==============================] - 0s 2ms/step - loss: 11.0260 - accuracy: 0.7218\n",
            "Epoch 50/150\n",
            "9/9 [==============================] - 0s 3ms/step - loss: 10.9196 - accuracy: 0.7042\n",
            "Epoch 51/150\n",
            "9/9 [==============================] - 0s 2ms/step - loss: 13.4532 - accuracy: 0.6901\n",
            "Epoch 52/150\n",
            "9/9 [==============================] - 0s 2ms/step - loss: 14.3287 - accuracy: 0.7007\n",
            "Epoch 53/150\n",
            "9/9 [==============================] - 0s 2ms/step - loss: 14.5474 - accuracy: 0.7007\n",
            "Epoch 54/150\n",
            "9/9 [==============================] - 0s 2ms/step - loss: 10.3684 - accuracy: 0.7007\n",
            "Epoch 55/150\n",
            "9/9 [==============================] - 0s 2ms/step - loss: 19.7036 - accuracy: 0.6620\n",
            "Epoch 56/150\n",
            "9/9 [==============================] - 0s 2ms/step - loss: 27.8233 - accuracy: 0.5915\n",
            "Epoch 57/150\n",
            "9/9 [==============================] - 0s 2ms/step - loss: 38.7334 - accuracy: 0.5317\n",
            "Epoch 58/150\n",
            "9/9 [==============================] - 0s 2ms/step - loss: 20.2704 - accuracy: 0.6338\n",
            "Epoch 59/150\n",
            "9/9 [==============================] - 0s 2ms/step - loss: 29.7950 - accuracy: 0.6092\n",
            "Epoch 60/150\n",
            "9/9 [==============================] - 0s 2ms/step - loss: 54.3416 - accuracy: 0.5599\n",
            "Epoch 61/150\n",
            "9/9 [==============================] - 0s 3ms/step - loss: 34.2257 - accuracy: 0.6232\n",
            "Epoch 62/150\n",
            "9/9 [==============================] - 0s 2ms/step - loss: 23.2586 - accuracy: 0.5775\n",
            "Epoch 63/150\n",
            "9/9 [==============================] - 0s 2ms/step - loss: 17.2861 - accuracy: 0.6620\n",
            "Epoch 64/150\n",
            "9/9 [==============================] - 0s 3ms/step - loss: 17.1229 - accuracy: 0.6620\n",
            "Epoch 65/150\n",
            "9/9 [==============================] - 0s 2ms/step - loss: 42.2664 - accuracy: 0.5739\n",
            "Epoch 66/150\n",
            "9/9 [==============================] - 0s 3ms/step - loss: 49.6732 - accuracy: 0.5423\n",
            "Epoch 67/150\n",
            "9/9 [==============================] - 0s 2ms/step - loss: 33.7802 - accuracy: 0.5880\n",
            "Epoch 68/150\n",
            "9/9 [==============================] - 0s 2ms/step - loss: 42.4164 - accuracy: 0.5704\n",
            "Epoch 69/150\n",
            "9/9 [==============================] - 0s 2ms/step - loss: 15.3406 - accuracy: 0.6866\n",
            "Epoch 70/150\n",
            "9/9 [==============================] - 0s 2ms/step - loss: 8.8341 - accuracy: 0.7324\n",
            "Epoch 71/150\n",
            "9/9 [==============================] - 0s 2ms/step - loss: 14.8368 - accuracy: 0.6972\n",
            "Epoch 72/150\n",
            "9/9 [==============================] - 0s 2ms/step - loss: 26.9675 - accuracy: 0.6021\n",
            "Epoch 73/150\n",
            "9/9 [==============================] - 0s 2ms/step - loss: 26.2842 - accuracy: 0.6268\n",
            "Epoch 74/150\n",
            "9/9 [==============================] - 0s 3ms/step - loss: 17.6796 - accuracy: 0.6655\n",
            "Epoch 75/150\n",
            "9/9 [==============================] - 0s 2ms/step - loss: 29.0664 - accuracy: 0.6127\n",
            "Epoch 76/150\n",
            "9/9 [==============================] - 0s 2ms/step - loss: 16.6490 - accuracy: 0.6761\n",
            "Epoch 77/150\n",
            "9/9 [==============================] - 0s 2ms/step - loss: 14.6918 - accuracy: 0.6585\n",
            "Epoch 78/150\n",
            "9/9 [==============================] - 0s 2ms/step - loss: 32.7813 - accuracy: 0.5915\n",
            "Epoch 79/150\n",
            "9/9 [==============================] - 0s 3ms/step - loss: 18.8905 - accuracy: 0.6585\n",
            "Epoch 80/150\n",
            "9/9 [==============================] - 0s 3ms/step - loss: 10.9567 - accuracy: 0.6972\n",
            "Epoch 81/150\n",
            "9/9 [==============================] - 0s 2ms/step - loss: 8.8302 - accuracy: 0.7430\n",
            "Epoch 82/150\n",
            "9/9 [==============================] - 0s 2ms/step - loss: 8.3668 - accuracy: 0.7359\n",
            "Epoch 83/150\n",
            "9/9 [==============================] - 0s 2ms/step - loss: 20.6047 - accuracy: 0.6549\n",
            "Epoch 84/150\n",
            "9/9 [==============================] - 0s 2ms/step - loss: 46.7496 - accuracy: 0.5458\n",
            "Epoch 85/150\n",
            "9/9 [==============================] - 0s 3ms/step - loss: 35.8348 - accuracy: 0.5563\n",
            "Epoch 86/150\n",
            "9/9 [==============================] - 0s 2ms/step - loss: 55.1628 - accuracy: 0.5246\n",
            "Epoch 87/150\n",
            "9/9 [==============================] - 0s 2ms/step - loss: 23.2631 - accuracy: 0.6620\n",
            "Epoch 88/150\n",
            "9/9 [==============================] - 0s 2ms/step - loss: 19.8609 - accuracy: 0.6444\n",
            "Epoch 89/150\n",
            "9/9 [==============================] - 0s 2ms/step - loss: 14.4864 - accuracy: 0.7218\n",
            "Epoch 90/150\n",
            "9/9 [==============================] - 0s 2ms/step - loss: 18.8762 - accuracy: 0.6585\n",
            "Epoch 91/150\n",
            "9/9 [==============================] - 0s 2ms/step - loss: 40.7530 - accuracy: 0.5845\n",
            "Epoch 92/150\n",
            "9/9 [==============================] - 0s 3ms/step - loss: 29.0549 - accuracy: 0.6056\n",
            "Epoch 93/150\n",
            "9/9 [==============================] - 0s 2ms/step - loss: 8.6471 - accuracy: 0.7254\n",
            "Epoch 94/150\n",
            "9/9 [==============================] - 0s 2ms/step - loss: 15.4942 - accuracy: 0.6585\n",
            "Epoch 95/150\n",
            "9/9 [==============================] - 0s 2ms/step - loss: 25.5375 - accuracy: 0.6197\n",
            "Epoch 96/150\n",
            "9/9 [==============================] - 0s 2ms/step - loss: 32.8003 - accuracy: 0.5880\n",
            "Epoch 97/150\n",
            "9/9 [==============================] - 0s 2ms/step - loss: 22.3678 - accuracy: 0.6197\n",
            "Epoch 98/150\n",
            "9/9 [==============================] - 0s 2ms/step - loss: 31.5714 - accuracy: 0.6303\n",
            "Epoch 99/150\n",
            "9/9 [==============================] - 0s 3ms/step - loss: 54.3109 - accuracy: 0.5493\n",
            "Epoch 100/150\n",
            "9/9 [==============================] - 0s 3ms/step - loss: 17.7770 - accuracy: 0.6655\n",
            "Epoch 101/150\n",
            "9/9 [==============================] - 0s 2ms/step - loss: 19.2095 - accuracy: 0.6620\n",
            "Epoch 102/150\n",
            "9/9 [==============================] - 0s 2ms/step - loss: 21.9286 - accuracy: 0.6514\n",
            "Epoch 103/150\n",
            "9/9 [==============================] - 0s 2ms/step - loss: 18.2091 - accuracy: 0.6408\n",
            "Epoch 104/150\n",
            "9/9 [==============================] - 0s 2ms/step - loss: 45.2354 - accuracy: 0.5915\n",
            "Epoch 105/150\n",
            "9/9 [==============================] - 0s 2ms/step - loss: 68.3530 - accuracy: 0.5739\n",
            "Epoch 106/150\n",
            "9/9 [==============================] - 0s 2ms/step - loss: 56.4572 - accuracy: 0.5915\n",
            "Epoch 107/150\n",
            "9/9 [==============================] - 0s 2ms/step - loss: 55.1914 - accuracy: 0.5282\n",
            "Epoch 108/150\n",
            "9/9 [==============================] - 0s 2ms/step - loss: 23.7199 - accuracy: 0.6514\n",
            "Epoch 109/150\n",
            "9/9 [==============================] - 0s 2ms/step - loss: 31.7286 - accuracy: 0.5810\n",
            "Epoch 110/150\n",
            "9/9 [==============================] - 0s 2ms/step - loss: 22.8133 - accuracy: 0.6549\n",
            "Epoch 111/150\n",
            "9/9 [==============================] - 0s 2ms/step - loss: 11.3299 - accuracy: 0.6831\n",
            "Epoch 112/150\n",
            "9/9 [==============================] - 0s 2ms/step - loss: 18.3296 - accuracy: 0.6690\n",
            "Epoch 113/150\n",
            "9/9 [==============================] - 0s 3ms/step - loss: 18.2587 - accuracy: 0.6796\n",
            "Epoch 114/150\n",
            "9/9 [==============================] - 0s 3ms/step - loss: 27.3820 - accuracy: 0.6021\n",
            "Epoch 115/150\n",
            "9/9 [==============================] - 0s 4ms/step - loss: 25.3634 - accuracy: 0.6303\n",
            "Epoch 116/150\n",
            "9/9 [==============================] - 0s 2ms/step - loss: 29.8790 - accuracy: 0.5634\n",
            "Epoch 117/150\n",
            "9/9 [==============================] - 0s 2ms/step - loss: 19.6405 - accuracy: 0.6585\n",
            "Epoch 118/150\n",
            "9/9 [==============================] - 0s 3ms/step - loss: 40.8222 - accuracy: 0.6021\n",
            "Epoch 119/150\n",
            "9/9 [==============================] - 0s 2ms/step - loss: 30.4479 - accuracy: 0.6021\n",
            "Epoch 120/150\n",
            "9/9 [==============================] - 0s 3ms/step - loss: 28.9283 - accuracy: 0.6162\n",
            "Epoch 121/150\n",
            "9/9 [==============================] - 0s 2ms/step - loss: 23.0601 - accuracy: 0.6549\n",
            "Epoch 122/150\n",
            "9/9 [==============================] - 0s 2ms/step - loss: 29.6158 - accuracy: 0.6162\n",
            "Epoch 123/150\n",
            "9/9 [==============================] - 0s 2ms/step - loss: 25.3899 - accuracy: 0.6408\n",
            "Epoch 124/150\n",
            "9/9 [==============================] - 0s 4ms/step - loss: 40.3473 - accuracy: 0.5775\n",
            "Epoch 125/150\n",
            "9/9 [==============================] - 0s 3ms/step - loss: 33.5566 - accuracy: 0.6197\n",
            "Epoch 126/150\n",
            "9/9 [==============================] - 0s 3ms/step - loss: 51.8868 - accuracy: 0.4930\n",
            "Epoch 127/150\n",
            "9/9 [==============================] - 0s 2ms/step - loss: 42.7842 - accuracy: 0.5880\n",
            "Epoch 128/150\n",
            "9/9 [==============================] - 0s 2ms/step - loss: 13.5437 - accuracy: 0.7042\n",
            "Epoch 129/150\n",
            "9/9 [==============================] - 0s 2ms/step - loss: 9.9065 - accuracy: 0.7042\n",
            "Epoch 130/150\n",
            "9/9 [==============================] - 0s 2ms/step - loss: 10.9938 - accuracy: 0.7254\n",
            "Epoch 131/150\n",
            "9/9 [==============================] - 0s 3ms/step - loss: 9.1949 - accuracy: 0.7254\n",
            "Epoch 132/150\n",
            "9/9 [==============================] - 0s 2ms/step - loss: 9.4203 - accuracy: 0.7324\n",
            "Epoch 133/150\n",
            "9/9 [==============================] - 0s 2ms/step - loss: 10.3073 - accuracy: 0.7289\n",
            "Epoch 134/150\n",
            "9/9 [==============================] - 0s 2ms/step - loss: 13.4905 - accuracy: 0.7007\n",
            "Epoch 135/150\n",
            "9/9 [==============================] - 0s 2ms/step - loss: 21.5263 - accuracy: 0.6690\n",
            "Epoch 136/150\n",
            "9/9 [==============================] - 0s 3ms/step - loss: 13.7471 - accuracy: 0.6655\n",
            "Epoch 137/150\n",
            "9/9 [==============================] - 0s 2ms/step - loss: 14.1044 - accuracy: 0.6655\n",
            "Epoch 138/150\n",
            "9/9 [==============================] - 0s 2ms/step - loss: 16.3553 - accuracy: 0.6690\n",
            "Epoch 139/150\n",
            "9/9 [==============================] - 0s 2ms/step - loss: 22.0956 - accuracy: 0.6373\n",
            "Epoch 140/150\n",
            "9/9 [==============================] - 0s 2ms/step - loss: 18.2854 - accuracy: 0.6725\n",
            "Epoch 141/150\n",
            "9/9 [==============================] - 0s 2ms/step - loss: 14.4364 - accuracy: 0.6972\n",
            "Epoch 142/150\n",
            "9/9 [==============================] - 0s 2ms/step - loss: 21.8500 - accuracy: 0.6303\n",
            "Epoch 143/150\n",
            "9/9 [==============================] - 0s 2ms/step - loss: 11.1268 - accuracy: 0.7113\n",
            "Epoch 144/150\n",
            "9/9 [==============================] - 0s 2ms/step - loss: 9.5524 - accuracy: 0.7289\n",
            "Epoch 145/150\n",
            "9/9 [==============================] - 0s 3ms/step - loss: 9.0064 - accuracy: 0.7430\n",
            "Epoch 146/150\n",
            "9/9 [==============================] - 0s 2ms/step - loss: 9.0656 - accuracy: 0.7359\n",
            "Epoch 147/150\n",
            "9/9 [==============================] - 0s 2ms/step - loss: 19.4148 - accuracy: 0.6655\n",
            "Epoch 148/150\n",
            "9/9 [==============================] - 0s 2ms/step - loss: 28.4541 - accuracy: 0.6303\n",
            "Epoch 149/150\n",
            "9/9 [==============================] - 0s 3ms/step - loss: 25.2942 - accuracy: 0.6197\n",
            "Epoch 150/150\n",
            "9/9 [==============================] - 0s 2ms/step - loss: 10.7371 - accuracy: 0.7430\n"
          ]
        },
        {
          "output_type": "execute_result",
          "data": {
            "text/plain": [
              "<keras.callbacks.History at 0x7f71c4f1ddc0>"
            ]
          },
          "metadata": {},
          "execution_count": 137
        }
      ]
    },
    {
      "cell_type": "code",
      "source": [
        "y_pred_nn = model.predict(X_test)"
      ],
      "metadata": {
        "colab": {
          "base_uri": "https://localhost:8080/"
        },
        "id": "vLwvs7tgx0ku",
        "outputId": "86e72e74-611e-462e-ff20-64df8325cdb1"
      },
      "execution_count": null,
      "outputs": [
        {
          "output_type": "stream",
          "name": "stdout",
          "text": [
            "4/4 [==============================] - 0s 3ms/step\n"
          ]
        }
      ]
    },
    {
      "cell_type": "code",
      "source": [
        "y_pred_nn.shape"
      ],
      "metadata": {
        "colab": {
          "base_uri": "https://localhost:8080/"
        },
        "id": "SsuakaNUyCXh",
        "outputId": "367a6c04-01c3-48f3-c126-4081c43573c1"
      },
      "execution_count": null,
      "outputs": [
        {
          "output_type": "execute_result",
          "data": {
            "text/plain": [
              "(122, 1)"
            ]
          },
          "metadata": {},
          "execution_count": 153
        }
      ]
    },
    {
      "cell_type": "code",
      "source": [
        "rounded = [round(x[0]) for x in y_pred_nn]\n",
        "\n",
        "y_pred_nn = rounded"
      ],
      "metadata": {
        "id": "tTq3ddwTyGas"
      },
      "execution_count": null,
      "outputs": []
    },
    {
      "cell_type": "code",
      "source": [
        "score_nn = round(accuracy_score(y_pred_nn,y_test)*100,2)\n",
        "\n",
        "print(\"The accuracy score achieved using Neural Network is: \"+str(score_nn)+\" %\")"
      ],
      "metadata": {
        "colab": {
          "base_uri": "https://localhost:8080/"
        },
        "id": "V51ojk0hy4YA",
        "outputId": "f93f9e60-0427-4239-ec91-3602521f76ce"
      },
      "execution_count": null,
      "outputs": [
        {
          "output_type": "stream",
          "name": "stdout",
          "text": [
            "The accuracy score achieved using Neural Network is: 71.31 %\n"
          ]
        }
      ]
    },
    {
      "cell_type": "markdown",
      "source": [
        "**Ostateczna ocena zastosowanych modeli**"
      ],
      "metadata": {
        "id": "wwOMlIeYzLR0"
      }
    },
    {
      "cell_type": "code",
      "source": [
        "models = ['Regresja Logistyczna', 'SVM','Drzewo decyzyjne', 'Las Losowy', 'Gradient Boosting', 'K-najbliżsi sąsiedzi','Neuronal Network']\n",
        "\n",
        "accuracy_score_list =[81.14754098360656, 77.87, 81.15, 81.14754098360656,  81.14754098360656, 58.19672131147541, 71.31 ]\n",
        "\n",
        "\n",
        "plt.figure(figsize=(15,10))\n",
        "sns.barplot(x=models, y=accuracy_score_list)\n",
        "plt.xlabel('Modele Klasyfikacji')\n",
        "plt.ylabel('Accuracy Score')\n",
        "plt.show()"
      ],
      "metadata": {
        "colab": {
          "base_uri": "https://localhost:8080/",
          "height": 606
        },
        "id": "VstgeoKlzHkc",
        "outputId": "ca57fe3b-cece-4909-f7ca-b6248da111df"
      },
      "execution_count": 57,
      "outputs": [
        {
          "output_type": "display_data",
          "data": {
            "text/plain": [
              "<Figure size 1080x720 with 1 Axes>"
            ],
            "image/png": "[encoded data removed]"
          },
          "metadata": {
            "needs_background": "light"
          }
        }
      ]
    },
    {
      "cell_type": "markdown",
      "source": [
        "**Sieć Neuronowa**"
      ],
      "metadata": {
        "id": "hDHAJck4jqom"
      }
    },
    {
      "cell_type": "code",
      "source": [
        "model = Sequential()\n",
        "model.add(Dense(11,activation='relu',input_dim=12))\n",
        "model.add(Dense(1,activation='sigmoid'))\n",
        "\n",
        "model.compile(loss='binary_crossentropy',optimizer='adam',metrics=['accuracy'])\n",
        "\n",
        "print(model.summary())"
      ],
      "metadata": {
        "colab": {
          "base_uri": "https://localhost:8080/"
        },
        "id": "A38HfwCTjsZ6",
        "outputId": "710b61cc-db97-4e4e-dee0-f7df865c588a"
      },
      "execution_count": 96,
      "outputs": [
        {
          "output_type": "stream",
          "name": "stdout",
          "text": [
            "Model: \"sequential_14\"\n",
            "_________________________________________________________________\n",
            " Layer (type)                Output Shape              Param #   \n",
            "=================================================================\n",
            " dense_37 (Dense)            (None, 11)                143       \n",
            "                                                                 \n",
            " dense_38 (Dense)            (None, 1)                 12        \n",
            "                                                                 \n",
            "=================================================================\n",
            "Total params: 155\n",
            "Trainable params: 155\n",
            "Non-trainable params: 0\n",
            "_________________________________________________________________\n",
            "None\n"
          ]
        }
      ]
    },
    {
      "cell_type": "code",
      "source": [
        "# fit the model to the training data\n",
        "a =model.fit(X_train, y_train, validation_data=(X_test, y_test),epochs=150, batch_size=10)"
      ],
      "metadata": {
        "colab": {
          "base_uri": "https://localhost:8080/"
        },
        "id": "EyPOA7qLj5bJ",
        "outputId": "8ad8df0c-0484-483a-83bf-dae87fc19702"
      },
      "execution_count": 97,
      "outputs": [
        {
          "output_type": "stream",
          "name": "stdout",
          "text": [
            "Epoch 1/150\n",
            "29/29 [==============================] - 1s 9ms/step - loss: 36429.1211 - accuracy: 0.5000 - val_loss: 31765.1816 - val_accuracy: 0.5000\n",
            "Epoch 2/150\n",
            "29/29 [==============================] - 0s 4ms/step - loss: 25609.0098 - accuracy: 0.5000 - val_loss: 20440.4160 - val_accuracy: 0.5000\n",
            "Epoch 3/150\n",
            "29/29 [==============================] - 0s 4ms/step - loss: 15240.7451 - accuracy: 0.5000 - val_loss: 10682.1953 - val_accuracy: 0.5000\n",
            "Epoch 4/150\n",
            "29/29 [==============================] - 0s 4ms/step - loss: 5735.8618 - accuracy: 0.5000 - val_loss: 853.7404 - val_accuracy: 0.5000\n",
            "Epoch 5/150\n",
            "29/29 [==============================] - 0s 5ms/step - loss: 549.9177 - accuracy: 0.4965 - val_loss: 137.2326 - val_accuracy: 0.5246\n",
            "Epoch 6/150\n",
            "29/29 [==============================] - 0s 4ms/step - loss: 117.8762 - accuracy: 0.4542 - val_loss: 110.2772 - val_accuracy: 0.5246\n",
            "Epoch 7/150\n",
            "29/29 [==============================] - 0s 5ms/step - loss: 105.4371 - accuracy: 0.4859 - val_loss: 120.3484 - val_accuracy: 0.5000\n",
            "Epoch 8/150\n",
            "29/29 [==============================] - 0s 4ms/step - loss: 105.6371 - accuracy: 0.4789 - val_loss: 167.5434 - val_accuracy: 0.5000\n",
            "Epoch 9/150\n",
            "29/29 [==============================] - 0s 5ms/step - loss: 103.8671 - accuracy: 0.4894 - val_loss: 45.0923 - val_accuracy: 0.4754\n",
            "Epoch 10/150\n",
            "29/29 [==============================] - 0s 4ms/step - loss: 83.2680 - accuracy: 0.4824 - val_loss: 124.7328 - val_accuracy: 0.5000\n",
            "Epoch 11/150\n",
            "29/29 [==============================] - 0s 5ms/step - loss: 164.7540 - accuracy: 0.4930 - val_loss: 41.4261 - val_accuracy: 0.5164\n",
            "Epoch 12/150\n",
            "29/29 [==============================] - 0s 4ms/step - loss: 106.6837 - accuracy: 0.5141 - val_loss: 37.5819 - val_accuracy: 0.5082\n",
            "Epoch 13/150\n",
            "29/29 [==============================] - 0s 4ms/step - loss: 67.4354 - accuracy: 0.4542 - val_loss: 28.3763 - val_accuracy: 0.4590\n",
            "Epoch 14/150\n",
            "29/29 [==============================] - 0s 4ms/step - loss: 128.6424 - accuracy: 0.4577 - val_loss: 88.3729 - val_accuracy: 0.5000\n",
            "Epoch 15/150\n",
            "29/29 [==============================] - 0s 4ms/step - loss: 70.2599 - accuracy: 0.4824 - val_loss: 60.6727 - val_accuracy: 0.5164\n",
            "Epoch 16/150\n",
            "29/29 [==============================] - 0s 4ms/step - loss: 91.0858 - accuracy: 0.4930 - val_loss: 122.7575 - val_accuracy: 0.5082\n",
            "Epoch 17/150\n",
            "29/29 [==============================] - 0s 5ms/step - loss: 51.8448 - accuracy: 0.5070 - val_loss: 42.9607 - val_accuracy: 0.5246\n",
            "Epoch 18/150\n",
            "29/29 [==============================] - 0s 4ms/step - loss: 35.4265 - accuracy: 0.5352 - val_loss: 84.9211 - val_accuracy: 0.5000\n",
            "Epoch 19/150\n",
            "29/29 [==============================] - 0s 4ms/step - loss: 78.6426 - accuracy: 0.5352 - val_loss: 65.0858 - val_accuracy: 0.5000\n",
            "Epoch 20/150\n",
            "29/29 [==============================] - 0s 4ms/step - loss: 42.3595 - accuracy: 0.5035 - val_loss: 109.7087 - val_accuracy: 0.5000\n",
            "Epoch 21/150\n",
            "29/29 [==============================] - 0s 4ms/step - loss: 61.3560 - accuracy: 0.4965 - val_loss: 66.5481 - val_accuracy: 0.4918\n",
            "Epoch 22/150\n",
            "29/29 [==============================] - 0s 4ms/step - loss: 22.1473 - accuracy: 0.5106 - val_loss: 18.0525 - val_accuracy: 0.5000\n",
            "Epoch 23/150\n",
            "29/29 [==============================] - 0s 4ms/step - loss: 40.7542 - accuracy: 0.4683 - val_loss: 87.1773 - val_accuracy: 0.5000\n",
            "Epoch 24/150\n",
            "29/29 [==============================] - 0s 6ms/step - loss: 56.6505 - accuracy: 0.4859 - val_loss: 48.0547 - val_accuracy: 0.5000\n",
            "Epoch 25/150\n",
            "29/29 [==============================] - 0s 4ms/step - loss: 28.4694 - accuracy: 0.5423 - val_loss: 19.6783 - val_accuracy: 0.5164\n",
            "Epoch 26/150\n",
            "29/29 [==============================] - 0s 4ms/step - loss: 44.5852 - accuracy: 0.5000 - val_loss: 7.2462 - val_accuracy: 0.6393\n",
            "Epoch 27/150\n",
            "29/29 [==============================] - 0s 4ms/step - loss: 21.3375 - accuracy: 0.5810 - val_loss: 85.2952 - val_accuracy: 0.5000\n",
            "Epoch 28/150\n",
            "29/29 [==============================] - 0s 6ms/step - loss: 37.7468 - accuracy: 0.5563 - val_loss: 10.7187 - val_accuracy: 0.5246\n",
            "Epoch 29/150\n",
            "29/29 [==============================] - 0s 5ms/step - loss: 16.4709 - accuracy: 0.5739 - val_loss: 21.2576 - val_accuracy: 0.5082\n",
            "Epoch 30/150\n",
            "29/29 [==============================] - 0s 5ms/step - loss: 43.9812 - accuracy: 0.5317 - val_loss: 99.6159 - val_accuracy: 0.5000\n",
            "Epoch 31/150\n",
            "29/29 [==============================] - 0s 4ms/step - loss: 20.2071 - accuracy: 0.5775 - val_loss: 19.7511 - val_accuracy: 0.5164\n",
            "Epoch 32/150\n",
            "29/29 [==============================] - 0s 4ms/step - loss: 21.7960 - accuracy: 0.5176 - val_loss: 18.1135 - val_accuracy: 0.5164\n",
            "Epoch 33/150\n",
            "29/29 [==============================] - 0s 4ms/step - loss: 66.1127 - accuracy: 0.4613 - val_loss: 9.1196 - val_accuracy: 0.5902\n",
            "Epoch 34/150\n",
            "29/29 [==============================] - 0s 4ms/step - loss: 13.7885 - accuracy: 0.6268 - val_loss: 36.3285 - val_accuracy: 0.5082\n",
            "Epoch 35/150\n",
            "29/29 [==============================] - 0s 5ms/step - loss: 39.9505 - accuracy: 0.5458 - val_loss: 51.4209 - val_accuracy: 0.5000\n",
            "Epoch 36/150\n",
            "29/29 [==============================] - 0s 5ms/step - loss: 32.6071 - accuracy: 0.5986 - val_loss: 6.1944 - val_accuracy: 0.6311\n",
            "Epoch 37/150\n",
            "29/29 [==============================] - 0s 4ms/step - loss: 47.1100 - accuracy: 0.4754 - val_loss: 22.8522 - val_accuracy: 0.5164\n",
            "Epoch 38/150\n",
            "29/29 [==============================] - 0s 5ms/step - loss: 63.2854 - accuracy: 0.5352 - val_loss: 8.5927 - val_accuracy: 0.5738\n",
            "Epoch 39/150\n",
            "29/29 [==============================] - 0s 4ms/step - loss: 21.2763 - accuracy: 0.6056 - val_loss: 4.2872 - val_accuracy: 0.7377\n",
            "Epoch 40/150\n",
            "29/29 [==============================] - 0s 4ms/step - loss: 47.6985 - accuracy: 0.5810 - val_loss: 56.9276 - val_accuracy: 0.5000\n",
            "Epoch 41/150\n",
            "29/29 [==============================] - 0s 4ms/step - loss: 68.6957 - accuracy: 0.5141 - val_loss: 5.0808 - val_accuracy: 0.7377\n",
            "Epoch 42/150\n",
            "29/29 [==============================] - 0s 6ms/step - loss: 30.3835 - accuracy: 0.5493 - val_loss: 12.4852 - val_accuracy: 0.5820\n",
            "Epoch 43/150\n",
            "29/29 [==============================] - 0s 5ms/step - loss: 55.8381 - accuracy: 0.5035 - val_loss: 26.0594 - val_accuracy: 0.5164\n",
            "Epoch 44/150\n",
            "29/29 [==============================] - 0s 4ms/step - loss: 49.9395 - accuracy: 0.5493 - val_loss: 62.7720 - val_accuracy: 0.5000\n",
            "Epoch 45/150\n",
            "29/29 [==============================] - 0s 4ms/step - loss: 20.6900 - accuracy: 0.5563 - val_loss: 4.0087 - val_accuracy: 0.7705\n",
            "Epoch 46/150\n",
            "29/29 [==============================] - 0s 4ms/step - loss: 7.8300 - accuracy: 0.6690 - val_loss: 9.8432 - val_accuracy: 0.6311\n",
            "Epoch 47/150\n",
            "29/29 [==============================] - 0s 5ms/step - loss: 94.5016 - accuracy: 0.4754 - val_loss: 112.8303 - val_accuracy: 0.5000\n",
            "Epoch 48/150\n",
            "29/29 [==============================] - 0s 4ms/step - loss: 46.6989 - accuracy: 0.5563 - val_loss: 80.4721 - val_accuracy: 0.5000\n",
            "Epoch 49/150\n",
            "29/29 [==============================] - 0s 4ms/step - loss: 21.4287 - accuracy: 0.6549 - val_loss: 5.4979 - val_accuracy: 0.6639\n",
            "Epoch 50/150\n",
            "29/29 [==============================] - 0s 4ms/step - loss: 47.5437 - accuracy: 0.5000 - val_loss: 29.6280 - val_accuracy: 0.5164\n",
            "Epoch 51/150\n",
            "29/29 [==============================] - 0s 4ms/step - loss: 38.1638 - accuracy: 0.5669 - val_loss: 14.5848 - val_accuracy: 0.5328\n",
            "Epoch 52/150\n",
            "29/29 [==============================] - 0s 4ms/step - loss: 28.2821 - accuracy: 0.5986 - val_loss: 5.7714 - val_accuracy: 0.6967\n",
            "Epoch 53/150\n",
            "29/29 [==============================] - 0s 5ms/step - loss: 10.8381 - accuracy: 0.6479 - val_loss: 8.2131 - val_accuracy: 0.6311\n",
            "Epoch 54/150\n",
            "29/29 [==============================] - 0s 4ms/step - loss: 14.2905 - accuracy: 0.6725 - val_loss: 73.9198 - val_accuracy: 0.5000\n",
            "Epoch 55/150\n",
            "29/29 [==============================] - 0s 4ms/step - loss: 31.6467 - accuracy: 0.6092 - val_loss: 28.0615 - val_accuracy: 0.5246\n",
            "Epoch 56/150\n",
            "29/29 [==============================] - 0s 4ms/step - loss: 49.5442 - accuracy: 0.5387 - val_loss: 13.7998 - val_accuracy: 0.5902\n",
            "Epoch 57/150\n",
            "29/29 [==============================] - 0s 4ms/step - loss: 20.4605 - accuracy: 0.6197 - val_loss: 4.3550 - val_accuracy: 0.7459\n",
            "Epoch 58/150\n",
            "29/29 [==============================] - 0s 4ms/step - loss: 11.5701 - accuracy: 0.6479 - val_loss: 25.9297 - val_accuracy: 0.5000\n",
            "Epoch 59/150\n",
            "29/29 [==============================] - 0s 4ms/step - loss: 21.0125 - accuracy: 0.6268 - val_loss: 54.0746 - val_accuracy: 0.5000\n",
            "Epoch 60/150\n",
            "29/29 [==============================] - 0s 6ms/step - loss: 49.9338 - accuracy: 0.5211 - val_loss: 17.7037 - val_accuracy: 0.5656\n",
            "Epoch 61/150\n",
            "29/29 [==============================] - 0s 4ms/step - loss: 12.1500 - accuracy: 0.6479 - val_loss: 18.3737 - val_accuracy: 0.5246\n",
            "Epoch 62/150\n",
            "29/29 [==============================] - 0s 4ms/step - loss: 43.1023 - accuracy: 0.5141 - val_loss: 15.1063 - val_accuracy: 0.5738\n",
            "Epoch 63/150\n",
            "29/29 [==============================] - 0s 4ms/step - loss: 33.5869 - accuracy: 0.5669 - val_loss: 11.0688 - val_accuracy: 0.5984\n",
            "Epoch 64/150\n",
            "29/29 [==============================] - 0s 4ms/step - loss: 25.2016 - accuracy: 0.5880 - val_loss: 41.4814 - val_accuracy: 0.5082\n",
            "Epoch 65/150\n",
            "29/29 [==============================] - 0s 4ms/step - loss: 30.4124 - accuracy: 0.5106 - val_loss: 58.0940 - val_accuracy: 0.5000\n",
            "Epoch 66/150\n",
            "29/29 [==============================] - 0s 4ms/step - loss: 44.9355 - accuracy: 0.5352 - val_loss: 7.5072 - val_accuracy: 0.6721\n",
            "Epoch 67/150\n",
            "29/29 [==============================] - 0s 4ms/step - loss: 14.4096 - accuracy: 0.6268 - val_loss: 11.0918 - val_accuracy: 0.6311\n",
            "Epoch 68/150\n",
            "29/29 [==============================] - 0s 4ms/step - loss: 38.5046 - accuracy: 0.5387 - val_loss: 39.2411 - val_accuracy: 0.5164\n",
            "Epoch 69/150\n",
            "29/29 [==============================] - 0s 4ms/step - loss: 32.4127 - accuracy: 0.5352 - val_loss: 6.2493 - val_accuracy: 0.6721\n",
            "Epoch 70/150\n",
            "29/29 [==============================] - 0s 6ms/step - loss: 22.2522 - accuracy: 0.6162 - val_loss: 11.3869 - val_accuracy: 0.6311\n",
            "Epoch 71/150\n",
            "29/29 [==============================] - 0s 4ms/step - loss: 31.8027 - accuracy: 0.5915 - val_loss: 12.9220 - val_accuracy: 0.5820\n",
            "Epoch 72/150\n",
            "29/29 [==============================] - 0s 4ms/step - loss: 37.1322 - accuracy: 0.5070 - val_loss: 45.7397 - val_accuracy: 0.5000\n",
            "Epoch 73/150\n",
            "29/29 [==============================] - 0s 4ms/step - loss: 30.0904 - accuracy: 0.5845 - val_loss: 4.4791 - val_accuracy: 0.7705\n",
            "Epoch 74/150\n",
            "29/29 [==============================] - 0s 4ms/step - loss: 11.4742 - accuracy: 0.7042 - val_loss: 4.3766 - val_accuracy: 0.7541\n",
            "Epoch 75/150\n",
            "29/29 [==============================] - 0s 4ms/step - loss: 23.9930 - accuracy: 0.6021 - val_loss: 46.5856 - val_accuracy: 0.5000\n",
            "Epoch 76/150\n",
            "29/29 [==============================] - 0s 4ms/step - loss: 25.6621 - accuracy: 0.6197 - val_loss: 110.7611 - val_accuracy: 0.5000\n",
            "Epoch 77/150\n",
            "29/29 [==============================] - 0s 4ms/step - loss: 49.1936 - accuracy: 0.5106 - val_loss: 16.2783 - val_accuracy: 0.5328\n",
            "Epoch 78/150\n",
            "29/29 [==============================] - 0s 4ms/step - loss: 79.4887 - accuracy: 0.5035 - val_loss: 5.9659 - val_accuracy: 0.7377\n",
            "Epoch 79/150\n",
            "29/29 [==============================] - 0s 4ms/step - loss: 11.0822 - accuracy: 0.6937 - val_loss: 5.1261 - val_accuracy: 0.7623\n",
            "Epoch 80/150\n",
            "29/29 [==============================] - 0s 4ms/step - loss: 24.4195 - accuracy: 0.6127 - val_loss: 8.4296 - val_accuracy: 0.6721\n",
            "Epoch 81/150\n",
            "29/29 [==============================] - 0s 4ms/step - loss: 27.4400 - accuracy: 0.5458 - val_loss: 72.8970 - val_accuracy: 0.5000\n",
            "Epoch 82/150\n",
            "29/29 [==============================] - 0s 4ms/step - loss: 29.3026 - accuracy: 0.5704 - val_loss: 4.9735 - val_accuracy: 0.7541\n",
            "Epoch 83/150\n",
            "29/29 [==============================] - 0s 4ms/step - loss: 15.9257 - accuracy: 0.6056 - val_loss: 52.9604 - val_accuracy: 0.5000\n",
            "Epoch 84/150\n",
            "29/29 [==============================] - 0s 4ms/step - loss: 19.5951 - accuracy: 0.6127 - val_loss: 8.3209 - val_accuracy: 0.6803\n",
            "Epoch 85/150\n",
            "29/29 [==============================] - 0s 4ms/step - loss: 44.2038 - accuracy: 0.5986 - val_loss: 79.1194 - val_accuracy: 0.5000\n",
            "Epoch 86/150\n",
            "29/29 [==============================] - 0s 5ms/step - loss: 59.6357 - accuracy: 0.5423 - val_loss: 9.4180 - val_accuracy: 0.6721\n",
            "Epoch 87/150\n",
            "29/29 [==============================] - 0s 4ms/step - loss: 16.5980 - accuracy: 0.6338 - val_loss: 71.1132 - val_accuracy: 0.5000\n",
            "Epoch 88/150\n",
            "29/29 [==============================] - 0s 4ms/step - loss: 33.3518 - accuracy: 0.5986 - val_loss: 20.1170 - val_accuracy: 0.5738\n",
            "Epoch 89/150\n",
            "29/29 [==============================] - 0s 5ms/step - loss: 28.9872 - accuracy: 0.5493 - val_loss: 27.7505 - val_accuracy: 0.5410\n",
            "Epoch 90/150\n",
            "29/29 [==============================] - 0s 4ms/step - loss: 38.2159 - accuracy: 0.5106 - val_loss: 21.6444 - val_accuracy: 0.5328\n",
            "Epoch 91/150\n",
            "29/29 [==============================] - 0s 4ms/step - loss: 23.5979 - accuracy: 0.6162 - val_loss: 45.2885 - val_accuracy: 0.5082\n",
            "Epoch 92/150\n",
            "29/29 [==============================] - 0s 4ms/step - loss: 55.2372 - accuracy: 0.5739 - val_loss: 56.7341 - val_accuracy: 0.5082\n",
            "Epoch 93/150\n",
            "29/29 [==============================] - 0s 5ms/step - loss: 40.6147 - accuracy: 0.5423 - val_loss: 28.4092 - val_accuracy: 0.5246\n",
            "Epoch 94/150\n",
            "29/29 [==============================] - 0s 4ms/step - loss: 30.0939 - accuracy: 0.5423 - val_loss: 19.4865 - val_accuracy: 0.5902\n",
            "Epoch 95/150\n",
            "29/29 [==============================] - 0s 4ms/step - loss: 40.3500 - accuracy: 0.5317 - val_loss: 51.0791 - val_accuracy: 0.5082\n",
            "Epoch 96/150\n",
            "29/29 [==============================] - 0s 4ms/step - loss: 47.9563 - accuracy: 0.5845 - val_loss: 81.3512 - val_accuracy: 0.5000\n",
            "Epoch 97/150\n",
            "29/29 [==============================] - 0s 4ms/step - loss: 24.7163 - accuracy: 0.5669 - val_loss: 12.5972 - val_accuracy: 0.6639\n",
            "Epoch 98/150\n",
            "29/29 [==============================] - 0s 4ms/step - loss: 29.5393 - accuracy: 0.5810 - val_loss: 20.0501 - val_accuracy: 0.5738\n",
            "Epoch 99/150\n",
            "29/29 [==============================] - 0s 4ms/step - loss: 23.4769 - accuracy: 0.6092 - val_loss: 14.6612 - val_accuracy: 0.5984\n",
            "Epoch 100/150\n",
            "29/29 [==============================] - 0s 4ms/step - loss: 17.8540 - accuracy: 0.5704 - val_loss: 8.2898 - val_accuracy: 0.6721\n",
            "Epoch 101/150\n",
            "29/29 [==============================] - 0s 4ms/step - loss: 44.4420 - accuracy: 0.5669 - val_loss: 245.2897 - val_accuracy: 0.5000\n",
            "Epoch 102/150\n",
            "29/29 [==============================] - 0s 6ms/step - loss: 122.8569 - accuracy: 0.5704 - val_loss: 83.5102 - val_accuracy: 0.5000\n",
            "Epoch 103/150\n",
            "29/29 [==============================] - 0s 4ms/step - loss: 52.2014 - accuracy: 0.5599 - val_loss: 25.1209 - val_accuracy: 0.5410\n",
            "Epoch 104/150\n",
            "29/29 [==============================] - 0s 6ms/step - loss: 30.1222 - accuracy: 0.5704 - val_loss: 10.6194 - val_accuracy: 0.6721\n",
            "Epoch 105/150\n",
            "29/29 [==============================] - 0s 4ms/step - loss: 22.8597 - accuracy: 0.6021 - val_loss: 29.8166 - val_accuracy: 0.5246\n",
            "Epoch 106/150\n",
            "29/29 [==============================] - 0s 4ms/step - loss: 13.0056 - accuracy: 0.6831 - val_loss: 8.8223 - val_accuracy: 0.6967\n",
            "Epoch 107/150\n",
            "29/29 [==============================] - 0s 4ms/step - loss: 33.8211 - accuracy: 0.6021 - val_loss: 41.1182 - val_accuracy: 0.5410\n",
            "Epoch 108/150\n",
            "29/29 [==============================] - 0s 4ms/step - loss: 65.9429 - accuracy: 0.5493 - val_loss: 20.1296 - val_accuracy: 0.5820\n",
            "Epoch 109/150\n",
            "29/29 [==============================] - 0s 5ms/step - loss: 17.1693 - accuracy: 0.6479 - val_loss: 5.2016 - val_accuracy: 0.7787\n",
            "Epoch 110/150\n",
            "29/29 [==============================] - 0s 4ms/step - loss: 16.2298 - accuracy: 0.6444 - val_loss: 29.3281 - val_accuracy: 0.5574\n",
            "Epoch 111/150\n",
            "29/29 [==============================] - 0s 4ms/step - loss: 21.6650 - accuracy: 0.6127 - val_loss: 17.0044 - val_accuracy: 0.5902\n",
            "Epoch 112/150\n",
            "29/29 [==============================] - 0s 4ms/step - loss: 16.2736 - accuracy: 0.6655 - val_loss: 26.8153 - val_accuracy: 0.5410\n",
            "Epoch 113/150\n",
            "29/29 [==============================] - 0s 4ms/step - loss: 26.5000 - accuracy: 0.6021 - val_loss: 7.1801 - val_accuracy: 0.7131\n",
            "Epoch 114/150\n",
            "29/29 [==============================] - 0s 6ms/step - loss: 17.9067 - accuracy: 0.6620 - val_loss: 86.0171 - val_accuracy: 0.5000\n",
            "Epoch 115/150\n",
            "29/29 [==============================] - 0s 5ms/step - loss: 38.6017 - accuracy: 0.5246 - val_loss: 22.0567 - val_accuracy: 0.5820\n",
            "Epoch 116/150\n",
            "29/29 [==============================] - 0s 5ms/step - loss: 20.7945 - accuracy: 0.6197 - val_loss: 12.0199 - val_accuracy: 0.6803\n",
            "Epoch 117/150\n",
            "29/29 [==============================] - 0s 6ms/step - loss: 32.6087 - accuracy: 0.5634 - val_loss: 78.7195 - val_accuracy: 0.5000\n",
            "Epoch 118/150\n",
            "29/29 [==============================] - 0s 4ms/step - loss: 36.4666 - accuracy: 0.5599 - val_loss: 81.3298 - val_accuracy: 0.5000\n",
            "Epoch 119/150\n",
            "29/29 [==============================] - 0s 4ms/step - loss: 53.5793 - accuracy: 0.5563 - val_loss: 5.9076 - val_accuracy: 0.7787\n",
            "Epoch 120/150\n",
            "29/29 [==============================] - 0s 4ms/step - loss: 20.8840 - accuracy: 0.5810 - val_loss: 35.9737 - val_accuracy: 0.5164\n",
            "Epoch 121/150\n",
            "29/29 [==============================] - 0s 4ms/step - loss: 27.4842 - accuracy: 0.6338 - val_loss: 12.5733 - val_accuracy: 0.6639\n",
            "Epoch 122/150\n",
            "29/29 [==============================] - 0s 5ms/step - loss: 33.0927 - accuracy: 0.5775 - val_loss: 5.6713 - val_accuracy: 0.7787\n",
            "Epoch 123/150\n",
            "29/29 [==============================] - 0s 4ms/step - loss: 22.4843 - accuracy: 0.6620 - val_loss: 62.9150 - val_accuracy: 0.5000\n",
            "Epoch 124/150\n",
            "29/29 [==============================] - 0s 5ms/step - loss: 61.1931 - accuracy: 0.5070 - val_loss: 147.2016 - val_accuracy: 0.5000\n",
            "Epoch 125/150\n",
            "29/29 [==============================] - 0s 6ms/step - loss: 54.9361 - accuracy: 0.5704 - val_loss: 88.4151 - val_accuracy: 0.5000\n",
            "Epoch 126/150\n",
            "29/29 [==============================] - 0s 6ms/step - loss: 55.8226 - accuracy: 0.5669 - val_loss: 6.6440 - val_accuracy: 0.7459\n",
            "Epoch 127/150\n",
            "29/29 [==============================] - 0s 5ms/step - loss: 15.3126 - accuracy: 0.6585 - val_loss: 12.7755 - val_accuracy: 0.6885\n",
            "Epoch 128/150\n",
            "29/29 [==============================] - 0s 6ms/step - loss: 23.8224 - accuracy: 0.6373 - val_loss: 25.3068 - val_accuracy: 0.5328\n",
            "Epoch 129/150\n",
            "29/29 [==============================] - 0s 4ms/step - loss: 32.0911 - accuracy: 0.5986 - val_loss: 8.9845 - val_accuracy: 0.7131\n",
            "Epoch 130/150\n",
            "29/29 [==============================] - 0s 4ms/step - loss: 13.1515 - accuracy: 0.6620 - val_loss: 9.0506 - val_accuracy: 0.7131\n",
            "Epoch 131/150\n",
            "29/29 [==============================] - 0s 4ms/step - loss: 12.7281 - accuracy: 0.6761 - val_loss: 31.8033 - val_accuracy: 0.5492\n",
            "Epoch 132/150\n",
            "29/29 [==============================] - 0s 4ms/step - loss: 20.8154 - accuracy: 0.6338 - val_loss: 16.0815 - val_accuracy: 0.5984\n",
            "Epoch 133/150\n",
            "29/29 [==============================] - 0s 6ms/step - loss: 15.3934 - accuracy: 0.6796 - val_loss: 5.3178 - val_accuracy: 0.7459\n",
            "Epoch 134/150\n",
            "29/29 [==============================] - 0s 4ms/step - loss: 11.1056 - accuracy: 0.6725 - val_loss: 16.7738 - val_accuracy: 0.6311\n",
            "Epoch 135/150\n",
            "29/29 [==============================] - 0s 5ms/step - loss: 33.6233 - accuracy: 0.5845 - val_loss: 109.4695 - val_accuracy: 0.5000\n",
            "Epoch 136/150\n",
            "29/29 [==============================] - 0s 4ms/step - loss: 76.4920 - accuracy: 0.5246 - val_loss: 69.4598 - val_accuracy: 0.5000\n",
            "Epoch 137/150\n",
            "29/29 [==============================] - 0s 4ms/step - loss: 77.5034 - accuracy: 0.5528 - val_loss: 175.4241 - val_accuracy: 0.5000\n",
            "Epoch 138/150\n",
            "29/29 [==============================] - 0s 6ms/step - loss: 55.9391 - accuracy: 0.5423 - val_loss: 8.9301 - val_accuracy: 0.6885\n",
            "Epoch 139/150\n",
            "29/29 [==============================] - 0s 4ms/step - loss: 22.3509 - accuracy: 0.6162 - val_loss: 78.8975 - val_accuracy: 0.5000\n",
            "Epoch 140/150\n",
            "29/29 [==============================] - 0s 5ms/step - loss: 63.9502 - accuracy: 0.5669 - val_loss: 9.1210 - val_accuracy: 0.7049\n",
            "Epoch 141/150\n",
            "29/29 [==============================] - 0s 4ms/step - loss: 11.8919 - accuracy: 0.6549 - val_loss: 5.4221 - val_accuracy: 0.7623\n",
            "Epoch 142/150\n",
            "29/29 [==============================] - 0s 5ms/step - loss: 10.1055 - accuracy: 0.6866 - val_loss: 14.9606 - val_accuracy: 0.6148\n",
            "Epoch 143/150\n",
            "29/29 [==============================] - 0s 4ms/step - loss: 14.9506 - accuracy: 0.6549 - val_loss: 14.1659 - val_accuracy: 0.6066\n",
            "Epoch 144/150\n",
            "29/29 [==============================] - 0s 4ms/step - loss: 24.9775 - accuracy: 0.6268 - val_loss: 50.0274 - val_accuracy: 0.5246\n",
            "Epoch 145/150\n",
            "29/29 [==============================] - 0s 4ms/step - loss: 18.3569 - accuracy: 0.6444 - val_loss: 19.3669 - val_accuracy: 0.6066\n",
            "Epoch 146/150\n",
            "29/29 [==============================] - 0s 4ms/step - loss: 29.7096 - accuracy: 0.5775 - val_loss: 6.5726 - val_accuracy: 0.7213\n",
            "Epoch 147/150\n",
            "29/29 [==============================] - 0s 4ms/step - loss: 19.2446 - accuracy: 0.6585 - val_loss: 83.4167 - val_accuracy: 0.5000\n",
            "Epoch 148/150\n",
            "29/29 [==============================] - 0s 4ms/step - loss: 35.7598 - accuracy: 0.5739 - val_loss: 74.2069 - val_accuracy: 0.5000\n",
            "Epoch 149/150\n",
            "29/29 [==============================] - 0s 4ms/step - loss: 70.3142 - accuracy: 0.4894 - val_loss: 58.5955 - val_accuracy: 0.5082\n",
            "Epoch 150/150\n",
            "29/29 [==============================] - 0s 4ms/step - loss: 30.2795 - accuracy: 0.5810 - val_loss: 155.4582 - val_accuracy: 0.5000\n"
          ]
        }
      ]
    },
    {
      "cell_type": "code",
      "source": [
        "# Wyplotowanie model accuracy\n",
        "\n",
        "%matplotlib inline\n",
        "\n",
        "plt.plot(history.history['accuracy'])\n",
        "plt.plot(history.history['val_accuracy'])\n",
        "plt.title('Model Accuracy')\n",
        "plt.ylabel('accuracy')\n",
        "plt.xlabel('epoch')\n",
        "plt.legend(['train', 'test'])\n",
        "plt.show()"
      ],
      "metadata": {
        "colab": {
          "base_uri": "https://localhost:8080/",
          "height": 295
        },
        "id": "nYEb-osknYKo",
        "outputId": "af31ea81-8011-499a-c314-0c69a9879d0e"
      },
      "execution_count": 98,
      "outputs": [
        {
          "output_type": "display_data",
          "data": {
            "text/plain": [
              "<Figure size 432x288 with 1 Axes>"
            ],
            "image/png": "[encoded data removed]"
          },
          "metadata": {
            "needs_background": "light"
          }
        }
      ]
    },
    {
      "cell_type": "code",
      "source": [
        "# model loss\n",
        "\n",
        "plt.plot(history.history['loss'])\n",
        "plt.plot(history.history['val_loss'])\n",
        "plt.title('Model Loss')\n",
        "plt.ylabel('loss')\n",
        "plt.xlabel('epoch')\n",
        "plt.legend(['train', 'test'])\n",
        "plt.show()"
      ],
      "metadata": {
        "colab": {
          "base_uri": "https://localhost:8080/",
          "height": 295
        },
        "id": "TtbQHCqSpFA4",
        "outputId": "6c531ce4-ee46-4559-f173-39d0840db9e9"
      },
      "execution_count": 99,
      "outputs": [
        {
          "output_type": "display_data",
          "data": {
            "text/plain": [
              "<Figure size 432x288 with 1 Axes>"
            ],
            "image/png": "[encoded data removed]"
          },
          "metadata": {
            "needs_background": "light"
          }
        }
      ]
    },
    {
      "cell_type": "code",
      "source": [
        "#accuracy dla modelu uczenia maszynowego wychodzi nieco ponad 0,50. W związku z tym najlepszy model do przewidywania \n",
        "#ryzyka śmiercli u pacjentów względem innych zmiennych daje nadal las losowy"
      ],
      "metadata": {
        "id": "--jnNQojuN9K"
      },
      "execution_count": null,
      "outputs": []
    }
  ]
}