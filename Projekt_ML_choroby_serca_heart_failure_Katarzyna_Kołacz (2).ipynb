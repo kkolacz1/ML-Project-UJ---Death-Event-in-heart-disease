{
  "nbformat": 4,
  "nbformat_minor": 0,
  "metadata": {
    "colab": {
      "provenance": []
    },
    "kernelspec": {
      "name": "python3",
      "display_name": "Python 3"
    },
    "language_info": {
      "name": "python"
    }
  },
  "cells": [
    {
      "cell_type": "markdown",
      "source": [
        "**Cel projektu:**\n",
        "(analiza datasetu) Celem projektu jest: Podwierdzenie dwóch cech będących w największej korelacji ze zdarzeniem śmierci u pacjentów (od strony analizy danych)\n",
        "(Machine Learning part) Celem projektu zastosowanie znalezienie z pośród zaproponowanych przez autorów klasyfikatorów, najlepszej metody do oceny przeżycia.\n",
        "\n",
        "\n",
        "**Zbiór danych:** \n",
        "\n",
        "Projekt został zrealizowany w oparciu o artykuł: Chicco, D., Jurman, G. Machine learning can predict survival of patients with heart failure from serum creatinine and ejection fraction alone. BMC Med Inform Decis Mak 20, 16 (2020). https://doi.org/10.1186/s12911-020-1023-5 znaleziony na stronie: Machine learning can predict survival of patients with heart failure from serum creatinine and ejection fraction alone | BMC Medical Informatics and Decision Making | Full Text (biomedcentral.com) (open access)\n",
        "\n",
        "**Źródło i opis danych:**\n",
        "Dane do projektu zostały pobrane ze strony UCI – Machine Learning repository. W źródłach literaturowych artykułu znajduje się bezpośredni link do źródła :  UCI Machine Learning Repository: Heart failure clinical records Data Set (open access)"
      ],
      "metadata": {
        "id": "ddJu_7RnAtwj"
      }
    },
    {
      "cell_type": "markdown",
      "source": [
        "**Zaimportowanie bibliotek**"
      ],
      "metadata": {
        "id": "gMrqVoSAwxWT"
      }
    },
    {
      "cell_type": "code",
      "source": [
        "## Wizualizacja i przegląd datasetu\n",
        "import numpy as np\n",
        "import pandas as pd\n",
        "import matplotlib as mt \n",
        "import matplotlib.pyplot as plt\n",
        "from matplotlib import rcParams\n",
        "import seaborn as sns #do macierzy korelacji\n",
        "from sklearn.preprocessing import LabelEncoder, OneHotEncoder #do przekształcenia zmiennych kategorycznych w binarne\n",
        "\n",
        "## Import bibliotek do części Machine Learning\n",
        "from sklearn.model_selection import train_test_split\n",
        "from sklearn.preprocessing import StandardScaler\n",
        "from sklearn.feature_selection import mutual_info_classif\n",
        "from imblearn.over_sampling import SMOTE\n",
        "from sklearn.metrics import accuracy_score, confusion_matrix, classification_report\n",
        "from sklearn.linear_model import LogisticRegression\n",
        "from sklearn.neighbors import KNeighborsClassifier\n",
        "from sklearn.svm import SVC\n",
        "from sklearn.tree import DecisionTreeClassifier\n",
        "from sklearn.ensemble import RandomForestClassifier\n",
        "from sklearn.ensemble import GradientBoostingClassifier\n",
        "\n",
        "\n",
        "# + biblioteki do Neuronal Network\n",
        "from keras.models import Sequential\n",
        "from keras.layers import Dense\n",
        "\n"
      ],
      "metadata": {
        "id": "0xbod__uw1FA"
      },
      "execution_count": 128,
      "outputs": []
    },
    {
      "cell_type": "markdown",
      "source": [],
      "metadata": {
        "id": "0Kw6vHuUqmBM"
      }
    },
    {
      "cell_type": "markdown",
      "source": [
        "**Zaimportowanie datasetu:**"
      ],
      "metadata": {
        "id": "1TOpuxEQvFT3"
      }
    },
    {
      "cell_type": "code",
      "source": [
        "from google.colab import files\n",
        "import io\n",
        "\n",
        "dataset = files.upload()"
      ],
      "metadata": {
        "colab": {
          "base_uri": "https://localhost:8080/",
          "height": 111
        },
        "id": "a9-kU3KUvNV4",
        "outputId": "566a157d-f8f5-4f98-fd11-12498c491d4c"
      },
      "execution_count": null,
      "outputs": [
        {
          "output_type": "display_data",
          "data": {
            "text/plain": [
              "<IPython.core.display.HTML object>"
            ],
            "text/html": [
              "\n",
              "     <input type=\"file\" id=\"files-21cd3610-0cc4-434e-8c2c-6fae34ba9dd9\" name=\"files[]\" multiple disabled\n",
              "        style=\"border:none\" />\n",
              "     <output id=\"result-21cd3610-0cc4-434e-8c2c-6fae34ba9dd9\">\n",
              "      Upload widget is only available when the cell has been executed in the\n",
              "      current browser session. Please rerun this cell to enable.\n",
              "      </output>\n",
              "      <script>// Copyright 2017 Google LLC\n",
              "//\n",
              "// Licensed under the Apache License, Version 2.0 (the \"License\");\n",
              "// you may not use this file except in compliance with the License.\n",
              "// You may obtain a copy of the License at\n",
              "//\n",
              "//      http://www.apache.org/licenses/LICENSE-2.0\n",
              "//\n",
              "// Unless required by applicable law or agreed to in writing, software\n",
              "// distributed under the License is distributed on an \"AS IS\" BASIS,\n",
              "// WITHOUT WARRANTIES OR CONDITIONS OF ANY KIND, either express or implied.\n",
              "// See the License for the specific language governing permissions and\n",
              "// limitations under the License.\n",
              "\n",
              "/**\n",
              " * @fileoverview Helpers for google.colab Python module.\n",
              " */\n",
              "(function(scope) {\n",
              "function span(text, styleAttributes = {}) {\n",
              "  const element = document.createElement('span');\n",
              "  element.textContent = text;\n",
              "  for (const key of Object.keys(styleAttributes)) {\n",
              "    element.style[key] = styleAttributes[key];\n",
              "  }\n",
              "  return element;\n",
              "}\n",
              "\n",
              "// Max number of bytes which will be uploaded at a time.\n",
              "const MAX_PAYLOAD_SIZE = 100 * 1024;\n",
              "\n",
              "function _uploadFiles(inputId, outputId) {\n",
              "  const steps = uploadFilesStep(inputId, outputId);\n",
              "  const outputElement = document.getElementById(outputId);\n",
              "  // Cache steps on the outputElement to make it available for the next call\n",
              "  // to uploadFilesContinue from Python.\n",
              "  outputElement.steps = steps;\n",
              "\n",
              "  return _uploadFilesContinue(outputId);\n",
              "}\n",
              "\n",
              "// This is roughly an async generator (not supported in the browser yet),\n",
              "// where there are multiple asynchronous steps and the Python side is going\n",
              "// to poll for completion of each step.\n",
              "// This uses a Promise to block the python side on completion of each step,\n",
              "// then passes the result of the previous step as the input to the next step.\n",
              "function _uploadFilesContinue(outputId) {\n",
              "  const outputElement = document.getElementById(outputId);\n",
              "  const steps = outputElement.steps;\n",
              "\n",
              "  const next = steps.next(outputElement.lastPromiseValue);\n",
              "  return Promise.resolve(next.value.promise).then((value) => {\n",
              "    // Cache the last promise value to make it available to the next\n",
              "    // step of the generator.\n",
              "    outputElement.lastPromiseValue = value;\n",
              "    return next.value.response;\n",
              "  });\n",
              "}\n",
              "\n",
              "/**\n",
              " * Generator function which is called between each async step of the upload\n",
              " * process.\n",
              " * @param {string} inputId Element ID of the input file picker element.\n",
              " * @param {string} outputId Element ID of the output display.\n",
              " * @return {!Iterable<!Object>} Iterable of next steps.\n",
              " */\n",
              "function* uploadFilesStep(inputId, outputId) {\n",
              "  const inputElement = document.getElementById(inputId);\n",
              "  inputElement.disabled = false;\n",
              "\n",
              "  const outputElement = document.getElementById(outputId);\n",
              "  outputElement.innerHTML = '';\n",
              "\n",
              "  const pickedPromise = new Promise((resolve) => {\n",
              "    inputElement.addEventListener('change', (e) => {\n",
              "      resolve(e.target.files);\n",
              "    });\n",
              "  });\n",
              "\n",
              "  const cancel = document.createElement('button');\n",
              "  inputElement.parentElement.appendChild(cancel);\n",
              "  cancel.textContent = 'Cancel upload';\n",
              "  const cancelPromise = new Promise((resolve) => {\n",
              "    cancel.onclick = () => {\n",
              "      resolve(null);\n",
              "    };\n",
              "  });\n",
              "\n",
              "  // Wait for the user to pick the files.\n",
              "  const files = yield {\n",
              "    promise: Promise.race([pickedPromise, cancelPromise]),\n",
              "    response: {\n",
              "      action: 'starting',\n",
              "    }\n",
              "  };\n",
              "\n",
              "  cancel.remove();\n",
              "\n",
              "  // Disable the input element since further picks are not allowed.\n",
              "  inputElement.disabled = true;\n",
              "\n",
              "  if (!files) {\n",
              "    return {\n",
              "      response: {\n",
              "        action: 'complete',\n",
              "      }\n",
              "    };\n",
              "  }\n",
              "\n",
              "  for (const file of files) {\n",
              "    const li = document.createElement('li');\n",
              "    li.append(span(file.name, {fontWeight: 'bold'}));\n",
              "    li.append(span(\n",
              "        `(${file.type || 'n/a'}) - ${file.size} bytes, ` +\n",
              "        `last modified: ${\n",
              "            file.lastModifiedDate ? file.lastModifiedDate.toLocaleDateString() :\n",
              "                                    'n/a'} - `));\n",
              "    const percent = span('0% done');\n",
              "    li.appendChild(percent);\n",
              "\n",
              "    outputElement.appendChild(li);\n",
              "\n",
              "    const fileDataPromise = new Promise((resolve) => {\n",
              "      const reader = new FileReader();\n",
              "      reader.onload = (e) => {\n",
              "        resolve(e.target.result);\n",
              "      };\n",
              "      reader.readAsArrayBuffer(file);\n",
              "    });\n",
              "    // Wait for the data to be ready.\n",
              "    let fileData = yield {\n",
              "      promise: fileDataPromise,\n",
              "      response: {\n",
              "        action: 'continue',\n",
              "      }\n",
              "    };\n",
              "\n",
              "    // Use a chunked sending to avoid message size limits. See b/62115660.\n",
              "    let position = 0;\n",
              "    do {\n",
              "      const length = Math.min(fileData.byteLength - position, MAX_PAYLOAD_SIZE);\n",
              "      const chunk = new Uint8Array(fileData, position, length);\n",
              "      position += length;\n",
              "\n",
              "      const base64 = btoa(String.fromCharCode.apply(null, chunk));\n",
              "      yield {\n",
              "        response: {\n",
              "          action: 'append',\n",
              "          file: file.name,\n",
              "          data: base64,\n",
              "        },\n",
              "      };\n",
              "\n",
              "      let percentDone = fileData.byteLength === 0 ?\n",
              "          100 :\n",
              "          Math.round((position / fileData.byteLength) * 100);\n",
              "      percent.textContent = `${percentDone}% done`;\n",
              "\n",
              "    } while (position < fileData.byteLength);\n",
              "  }\n",
              "\n",
              "  // All done.\n",
              "  yield {\n",
              "    response: {\n",
              "      action: 'complete',\n",
              "    }\n",
              "  };\n",
              "}\n",
              "\n",
              "scope.google = scope.google || {};\n",
              "scope.google.colab = scope.google.colab || {};\n",
              "scope.google.colab._files = {\n",
              "  _uploadFiles,\n",
              "  _uploadFilesContinue,\n",
              "};\n",
              "})(self);\n",
              "</script> "
            ]
          },
          "metadata": {}
        },
        {
          "output_type": "stream",
          "name": "stdout",
          "text": [
            "Saving heart_failure_clinical_records_dataset.csv to heart_failure_clinical_records_dataset.csv\n"
          ]
        }
      ]
    },
    {
      "cell_type": "code",
      "source": [
        "ds = pd.read_csv(io.StringIO(dataset['heart_failure_clinical_records_dataset.csv'].decode('utf-8')))"
      ],
      "metadata": {
        "id": "qtqnsBx5vuzx"
      },
      "execution_count": null,
      "outputs": []
    },
    {
      "cell_type": "markdown",
      "source": [
        "**Wizualizacja datasetu wraz z przeglądem danych**"
      ],
      "metadata": {
        "id": "PX4fPeTzw-9_"
      }
    },
    {
      "cell_type": "code",
      "source": [
        "ds.head(10)"
      ],
      "metadata": {
        "colab": {
          "base_uri": "https://localhost:8080/",
          "height": 427
        },
        "id": "l44QG7evxD0g",
        "outputId": "14a51e58-e52d-4f12-f353-7e4491c0eb6a"
      },
      "execution_count": null,
      "outputs": [
        {
          "output_type": "execute_result",
          "data": {
            "text/plain": [
              "    age  anaemia  creatinine_phosphokinase  diabetes  ejection_fraction  \\\n",
              "0  75.0        0                       582         0                 20   \n",
              "1  55.0        0                      7861         0                 38   \n",
              "2  65.0        0                       146         0                 20   \n",
              "3  50.0        1                       111         0                 20   \n",
              "4  65.0        1                       160         1                 20   \n",
              "5  90.0        1                        47         0                 40   \n",
              "6  75.0        1                       246         0                 15   \n",
              "7  60.0        1                       315         1                 60   \n",
              "8  65.0        0                       157         0                 65   \n",
              "9  80.0        1                       123         0                 35   \n",
              "\n",
              "   high_blood_pressure  platelets  serum_creatinine  serum_sodium  sex  \\\n",
              "0                    1  265000.00               1.9           130    1   \n",
              "1                    0  263358.03               1.1           136    1   \n",
              "2                    0  162000.00               1.3           129    1   \n",
              "3                    0  210000.00               1.9           137    1   \n",
              "4                    0  327000.00               2.7           116    0   \n",
              "5                    1  204000.00               2.1           132    1   \n",
              "6                    0  127000.00               1.2           137    1   \n",
              "7                    0  454000.00               1.1           131    1   \n",
              "8                    0  263358.03               1.5           138    0   \n",
              "9                    1  388000.00               9.4           133    1   \n",
              "\n",
              "   smoking  time  DEATH_EVENT  \n",
              "0        0     4            1  \n",
              "1        0     6            1  \n",
              "2        1     7            1  \n",
              "3        0     7            1  \n",
              "4        0     8            1  \n",
              "5        1     8            1  \n",
              "6        0    10            1  \n",
              "7        1    10            1  \n",
              "8        0    10            1  \n",
              "9        1    10            1  "
            ],
            "text/html": [
              "\n",
              "  <div id=\"df-4071dfaa-57c4-47e8-969c-f49bedc24aa9\">\n",
              "    <div class=\"colab-df-container\">\n",
              "      <div>\n",
              "<style scoped>\n",
              "    .dataframe tbody tr th:only-of-type {\n",
              "        vertical-align: middle;\n",
              "    }\n",
              "\n",
              "    .dataframe tbody tr th {\n",
              "        vertical-align: top;\n",
              "    }\n",
              "\n",
              "    .dataframe thead th {\n",
              "        text-align: right;\n",
              "    }\n",
              "</style>\n",
              "<table border=\"1\" class=\"dataframe\">\n",
              "  <thead>\n",
              "    <tr style=\"text-align: right;\">\n",
              "      <th></th>\n",
              "      <th>age</th>\n",
              "      <th>anaemia</th>\n",
              "      <th>creatinine_phosphokinase</th>\n",
              "      <th>diabetes</th>\n",
              "      <th>ejection_fraction</th>\n",
              "      <th>high_blood_pressure</th>\n",
              "      <th>platelets</th>\n",
              "      <th>serum_creatinine</th>\n",
              "      <th>serum_sodium</th>\n",
              "      <th>sex</th>\n",
              "      <th>smoking</th>\n",
              "      <th>time</th>\n",
              "      <th>DEATH_EVENT</th>\n",
              "    </tr>\n",
              "  </thead>\n",
              "  <tbody>\n",
              "    <tr>\n",
              "      <th>0</th>\n",
              "      <td>75.0</td>\n",
              "      <td>0</td>\n",
              "      <td>582</td>\n",
              "      <td>0</td>\n",
              "      <td>20</td>\n",
              "      <td>1</td>\n",
              "      <td>265000.00</td>\n",
              "      <td>1.9</td>\n",
              "      <td>130</td>\n",
              "      <td>1</td>\n",
              "      <td>0</td>\n",
              "      <td>4</td>\n",
              "      <td>1</td>\n",
              "    </tr>\n",
              "    <tr>\n",
              "      <th>1</th>\n",
              "      <td>55.0</td>\n",
              "      <td>0</td>\n",
              "      <td>7861</td>\n",
              "      <td>0</td>\n",
              "      <td>38</td>\n",
              "      <td>0</td>\n",
              "      <td>263358.03</td>\n",
              "      <td>1.1</td>\n",
              "      <td>136</td>\n",
              "      <td>1</td>\n",
              "      <td>0</td>\n",
              "      <td>6</td>\n",
              "      <td>1</td>\n",
              "    </tr>\n",
              "    <tr>\n",
              "      <th>2</th>\n",
              "      <td>65.0</td>\n",
              "      <td>0</td>\n",
              "      <td>146</td>\n",
              "      <td>0</td>\n",
              "      <td>20</td>\n",
              "      <td>0</td>\n",
              "      <td>162000.00</td>\n",
              "      <td>1.3</td>\n",
              "      <td>129</td>\n",
              "      <td>1</td>\n",
              "      <td>1</td>\n",
              "      <td>7</td>\n",
              "      <td>1</td>\n",
              "    </tr>\n",
              "    <tr>\n",
              "      <th>3</th>\n",
              "      <td>50.0</td>\n",
              "      <td>1</td>\n",
              "      <td>111</td>\n",
              "      <td>0</td>\n",
              "      <td>20</td>\n",
              "      <td>0</td>\n",
              "      <td>210000.00</td>\n",
              "      <td>1.9</td>\n",
              "      <td>137</td>\n",
              "      <td>1</td>\n",
              "      <td>0</td>\n",
              "      <td>7</td>\n",
              "      <td>1</td>\n",
              "    </tr>\n",
              "    <tr>\n",
              "      <th>4</th>\n",
              "      <td>65.0</td>\n",
              "      <td>1</td>\n",
              "      <td>160</td>\n",
              "      <td>1</td>\n",
              "      <td>20</td>\n",
              "      <td>0</td>\n",
              "      <td>327000.00</td>\n",
              "      <td>2.7</td>\n",
              "      <td>116</td>\n",
              "      <td>0</td>\n",
              "      <td>0</td>\n",
              "      <td>8</td>\n",
              "      <td>1</td>\n",
              "    </tr>\n",
              "    <tr>\n",
              "      <th>5</th>\n",
              "      <td>90.0</td>\n",
              "      <td>1</td>\n",
              "      <td>47</td>\n",
              "      <td>0</td>\n",
              "      <td>40</td>\n",
              "      <td>1</td>\n",
              "      <td>204000.00</td>\n",
              "      <td>2.1</td>\n",
              "      <td>132</td>\n",
              "      <td>1</td>\n",
              "      <td>1</td>\n",
              "      <td>8</td>\n",
              "      <td>1</td>\n",
              "    </tr>\n",
              "    <tr>\n",
              "      <th>6</th>\n",
              "      <td>75.0</td>\n",
              "      <td>1</td>\n",
              "      <td>246</td>\n",
              "      <td>0</td>\n",
              "      <td>15</td>\n",
              "      <td>0</td>\n",
              "      <td>127000.00</td>\n",
              "      <td>1.2</td>\n",
              "      <td>137</td>\n",
              "      <td>1</td>\n",
              "      <td>0</td>\n",
              "      <td>10</td>\n",
              "      <td>1</td>\n",
              "    </tr>\n",
              "    <tr>\n",
              "      <th>7</th>\n",
              "      <td>60.0</td>\n",
              "      <td>1</td>\n",
              "      <td>315</td>\n",
              "      <td>1</td>\n",
              "      <td>60</td>\n",
              "      <td>0</td>\n",
              "      <td>454000.00</td>\n",
              "      <td>1.1</td>\n",
              "      <td>131</td>\n",
              "      <td>1</td>\n",
              "      <td>1</td>\n",
              "      <td>10</td>\n",
              "      <td>1</td>\n",
              "    </tr>\n",
              "    <tr>\n",
              "      <th>8</th>\n",
              "      <td>65.0</td>\n",
              "      <td>0</td>\n",
              "      <td>157</td>\n",
              "      <td>0</td>\n",
              "      <td>65</td>\n",
              "      <td>0</td>\n",
              "      <td>263358.03</td>\n",
              "      <td>1.5</td>\n",
              "      <td>138</td>\n",
              "      <td>0</td>\n",
              "      <td>0</td>\n",
              "      <td>10</td>\n",
              "      <td>1</td>\n",
              "    </tr>\n",
              "    <tr>\n",
              "      <th>9</th>\n",
              "      <td>80.0</td>\n",
              "      <td>1</td>\n",
              "      <td>123</td>\n",
              "      <td>0</td>\n",
              "      <td>35</td>\n",
              "      <td>1</td>\n",
              "      <td>388000.00</td>\n",
              "      <td>9.4</td>\n",
              "      <td>133</td>\n",
              "      <td>1</td>\n",
              "      <td>1</td>\n",
              "      <td>10</td>\n",
              "      <td>1</td>\n",
              "    </tr>\n",
              "  </tbody>\n",
              "</table>\n",
              "</div>\n",
              "      <button class=\"colab-df-convert\" onclick=\"convertToInteractive('df-4071dfaa-57c4-47e8-969c-f49bedc24aa9')\"\n",
              "              title=\"Convert this dataframe to an interactive table.\"\n",
              "              style=\"display:none;\">\n",
              "        \n",
              "  <svg xmlns=\"http://www.w3.org/2000/svg\" height=\"24px\"viewBox=\"0 0 24 24\"\n",
              "       width=\"24px\">\n",
              "    <path d=\"M0 0h24v24H0V0z\" fill=\"none\"/>\n",
              "    <path d=\"M18.56 5.44l.94 2.06.94-2.06 2.06-.94-2.06-.94-.94-2.06-.94 2.06-2.06.94zm-11 1L8.5 8.5l.94-2.06 2.06-.94-2.06-.94L8.5 2.5l-.94 2.06-2.06.94zm10 10l.94 2.06.94-2.06 2.06-.94-2.06-.94-.94-2.06-.94 2.06-2.06.94z\"/><path d=\"M17.41 7.96l-1.37-1.37c-.4-.4-.92-.59-1.43-.59-.52 0-1.04.2-1.43.59L10.3 9.45l-7.72 7.72c-.78.78-.78 2.05 0 2.83L4 21.41c.39.39.9.59 1.41.59.51 0 1.02-.2 1.41-.59l7.78-7.78 2.81-2.81c.8-.78.8-2.07 0-2.86zM5.41 20L4 18.59l7.72-7.72 1.47 1.35L5.41 20z\"/>\n",
              "  </svg>\n",
              "      </button>\n",
              "      \n",
              "  <style>\n",
              "    .colab-df-container {\n",
              "      display:flex;\n",
              "      flex-wrap:wrap;\n",
              "      gap: 12px;\n",
              "    }\n",
              "\n",
              "    .colab-df-convert {\n",
              "      background-color: #E8F0FE;\n",
              "      border: none;\n",
              "      border-radius: 50%;\n",
              "      cursor: pointer;\n",
              "      display: none;\n",
              "      fill: #1967D2;\n",
              "      height: 32px;\n",
              "      padding: 0 0 0 0;\n",
              "      width: 32px;\n",
              "    }\n",
              "\n",
              "    .colab-df-convert:hover {\n",
              "      background-color: #E2EBFA;\n",
              "      box-shadow: 0px 1px 2px rgba(60, 64, 67, 0.3), 0px 1px 3px 1px rgba(60, 64, 67, 0.15);\n",
              "      fill: #174EA6;\n",
              "    }\n",
              "\n",
              "    [theme=dark] .colab-df-convert {\n",
              "      background-color: #3B4455;\n",
              "      fill: #D2E3FC;\n",
              "    }\n",
              "\n",
              "    [theme=dark] .colab-df-convert:hover {\n",
              "      background-color: #434B5C;\n",
              "      box-shadow: 0px 1px 3px 1px rgba(0, 0, 0, 0.15);\n",
              "      filter: drop-shadow(0px 1px 2px rgba(0, 0, 0, 0.3));\n",
              "      fill: #FFFFFF;\n",
              "    }\n",
              "  </style>\n",
              "\n",
              "      <script>\n",
              "        const buttonEl =\n",
              "          document.querySelector('#df-4071dfaa-57c4-47e8-969c-f49bedc24aa9 button.colab-df-convert');\n",
              "        buttonEl.style.display =\n",
              "          google.colab.kernel.accessAllowed ? 'block' : 'none';\n",
              "\n",
              "        async function convertToInteractive(key) {\n",
              "          const element = document.querySelector('#df-4071dfaa-57c4-47e8-969c-f49bedc24aa9');\n",
              "          const dataTable =\n",
              "            await google.colab.kernel.invokeFunction('convertToInteractive',\n",
              "                                                     [key], {});\n",
              "          if (!dataTable) return;\n",
              "\n",
              "          const docLinkHtml = 'Like what you see? Visit the ' +\n",
              "            '<a target=\"_blank\" href=https://colab.research.google.com/notebooks/data_table.ipynb>data table notebook</a>'\n",
              "            + ' to learn more about interactive tables.';\n",
              "          element.innerHTML = '';\n",
              "          dataTable['output_type'] = 'display_data';\n",
              "          await google.colab.output.renderOutput(dataTable, element);\n",
              "          const docLink = document.createElement('div');\n",
              "          docLink.innerHTML = docLinkHtml;\n",
              "          element.appendChild(docLink);\n",
              "        }\n",
              "      </script>\n",
              "    </div>\n",
              "  </div>\n",
              "  "
            ]
          },
          "metadata": {},
          "execution_count": 10
        }
      ]
    },
    {
      "cell_type": "code",
      "source": [
        "print(\"Liczba rekordów - wierszy: {}\\nLiczba zmiennych: {}\".format(ds.shape[0], ds.shape[1]))"
      ],
      "metadata": {
        "colab": {
          "base_uri": "https://localhost:8080/"
        },
        "id": "igDfPvfvxH6L",
        "outputId": "899eee80-2c2a-4644-d86b-5bfe74816772"
      },
      "execution_count": null,
      "outputs": [
        {
          "output_type": "stream",
          "name": "stdout",
          "text": [
            "Liczba rekordów - wierszy: 299\n",
            "Liczba zmiennych: 13\n"
          ]
        }
      ]
    },
    {
      "cell_type": "code",
      "source": [
        "## sprawdzimy informację o datasecie\n",
        "ds.info() \n"
      ],
      "metadata": {
        "colab": {
          "base_uri": "https://localhost:8080/"
        },
        "id": "lhebeLEZxOes",
        "outputId": "ad58d650-4b62-4913-9903-53723cec8c6a"
      },
      "execution_count": null,
      "outputs": [
        {
          "output_type": "stream",
          "name": "stdout",
          "text": [
            "<class 'pandas.core.frame.DataFrame'>\n",
            "RangeIndex: 299 entries, 0 to 298\n",
            "Data columns (total 13 columns):\n",
            " #   Column                    Non-Null Count  Dtype  \n",
            "---  ------                    --------------  -----  \n",
            " 0   age                       299 non-null    float64\n",
            " 1   anaemia                   299 non-null    int64  \n",
            " 2   creatinine_phosphokinase  299 non-null    int64  \n",
            " 3   diabetes                  299 non-null    int64  \n",
            " 4   ejection_fraction         299 non-null    int64  \n",
            " 5   high_blood_pressure       299 non-null    int64  \n",
            " 6   platelets                 299 non-null    float64\n",
            " 7   serum_creatinine          299 non-null    float64\n",
            " 8   serum_sodium              299 non-null    int64  \n",
            " 9   sex                       299 non-null    int64  \n",
            " 10  smoking                   299 non-null    int64  \n",
            " 11  time                      299 non-null    int64  \n",
            " 12  DEATH_EVENT               299 non-null    int64  \n",
            "dtypes: float64(3), int64(10)\n",
            "memory usage: 30.5 KB\n"
          ]
        }
      ]
    },
    {
      "cell_type": "markdown",
      "source": [
        "* Typy danych, to floar64 i int 64, brak zmiennych kategorycznych trudnych w użytkowaniu do obliczeń ML\n"
      ],
      "metadata": {
        "id": "z37fn0DqxRTA"
      }
    },
    {
      "cell_type": "code",
      "source": [
        "#sprawdzenie czy columny mają jakieś wartości, których brakuje\n",
        "ds.isnull().sum()\n"
      ],
      "metadata": {
        "colab": {
          "base_uri": "https://localhost:8080/"
        },
        "id": "lnTxFIBqxMhI",
        "outputId": "cc171ad1-991d-46af-9abe-71f2c3525060"
      },
      "execution_count": null,
      "outputs": [
        {
          "output_type": "execute_result",
          "data": {
            "text/plain": [
              "age                         0\n",
              "anaemia                     0\n",
              "creatinine_phosphokinase    0\n",
              "diabetes                    0\n",
              "ejection_fraction           0\n",
              "high_blood_pressure         0\n",
              "platelets                   0\n",
              "serum_creatinine            0\n",
              "serum_sodium                0\n",
              "sex                         0\n",
              "smoking                     0\n",
              "time                        0\n",
              "DEATH_EVENT                 0\n",
              "dtype: int64"
            ]
          },
          "metadata": {},
          "execution_count": 15
        }
      ]
    },
    {
      "cell_type": "markdown",
      "source": [
        "Wygląda na to, że dataset nie ma brakujących wartości w kolumnach"
      ],
      "metadata": {
        "id": "60FqozfcxuZG"
      }
    },
    {
      "cell_type": "markdown",
      "source": [
        "**Przeżycie vs. śmierć**\n",
        "Autorzy oparli publikację na sprawdzaniu, jakie czynniki wpływają na śmierć pacjenta, dlatego dobrze będzie sprawdzić, jak w datasecie rozkłada się ilość pacjentów, którzy przeżyli.\n",
        "\n"
      ],
      "metadata": {
        "id": "SQWvypYs1DFo"
      }
    },
    {
      "cell_type": "code",
      "source": [
        "death = ds[ds[\"DEATH_EVENT\"] == 1].shape[0]\n",
        "survival = ds[ds[\"DEATH_EVENT\"] == 0].shape[0]\n",
        "proportion = (death / survival)*100\n",
        "#rozklad danych\n",
        "print(f\"ilość wszystkich przypadków przeżycia = {survival}\")\n",
        "print(f\"ilość wszystkich przypadków śmierci = {death}\")\n",
        "print(f\"procent wszystkich przypadków przezycia = {proportion}\")\n",
        "\n"
      ],
      "metadata": {
        "colab": {
          "base_uri": "https://localhost:8080/"
        },
        "id": "LHVaJqAN2UgF",
        "outputId": "2b5c3aba-ee20-4e52-f50d-38f9c17950a3"
      },
      "execution_count": null,
      "outputs": [
        {
          "output_type": "stream",
          "name": "stdout",
          "text": [
            "ilość wszystkich przypadków przeżycia = 203\n",
            "ilość wszystkich przypadków śmierci = 96\n",
            "procent wszystkich przypadków przezycia = 47.29064039408867\n"
          ]
        }
      ]
    },
    {
      "cell_type": "markdown",
      "source": [
        "**Wizualizacja danych**\n",
        "\n",
        "W celu lepszego zwizualizowania danych zdecydowałam się na wizualizację metodą macierzy korelacji. Jej elementy to wrtości współczynników korelacji dla odpowiednich par zmiennych losowych. Dzieki temu będzie można zobaczyć, jaki stopień wzajemnego skorelowania mają konkretne zmienne"
      ],
      "metadata": {
        "id": "-96NtlAMx2IR"
      }
    },
    {
      "cell_type": "code",
      "source": [
        "#tworzenie macierzy korelacji\n",
        "corr = ds.corr() \n",
        "corr_features = corr.index\n",
        "plt.figure(figsize=(20,20)) #rozmiar macierzy\n",
        "\n",
        "#mapa cieplna\n",
        "heat_corr = sns.heatmap(ds[corr_features].corr(),annot=True,cmap=\"Greens\", linewidth=3) \n",
        "#chyba mój ulubiony kolor dla macierzy korelacji :)\n",
        "\n"
      ],
      "metadata": {
        "colab": {
          "base_uri": "https://localhost:8080/",
          "height": 697
        },
        "id": "iRVlGgsDxzyO",
        "outputId": "b1c0ecd6-3b27-42db-ecc7-8506f9d09873"
      },
      "execution_count": null,
      "outputs": [
        {
          "output_type": "display_data",
          "data": {
            "text/plain": [
              "<Figure size 1440x1440 with 2 Axes>"
            ],
            "image/png": "[encoded data removed]"
          },
          "metadata": {
            "needs_background": "light"
          }
        }
      ]
    },
    {
      "cell_type": "markdown",
      "source": [
        "* poszukajmy najbardziej skorelowanych danych z \"DEATH_EVENT\"\n"
      ],
      "metadata": {
        "id": "bec_wq33yDYp"
      }
    },
    {
      "cell_type": "code",
      "source": [
        "features = ds.corr()\n",
        "features[abs(features['DEATH_EVENT']) > 0.1]['DEATH_EVENT']"
      ],
      "metadata": {
        "colab": {
          "base_uri": "https://localhost:8080/"
        },
        "id": "5UlLMbAw4gfA",
        "outputId": "5746da44-6277-40b6-c35b-626f5a3d469a"
      },
      "execution_count": null,
      "outputs": [
        {
          "output_type": "execute_result",
          "data": {
            "text/plain": [
              "age                  0.253729\n",
              "ejection_fraction   -0.268603\n",
              "serum_creatinine     0.294278\n",
              "serum_sodium        -0.195204\n",
              "time                -0.526964\n",
              "DEATH_EVENT          1.000000\n",
              "Name: DEATH_EVENT, dtype: float64"
            ]
          },
          "metadata": {},
          "execution_count": 28
        }
      ]
    },
    {
      "cell_type": "markdown",
      "source": [
        "najbardziej skorelowane ze śmiercią zmienne, to:\n",
        "* age - wiek\n",
        "* ejection fraction - frakcja wyrzutowa\n",
        "* serum_creatinine - kreatynina w surowicy\n",
        "* serum sodium - sód w surowicy\n",
        "* time - czas obserwacji (tutaj chodzi o czas spędzony w szpitalu - im dłuższy tym poważniejsze uszkodzenie miało miejsce u pacjenta)"
      ],
      "metadata": {
        "id": "VSOj2GQg5ZyU"
      }
    },
    {
      "cell_type": "markdown",
      "source": [
        "Wyniki zbliżone powinny pojawić się w przypadku algorytmów uczenia maszynowego. \n",
        "\n"
      ],
      "metadata": {
        "id": "5mXqNi1N6nDm"
      }
    },
    {
      "cell_type": "markdown",
      "source": [
        "Celem projektu jest przewidzenie przeżycia pacjenta (oszacowane na podstawie the highest accuracy. W tym celu zasosowano kilka algorytmów uczenia mas"
      ],
      "metadata": {
        "id": "5WvMr2U1QyGy"
      }
    },
    {
      "cell_type": "markdown",
      "source": [
        "**Podział zbioru danych**"
      ],
      "metadata": {
        "id": "PZXQ0ulZ6Lsm"
      }
    },
    {
      "cell_type": "markdown",
      "source": [
        "Podział danych: Autorzy podzielili dane następująco: \n",
        "\n",
        "Zestaw treningowy - 70% pacjentów (0.7) Zestaw testowy - 30% pacjentów (0.3)\n",
        "\n",
        "Podział względem zmiennej DEATH_EVENT jest kloczowy. Następnie modele implementowane są właśnie względem tego podziału i jednocześnie później zastosowana sztuczna sieć neuronowa ocenia te modele (zbudowane na podstawie wcześniej zbudowanego podziału)"
      ],
      "metadata": {
        "id": "6qCkR-5kAICF"
      }
    },
    {
      "cell_type": "code",
      "source": [
        "X = ds.drop(['DEATH_EVENT'], axis=1)\n",
        "y = ds[\"DEATH_EVENT\"]\n",
        "\n",
        "X.shape, y.shape\n"
      ],
      "metadata": {
        "id": "_AcfeHkFyHVi",
        "colab": {
          "base_uri": "https://localhost:8080/"
        },
        "outputId": "8df06a8c-70fc-4dca-ad58-db348b5a3f88"
      },
      "execution_count": null,
      "outputs": [
        {
          "output_type": "execute_result",
          "data": {
            "text/plain": [
              "((299, 12), (299,))"
            ]
          },
          "metadata": {},
          "execution_count": 67
        }
      ]
    },
    {
      "cell_type": "code",
      "source": [
        "\n",
        "y.value_counts()"
      ],
      "metadata": {
        "colab": {
          "base_uri": "https://localhost:8080/"
        },
        "outputId": "7a7611a8-b811-4f50-e8fa-f3e084cb61f0",
        "id": "CZeJF75JTVWw"
      },
      "execution_count": null,
      "outputs": [
        {
          "output_type": "execute_result",
          "data": {
            "text/plain": [
              "0    203\n",
              "1     96\n",
              "Name: DEATH_EVENT, dtype: int64"
            ]
          },
          "metadata": {},
          "execution_count": 68
        }
      ]
    },
    {
      "cell_type": "markdown",
      "source": [
        "**Widać, że rozkład jest niezbalansowany, w związku z tym zastosuję algorytm SMOTE**"
      ],
      "metadata": {
        "id": "2V7QNFyaTZJC"
      }
    },
    {
      "cell_type": "code",
      "source": [
        "X_smote,y_smote = SMOTE().fit_resample(X,y)\n",
        "y_smote.value_counts()"
      ],
      "metadata": {
        "colab": {
          "base_uri": "https://localhost:8080/"
        },
        "id": "xLy3ZlEkTjZ8",
        "outputId": "37e995d3-e521-48c3-8655-773c6e823093"
      },
      "execution_count": null,
      "outputs": [
        {
          "output_type": "execute_result",
          "data": {
            "text/plain": [
              "1    203\n",
              "0    203\n",
              "Name: DEATH_EVENT, dtype: int64"
            ]
          },
          "metadata": {},
          "execution_count": 71
        }
      ]
    },
    {
      "cell_type": "markdown",
      "source": [
        "**Podział zbioru danych**"
      ],
      "metadata": {
        "id": "iOzUx_oUOdP5"
      }
    },
    {
      "cell_type": "code",
      "source": [
        "X_train, X_test, y_train, y_test = train_test_split(X_smote, y_smote, stratify = y_smote, test_size=0.30, train_size=0.70, random_state=50)\n",
        "\n",
        "print('Rozkład treningowy - X_train:', X_train.shape)\n",
        "print('Rozkład testowy- X_test:', X_test.shape)\n",
        "print('Rozkład y-treningowy:', y_train.shape)\n",
        "print('Rozkład y-testowy:', y_test.shape)"
      ],
      "metadata": {
        "colab": {
          "base_uri": "https://localhost:8080/"
        },
        "id": "ZEx5H8KnU0w9",
        "outputId": "fad46adb-88ef-4803-9a84-5b39cc0ccfbd"
      },
      "execution_count": null,
      "outputs": [
        {
          "output_type": "stream",
          "name": "stdout",
          "text": [
            "Rozkład treningowy - X_train: (284, 12)\n",
            "Rozkład testowy- X_test: (122, 12)\n",
            "Rozkład y-treningowy: (284,)\n",
            "Rozkład y-testowy: (122,)\n"
          ]
        }
      ]
    },
    {
      "cell_type": "markdown",
      "source": [
        "**Zastosowanie algorytmów uczenia maszynowego**\n",
        "\n",
        "W publikcji autorzy zasosowali kilka algorytmów uczenia maszynowego\n",
        "1. Regresja logistyczna\n",
        "2. SVM\n",
        "3. Drzewo decyzyjne\n",
        "4. Las losowy\n",
        "5. Gradient Boosting \n",
        "6. KNN- K-najbliżsi sąsiedzi\n",
        "\n",
        "W zastosowaniu algorytmów uczenia maszynowego i zbudowania sieci neuronowej posiłkowałam się zeszytami z zajęc, oraz:\n",
        "https://github.com/g-shreekant/Heart-Disease-Prediction-using-Machine-Learning/blob/master/Heart_disease_prediction.ipynb"
      ],
      "metadata": {
        "id": "EaMY0TauyTCk"
      }
    },
    {
      "cell_type": "markdown",
      "source": [
        "**1. Regresja logistyczna**"
      ],
      "metadata": {
        "id": "I6TKBIBkAS5d"
      }
    },
    {
      "cell_type": "code",
      "source": [
        "regression = LogisticRegression()\n",
        "model1 = regression.fit(X_train, y_train)\n",
        "y_pred = model1.predict(X_test)\n",
        "\n"
      ],
      "metadata": {
        "colab": {
          "base_uri": "https://localhost:8080/"
        },
        "id": "jeECJsTe_In9",
        "outputId": "ad5e6eca-a7ed-45db-d56f-8785b1094f26"
      },
      "execution_count": 172,
      "outputs": [
        {
          "output_type": "stream",
          "name": "stderr",
          "text": [
            "/usr/local/lib/python3.8/dist-packages/sklearn/linear_model/_logistic.py:814: ConvergenceWarning: lbfgs failed to converge (status=1):\n",
            "STOP: TOTAL NO. of ITERATIONS REACHED LIMIT.\n",
            "\n",
            "Increase the number of iterations (max_iter) or scale the data as shown in:\n",
            "    https://scikit-learn.org/stable/modules/preprocessing.html\n",
            "Please also refer to the documentation for alternative solver options:\n",
            "    https://scikit-learn.org/stable/modules/linear_model.html#logistic-regression\n",
            "  n_iter_i = _check_optimize_result(\n"
          ]
        }
      ]
    },
    {
      "cell_type": "code",
      "source": [
        "print(classification_report(y_test, y_pred))\n",
        "accuracy = accuracy_score(y_test, y_pred)\n",
        "accuracy"
      ],
      "metadata": {
        "colab": {
          "base_uri": "https://localhost:8080/"
        },
        "id": "fV2ugFJq4UME",
        "outputId": "25fe6f1d-d3f3-449d-8ab8-1a8b0399ff84"
      },
      "execution_count": 173,
      "outputs": [
        {
          "output_type": "stream",
          "name": "stdout",
          "text": [
            "              precision    recall  f1-score   support\n",
            "\n",
            "           0       0.77      0.84      0.80        61\n",
            "           1       0.82      0.75      0.79        61\n",
            "\n",
            "    accuracy                           0.80       122\n",
            "   macro avg       0.80      0.80      0.79       122\n",
            "weighted avg       0.80      0.80      0.79       122\n",
            "\n"
          ]
        },
        {
          "output_type": "execute_result",
          "data": {
            "text/plain": [
              "0.7950819672131147"
            ]
          },
          "metadata": {},
          "execution_count": 173
        }
      ]
    },
    {
      "cell_type": "code",
      "source": [
        "y_pred.shape"
      ],
      "metadata": {
        "colab": {
          "base_uri": "https://localhost:8080/"
        },
        "id": "94tgpw-R4W1W",
        "outputId": "59189244-7574-462b-97d6-78ea787dac60"
      },
      "execution_count": 174,
      "outputs": [
        {
          "output_type": "execute_result",
          "data": {
            "text/plain": [
              "(122,)"
            ]
          },
          "metadata": {},
          "execution_count": 174
        }
      ]
    },
    {
      "cell_type": "code",
      "source": [
        "score_regression= round(accuracy_score(y_pred ,y_test)*100,2)\n",
        "score_regression"
      ],
      "metadata": {
        "colab": {
          "base_uri": "https://localhost:8080/"
        },
        "id": "xgGDKlq74acq",
        "outputId": "128a0e01-f4e9-405b-eb80-6825c87cc6b5"
      },
      "execution_count": 179,
      "outputs": [
        {
          "output_type": "execute_result",
          "data": {
            "text/plain": [
              "79.51"
            ]
          },
          "metadata": {},
          "execution_count": 179
        }
      ]
    },
    {
      "cell_type": "code",
      "source": [
        "sns.heatmap(confusion_matrix(y_test,y_pred), cbar=True, annot=True)"
      ],
      "metadata": {
        "colab": {
          "base_uri": "https://localhost:8080/",
          "height": 283
        },
        "id": "F0FmvJz9ObXw",
        "outputId": "bd00051e-93e3-46a0-a50c-6f715e4c9a10"
      },
      "execution_count": 178,
      "outputs": [
        {
          "output_type": "execute_result",
          "data": {
            "text/plain": [
              "<matplotlib.axes._subplots.AxesSubplot at 0x7f71c4f08040>"
            ]
          },
          "metadata": {},
          "execution_count": 178
        },
        {
          "output_type": "display_data",
          "data": {
            "text/plain": [
              "<Figure size 432x288 with 2 Axes>"
            ],
            "image/png": "[encoded data removed]"
          },
          "metadata": {
            "needs_background": "light"
          }
        }
      ]
    },
    {
      "cell_type": "markdown",
      "source": [
        "**2.SVC - Maszyna Wektorów Nośnych**"
      ],
      "metadata": {
        "id": "PsmKiosdXbOO"
      }
    },
    {
      "cell_type": "code",
      "source": [
        "from sklearn.svm import SVC\n",
        "vector_machine = SVC(kernel=\"linear\")\n",
        "model= vector_machine.fit(X_train, y_train)\n",
        "y_pred = model.predict(X_test)\n",
        "\n",
        "\n"
      ],
      "metadata": {
        "id": "VCRYQ8idFTEe"
      },
      "execution_count": 180,
      "outputs": []
    },
    {
      "cell_type": "code",
      "source": [
        "print(classification_report(y_test, y_pred))\n",
        "accuracy = accuracy_score(y_test, y_pred)\n",
        "accuracy\n"
      ],
      "metadata": {
        "colab": {
          "base_uri": "https://localhost:8080/"
        },
        "id": "tHNaYsEB5aRl",
        "outputId": "bd34f296-74c6-4c58-a77a-4b97b9024bbc"
      },
      "execution_count": 181,
      "outputs": [
        {
          "output_type": "stream",
          "name": "stdout",
          "text": [
            "              precision    recall  f1-score   support\n",
            "\n",
            "           0       0.79      0.75      0.77        61\n",
            "           1       0.77      0.80      0.78        61\n",
            "\n",
            "    accuracy                           0.78       122\n",
            "   macro avg       0.78      0.78      0.78       122\n",
            "weighted avg       0.78      0.78      0.78       122\n",
            "\n"
          ]
        },
        {
          "output_type": "execute_result",
          "data": {
            "text/plain": [
              "0.7786885245901639"
            ]
          },
          "metadata": {},
          "execution_count": 181
        }
      ]
    },
    {
      "cell_type": "code",
      "source": [
        "y_pred.shape"
      ],
      "metadata": {
        "colab": {
          "base_uri": "https://localhost:8080/"
        },
        "id": "n9h2OOZM5ltV",
        "outputId": "12398775-04ce-4133-9d5c-553611095fcf"
      },
      "execution_count": 182,
      "outputs": [
        {
          "output_type": "execute_result",
          "data": {
            "text/plain": [
              "(122,)"
            ]
          },
          "metadata": {},
          "execution_count": 182
        }
      ]
    },
    {
      "cell_type": "code",
      "source": [
        "score_vector_machine = round(accuracy_score(y_pred ,y_test)*100,2)\n",
        "score_vector_machine"
      ],
      "metadata": {
        "colab": {
          "base_uri": "https://localhost:8080/"
        },
        "id": "bQj87TjW5uWr",
        "outputId": "a79b91bc-1beb-49b6-dd79-ef9f6da4707e"
      },
      "execution_count": 183,
      "outputs": [
        {
          "output_type": "execute_result",
          "data": {
            "text/plain": [
              "77.87"
            ]
          },
          "metadata": {},
          "execution_count": 183
        }
      ]
    },
    {
      "cell_type": "code",
      "source": [
        "\n",
        "sns.heatmap(confusion_matrix(y_test,y_pred), cbar=True, annot=True)"
      ],
      "metadata": {
        "colab": {
          "base_uri": "https://localhost:8080/",
          "height": 283
        },
        "id": "dnR9yhHj5dpi",
        "outputId": "5f1bac28-b2e2-4ea9-f275-17e6e1a9c389"
      },
      "execution_count": 184,
      "outputs": [
        {
          "output_type": "execute_result",
          "data": {
            "text/plain": [
              "<matplotlib.axes._subplots.AxesSubplot at 0x7f71c4f08850>"
            ]
          },
          "metadata": {},
          "execution_count": 184
        },
        {
          "output_type": "display_data",
          "data": {
            "text/plain": [
              "<Figure size 432x288 with 2 Axes>"
            ],
            "image/png": "[encoded data removed]"
          },
          "metadata": {
            "needs_background": "light"
          }
        }
      ]
    },
    {
      "cell_type": "markdown",
      "source": [
        "**3.Drzewo decyzyjne**"
      ],
      "metadata": {
        "id": "wbwOXChMYeEM"
      }
    },
    {
      "cell_type": "code",
      "source": [
        "decision_tree = DecisionTreeClassifier()\n",
        "model = decision_tree.fit(X_train,y_train)\n",
        "y_pred = model.predict(X_test)\n"
      ],
      "metadata": {
        "id": "hSZHPHroYcLV"
      },
      "execution_count": 185,
      "outputs": []
    },
    {
      "cell_type": "code",
      "source": [
        "print(classification_report(y_test, y_pred))\n",
        "accuracy = accuracy_score(y_test, y_pred)\n",
        "accuracy\n"
      ],
      "metadata": {
        "colab": {
          "base_uri": "https://localhost:8080/"
        },
        "id": "BsWU7uxR6CI1",
        "outputId": "2f71037f-4315-46d5-eba6-4ef5fb3f1fb8"
      },
      "execution_count": 186,
      "outputs": [
        {
          "output_type": "stream",
          "name": "stdout",
          "text": [
            "              precision    recall  f1-score   support\n",
            "\n",
            "           0       0.67      0.84      0.74        61\n",
            "           1       0.78      0.59      0.67        61\n",
            "\n",
            "    accuracy                           0.71       122\n",
            "   macro avg       0.73      0.71      0.71       122\n",
            "weighted avg       0.73      0.71      0.71       122\n",
            "\n"
          ]
        },
        {
          "output_type": "execute_result",
          "data": {
            "text/plain": [
              "0.7131147540983607"
            ]
          },
          "metadata": {},
          "execution_count": 186
        }
      ]
    },
    {
      "cell_type": "code",
      "source": [
        "sns.heatmap(confusion_matrix(y_test,y_pred), cbar=True, annot=True)"
      ],
      "metadata": {
        "colab": {
          "base_uri": "https://localhost:8080/",
          "height": 283
        },
        "id": "0R58vLU-6GDD",
        "outputId": "ca53bcfd-bb49-4e06-9e38-52239a84dff3"
      },
      "execution_count": 188,
      "outputs": [
        {
          "output_type": "execute_result",
          "data": {
            "text/plain": [
              "<matplotlib.axes._subplots.AxesSubplot at 0x7f71c8be8220>"
            ]
          },
          "metadata": {},
          "execution_count": 188
        },
        {
          "output_type": "display_data",
          "data": {
            "text/plain": [
              "<Figure size 432x288 with 2 Axes>"
            ],
            "image/png": "[encoded data removed]"
          },
          "metadata": {
            "needs_background": "light"
          }
        }
      ]
    },
    {
      "cell_type": "code",
      "source": [
        "y_pred.shape"
      ],
      "metadata": {
        "colab": {
          "base_uri": "https://localhost:8080/"
        },
        "id": "GbbcoYkm07C4",
        "outputId": "41597baf-0efe-46b9-9dc7-c085cf57632d"
      },
      "execution_count": 162,
      "outputs": [
        {
          "output_type": "execute_result",
          "data": {
            "text/plain": [
              "(122,)"
            ]
          },
          "metadata": {},
          "execution_count": 162
        }
      ]
    },
    {
      "cell_type": "code",
      "source": [
        "score_decision_tree = round(accuracy_score(y_pred ,y_test)*100,2)\n",
        "score_decision_tree"
      ],
      "metadata": {
        "colab": {
          "base_uri": "https://localhost:8080/"
        },
        "id": "RlmDVY4X6O_E",
        "outputId": "63ce7287-274c-44e3-8465-4c9a8fc4cbe4"
      },
      "execution_count": 202,
      "outputs": [
        {
          "output_type": "execute_result",
          "data": {
            "text/plain": [
              "81.15"
            ]
          },
          "metadata": {},
          "execution_count": 202
        }
      ]
    },
    {
      "cell_type": "markdown",
      "source": [
        "**4.Lasy Losowe**"
      ],
      "metadata": {
        "id": "eTF9VV0Ha4gX"
      }
    },
    {
      "cell_type": "code",
      "source": [
        "random_forest = RandomForestClassifier(n_estimators=100)\n",
        "model = random_forest.fit(X_train,y_train)\n",
        "y_pred = model.predict(X_test)\n",
        "\n"
      ],
      "metadata": {
        "id": "ZmzcFpDxa9Q8"
      },
      "execution_count": 190,
      "outputs": []
    },
    {
      "cell_type": "code",
      "source": [
        "print(classification_report(y_test,y_pred))\n",
        "accuracy = accuracy_score(y_test, y_pred)\n",
        "accuracy \n"
      ],
      "metadata": {
        "colab": {
          "base_uri": "https://localhost:8080/"
        },
        "id": "1Sabvj3c6aUf",
        "outputId": "019a6837-5626-45ad-e3fb-1d3a54752361"
      },
      "execution_count": 191,
      "outputs": [
        {
          "output_type": "stream",
          "name": "stdout",
          "text": [
            "              precision    recall  f1-score   support\n",
            "\n",
            "           0       0.84      0.87      0.85        61\n",
            "           1       0.86      0.84      0.85        61\n",
            "\n",
            "    accuracy                           0.85       122\n",
            "   macro avg       0.85      0.85      0.85       122\n",
            "weighted avg       0.85      0.85      0.85       122\n",
            "\n"
          ]
        },
        {
          "output_type": "execute_result",
          "data": {
            "text/plain": [
              "0.8524590163934426"
            ]
          },
          "metadata": {},
          "execution_count": 191
        }
      ]
    },
    {
      "cell_type": "code",
      "source": [
        "sns.heatmap(confusion_matrix(y_test,y_pred), cbar=True, annot=True)"
      ],
      "metadata": {
        "colab": {
          "base_uri": "https://localhost:8080/",
          "height": 283
        },
        "id": "kSS5OcFL6f_h",
        "outputId": "a53139df-47e9-4d35-9121-de605aca4947"
      },
      "execution_count": 192,
      "outputs": [
        {
          "output_type": "execute_result",
          "data": {
            "text/plain": [
              "<matplotlib.axes._subplots.AxesSubplot at 0x7f71c8b7ba90>"
            ]
          },
          "metadata": {},
          "execution_count": 192
        },
        {
          "output_type": "display_data",
          "data": {
            "text/plain": [
              "<Figure size 432x288 with 2 Axes>"
            ],
            "image/png": "[encoded data removed]"
          },
          "metadata": {
            "needs_background": "light"
          }
        }
      ]
    },
    {
      "cell_type": "code",
      "source": [
        "score_random_forest =(accuracy_score(y_pred ,y_test)*100,2)\n",
        "score_random_forest"
      ],
      "metadata": {
        "colab": {
          "base_uri": "https://localhost:8080/"
        },
        "id": "W2gP5fqN6olq",
        "outputId": "a1f7680f-ef26-49bc-f648-d08cc46d8eeb"
      },
      "execution_count": 203,
      "outputs": [
        {
          "output_type": "execute_result",
          "data": {
            "text/plain": [
              "(81.14754098360656, 2)"
            ]
          },
          "metadata": {},
          "execution_count": 203
        }
      ]
    },
    {
      "cell_type": "markdown",
      "source": [
        "**5.Gradient Boosting**\n"
      ],
      "metadata": {
        "id": "DblX-oVRcNsO"
      }
    },
    {
      "cell_type": "code",
      "source": [
        "gradient_boosting = GradientBoostingClassifier()\n",
        "model = gradient_boosting.fit(X_train, y_train)\n",
        "y_pred = model.predict(X_test)\n",
        "\n",
        "\n"
      ],
      "metadata": {
        "id": "Va4O0lbecKsf"
      },
      "execution_count": 194,
      "outputs": []
    },
    {
      "cell_type": "code",
      "source": [
        "\n",
        "print(classification_report(y_test,y_pred))\n",
        "accuracy = accuracy_score(y_test, y_pred)\n",
        "accuracy \n"
      ],
      "metadata": {
        "colab": {
          "base_uri": "https://localhost:8080/"
        },
        "id": "6EIGqJyF603J",
        "outputId": "95f47b91-45b0-42c7-86de-ac46a89471cb"
      },
      "execution_count": 195,
      "outputs": [
        {
          "output_type": "stream",
          "name": "stdout",
          "text": [
            "              precision    recall  f1-score   support\n",
            "\n",
            "           0       0.78      0.87      0.82        61\n",
            "           1       0.85      0.75      0.80        61\n",
            "\n",
            "    accuracy                           0.81       122\n",
            "   macro avg       0.82      0.81      0.81       122\n",
            "weighted avg       0.82      0.81      0.81       122\n",
            "\n"
          ]
        },
        {
          "output_type": "execute_result",
          "data": {
            "text/plain": [
              "0.8114754098360656"
            ]
          },
          "metadata": {},
          "execution_count": 195
        }
      ]
    },
    {
      "cell_type": "code",
      "source": [
        "sns.heatmap(confusion_matrix(y_test,y_pred), cbar=True, annot=True)"
      ],
      "metadata": {
        "colab": {
          "base_uri": "https://localhost:8080/",
          "height": 283
        },
        "id": "ZluR_ig264E4",
        "outputId": "530f313d-53a6-4f1c-863c-e07dd6bfaa70"
      },
      "execution_count": 196,
      "outputs": [
        {
          "output_type": "execute_result",
          "data": {
            "text/plain": [
              "<matplotlib.axes._subplots.AxesSubplot at 0x7f71c8af13a0>"
            ]
          },
          "metadata": {},
          "execution_count": 196
        },
        {
          "output_type": "display_data",
          "data": {
            "text/plain": [
              "<Figure size 432x288 with 2 Axes>"
            ],
            "image/png": "[encoded data removed]"
          },
          "metadata": {
            "needs_background": "light"
          }
        }
      ]
    },
    {
      "cell_type": "code",
      "source": [
        "score_gradient_boosting =(accuracy_score(y_pred ,y_test)*100)\n",
        "score_gradient_boosting"
      ],
      "metadata": {
        "colab": {
          "base_uri": "https://localhost:8080/"
        },
        "id": "RuHsu4aF6-d7",
        "outputId": "b634599e-3d46-48d0-e32c-a09f6efddaca"
      },
      "execution_count": 199,
      "outputs": [
        {
          "output_type": "execute_result",
          "data": {
            "text/plain": [
              "81.14754098360656"
            ]
          },
          "metadata": {},
          "execution_count": 199
        }
      ]
    },
    {
      "cell_type": "markdown",
      "source": [
        "**6. K-Nabliżsi sąsiedzi (K-Nearest Neighbor)**\n"
      ],
      "metadata": {
        "id": "NY5nO925dMy-"
      }
    },
    {
      "cell_type": "code",
      "source": [
        "# Sprawdzenie ile sąsiadów powinniśmy uwzględnić:\n",
        "\n",
        "KNN = []\n",
        "for neighbors in range(3,10):\n",
        "    classifier = KNeighborsClassifier(n_neighbors=neighbors)\n",
        "    classifier.fit(X_train, y_train)\n",
        "    y_pred = classifier.predict(X_test)\n",
        "    KNN.append(accuracy_score(y_test,y_pred))\n",
        "\n",
        "plt.plot(KNN)\n"
      ],
      "metadata": {
        "colab": {
          "base_uri": "https://localhost:8080/",
          "height": 265
        },
        "id": "AheIVo9bdHAu",
        "outputId": "ca6d712c-d825-4ac5-d201-f64173295dc9"
      },
      "execution_count": 117,
      "outputs": [
        {
          "output_type": "display_data",
          "data": {
            "text/plain": [
              "<Figure size 432x288 with 1 Axes>"
            ],
            "image/png": "[encoded data removed]"
          },
          "metadata": {
            "needs_background": "light"
          }
        }
      ]
    },
    {
      "cell_type": "code",
      "source": [
        "# 5 Neighbors is the best option\n",
        "\n",
        "classification = KNeighborsClassifier(n_neighbors=5)\n",
        "classification.fit(X_train, y_train)\n",
        "y_pred = classification.predict(X_test)\n"
      ],
      "metadata": {
        "id": "Ent51YSpe7h6"
      },
      "execution_count": 204,
      "outputs": []
    },
    {
      "cell_type": "code",
      "source": [
        "print(classification_report(y_test,y_pred))\n",
        "accuracy = accuracy_score(y_test, y_pred)\n",
        "accuracy "
      ],
      "metadata": {
        "colab": {
          "base_uri": "https://localhost:8080/"
        },
        "id": "JVWpuEhz7kPN",
        "outputId": "e4d1daa0-f673-48d6-ea2c-0e0ba5f7f0d6"
      },
      "execution_count": 205,
      "outputs": [
        {
          "output_type": "stream",
          "name": "stdout",
          "text": [
            "              precision    recall  f1-score   support\n",
            "\n",
            "           0       0.58      0.62      0.60        61\n",
            "           1       0.59      0.54      0.56        61\n",
            "\n",
            "    accuracy                           0.58       122\n",
            "   macro avg       0.58      0.58      0.58       122\n",
            "weighted avg       0.58      0.58      0.58       122\n",
            "\n"
          ]
        },
        {
          "output_type": "execute_result",
          "data": {
            "text/plain": [
              "0.5819672131147541"
            ]
          },
          "metadata": {},
          "execution_count": 205
        }
      ]
    },
    {
      "cell_type": "code",
      "source": [
        "sns.heatmap(confusion_matrix(y_test,y_pred), cbar=True, annot=True)"
      ],
      "metadata": {
        "colab": {
          "base_uri": "https://localhost:8080/",
          "height": 287
        },
        "id": "cBg4Tv4f7ql1",
        "outputId": "c3c577e2-abee-4b46-e705-550b47cc6a79"
      },
      "execution_count": 206,
      "outputs": [
        {
          "output_type": "execute_result",
          "data": {
            "text/plain": [
              "<matplotlib.axes._subplots.AxesSubplot at 0x7f71c8a8f610>"
            ]
          },
          "metadata": {},
          "execution_count": 206
        },
        {
          "output_type": "display_data",
          "data": {
            "text/plain": [
              "<Figure size 432x288 with 2 Axes>"
            ],
            "image/png": "[encoded data removed]"
          },
          "metadata": {
            "needs_background": "light"
          }
        }
      ]
    },
    {
      "cell_type": "code",
      "source": [
        "score_KNN =(accuracy_score(y_pred ,y_test)*100)\n",
        "score_KNN"
      ],
      "metadata": {
        "colab": {
          "base_uri": "https://localhost:8080/"
        },
        "id": "dML_ZUg57uZg",
        "outputId": "2520a1af-5503-4599-d20d-8e3a7e83cd5b"
      },
      "execution_count": 207,
      "outputs": [
        {
          "output_type": "execute_result",
          "data": {
            "text/plain": [
              "58.19672131147541"
            ]
          },
          "metadata": {},
          "execution_count": 207
        }
      ]
    },
    {
      "cell_type": "code",
      "source": [
        "models = ['Regresja Logistyczna', 'SVM','Drzewo decyzyjne', 'Las Losowy', 'Gradient Boosting', 'K-najbliżsi sąsiedzi']\n",
        "\n",
        "print(score_random_forest, score_vector_machine,score_decision_tree, score_random_forest, score_gradient_boosting, score_KNN)"
      ],
      "metadata": {
        "colab": {
          "base_uri": "https://localhost:8080/"
        },
        "id": "-uEtdM9l85Cn",
        "outputId": "7f96edda-dd8d-4e48-a37d-af9269829e6a"
      },
      "execution_count": 210,
      "outputs": [
        {
          "output_type": "stream",
          "name": "stdout",
          "text": [
            "(81.14754098360656, 2) 77.87 81.15 (81.14754098360656, 2) 81.14754098360656 58.19672131147541\n"
          ]
        }
      ]
    },
    {
      "cell_type": "code",
      "source": [
        "models = ['Regresja Logistyczna', 'SVM','Drzewo decyzyjne', 'Las Losowy', 'Gradient Boosting', 'K-najbliżsi sąsiedzi']\n",
        "\n",
        "accuracy_score_list =[81.14754098360656, 77.87, 81.15, 81.14754098360656,  81.14754098360656, 58.19672131147541 ]\n",
        "\n",
        "\n",
        "plt.figure(figsize=(15,10))\n",
        "sns.barplot(x=models, y=accuracy_score_list)\n",
        "plt.xlabel('Modele Klasyfikacji')\n",
        "plt.ylabel('Accuracy Score')\n",
        "plt.show()"
      ],
      "metadata": {
        "colab": {
          "base_uri": "https://localhost:8080/",
          "height": 564
        },
        "id": "6OafKqNUfdtm",
        "outputId": "de82059d-80e4-4cb1-b0cc-13b3b584eae0"
      },
      "execution_count": 211,
      "outputs": [
        {
          "output_type": "display_data",
          "data": {
            "text/plain": [
              "<Figure size 1080x720 with 1 Axes>"
            ],
            "image/png": "[encoded data removed]"
          },
          "metadata": {
            "needs_background": "light"
          }
        }
      ]
    },
    {
      "cell_type": "markdown",
      "source": [
        "**Komentarz:**\n",
        "\n",
        "Najlepszy model do oceny zdarzenia śmierci u pacjentów, to las losowy, co pokrywa się z wynikami publikacji"
      ],
      "metadata": {
        "id": "adDBvOVnsFTM"
      }
    },
    {
      "cell_type": "markdown",
      "source": [
        "**Implementacja sieci neuronowej**"
      ],
      "metadata": {
        "id": "BpaaV2g8iZS-"
      }
    },
    {
      "cell_type": "markdown",
      "source": [
        "została stworzona sztuczna sieć neuronowa, która ma na celu ocenić, które z przetestowanych modeli nadają się najlepiej do oceny prawdopobieństwa zdarzenia śmierci. "
      ],
      "metadata": {
        "id": "RYyxIBinqqBn"
      }
    },
    {
      "cell_type": "code",
      "source": [
        "model = Sequential()\n",
        "model.add(Dense(11,activation='relu',input_dim=12))\n",
        "model.add(Dense(1,activation='sigmoid'))\n",
        "\n",
        "model.compile(loss='binary_crossentropy',optimizer='adam',metrics=['accuracy'])\n"
      ],
      "metadata": {
        "id": "cLs2QFTvidjT"
      },
      "execution_count": 134,
      "outputs": []
    },
    {
      "cell_type": "code",
      "source": [
        "model.fit(X_train, y_train, epochs=150)"
      ],
      "metadata": {
        "colab": {
          "base_uri": "https://localhost:8080/"
        },
        "id": "GO2Qwv0Gv2G9",
        "outputId": "137ea9b8-71a1-4a0b-b915-be64d345c1b4"
      },
      "execution_count": 137,
      "outputs": [
        {
          "output_type": "stream",
          "name": "stdout",
          "text": [
            "Epoch 1/150\n",
            "9/9 [==============================] - 0s 4ms/step - loss: 59.1355 - accuracy: 0.5528\n",
            "Epoch 2/150\n",
            "9/9 [==============================] - 0s 3ms/step - loss: 38.4601 - accuracy: 0.5634\n",
            "Epoch 3/150\n",
            "9/9 [==============================] - 0s 4ms/step - loss: 17.1286 - accuracy: 0.6479\n",
            "Epoch 4/150\n",
            "9/9 [==============================] - 0s 3ms/step - loss: 13.1248 - accuracy: 0.6866\n",
            "Epoch 5/150\n",
            "9/9 [==============================] - 0s 4ms/step - loss: 17.2595 - accuracy: 0.6585\n",
            "Epoch 6/150\n",
            "9/9 [==============================] - 0s 4ms/step - loss: 24.1046 - accuracy: 0.6232\n",
            "Epoch 7/150\n",
            "9/9 [==============================] - 0s 3ms/step - loss: 48.6690 - accuracy: 0.5176\n",
            "Epoch 8/150\n",
            "9/9 [==============================] - 0s 3ms/step - loss: 16.7625 - accuracy: 0.6690\n",
            "Epoch 9/150\n",
            "9/9 [==============================] - 0s 3ms/step - loss: 33.1039 - accuracy: 0.5775\n",
            "Epoch 10/150\n",
            "9/9 [==============================] - 0s 3ms/step - loss: 16.1224 - accuracy: 0.6831\n",
            "Epoch 11/150\n",
            "9/9 [==============================] - 0s 4ms/step - loss: 9.9714 - accuracy: 0.7113\n",
            "Epoch 12/150\n",
            "9/9 [==============================] - 0s 3ms/step - loss: 22.5499 - accuracy: 0.6056\n",
            "Epoch 13/150\n",
            "9/9 [==============================] - 0s 3ms/step - loss: 25.2394 - accuracy: 0.6162\n",
            "Epoch 14/150\n",
            "9/9 [==============================] - 0s 3ms/step - loss: 29.5224 - accuracy: 0.5845\n",
            "Epoch 15/150\n",
            "9/9 [==============================] - 0s 3ms/step - loss: 37.3293 - accuracy: 0.5915\n",
            "Epoch 16/150\n",
            "9/9 [==============================] - 0s 3ms/step - loss: 31.9763 - accuracy: 0.6092\n",
            "Epoch 17/150\n",
            "9/9 [==============================] - 0s 5ms/step - loss: 17.1171 - accuracy: 0.6479\n",
            "Epoch 18/150\n",
            "9/9 [==============================] - 0s 3ms/step - loss: 15.0306 - accuracy: 0.6620\n",
            "Epoch 19/150\n",
            "9/9 [==============================] - 0s 3ms/step - loss: 9.9462 - accuracy: 0.7007\n",
            "Epoch 20/150\n",
            "9/9 [==============================] - 0s 3ms/step - loss: 12.8958 - accuracy: 0.6972\n",
            "Epoch 21/150\n",
            "9/9 [==============================] - 0s 3ms/step - loss: 15.4549 - accuracy: 0.6866\n",
            "Epoch 22/150\n",
            "9/9 [==============================] - 0s 3ms/step - loss: 10.0335 - accuracy: 0.7324\n",
            "Epoch 23/150\n",
            "9/9 [==============================] - 0s 4ms/step - loss: 12.8166 - accuracy: 0.6831\n",
            "Epoch 24/150\n",
            "9/9 [==============================] - 0s 4ms/step - loss: 13.4280 - accuracy: 0.6901\n",
            "Epoch 25/150\n",
            "9/9 [==============================] - 0s 4ms/step - loss: 17.4120 - accuracy: 0.6725\n",
            "Epoch 26/150\n",
            "9/9 [==============================] - 0s 3ms/step - loss: 11.1625 - accuracy: 0.7148\n",
            "Epoch 27/150\n",
            "9/9 [==============================] - 0s 3ms/step - loss: 19.7895 - accuracy: 0.6514\n",
            "Epoch 28/150\n",
            "9/9 [==============================] - 0s 3ms/step - loss: 10.2990 - accuracy: 0.7289\n",
            "Epoch 29/150\n",
            "9/9 [==============================] - 0s 4ms/step - loss: 9.5639 - accuracy: 0.7324\n",
            "Epoch 30/150\n",
            "9/9 [==============================] - 0s 3ms/step - loss: 14.8999 - accuracy: 0.6479\n",
            "Epoch 31/150\n",
            "9/9 [==============================] - 0s 3ms/step - loss: 26.8467 - accuracy: 0.6162\n",
            "Epoch 32/150\n",
            "9/9 [==============================] - 0s 2ms/step - loss: 47.7684 - accuracy: 0.5634\n",
            "Epoch 33/150\n",
            "9/9 [==============================] - 0s 2ms/step - loss: 35.6584 - accuracy: 0.5810\n",
            "Epoch 34/150\n",
            "9/9 [==============================] - 0s 2ms/step - loss: 24.8014 - accuracy: 0.5951\n",
            "Epoch 35/150\n",
            "9/9 [==============================] - 0s 2ms/step - loss: 18.5327 - accuracy: 0.6831\n",
            "Epoch 36/150\n",
            "9/9 [==============================] - 0s 2ms/step - loss: 33.5592 - accuracy: 0.5986\n",
            "Epoch 37/150\n",
            "9/9 [==============================] - 0s 2ms/step - loss: 47.8100 - accuracy: 0.5563\n",
            "Epoch 38/150\n",
            "9/9 [==============================] - 0s 2ms/step - loss: 28.5393 - accuracy: 0.6021\n",
            "Epoch 39/150\n",
            "9/9 [==============================] - 0s 2ms/step - loss: 53.0907 - accuracy: 0.5669\n",
            "Epoch 40/150\n",
            "9/9 [==============================] - 0s 2ms/step - loss: 32.1826 - accuracy: 0.6232\n",
            "Epoch 41/150\n",
            "9/9 [==============================] - 0s 2ms/step - loss: 24.9343 - accuracy: 0.5739\n",
            "Epoch 42/150\n",
            "9/9 [==============================] - 0s 2ms/step - loss: 19.7422 - accuracy: 0.6655\n",
            "Epoch 43/150\n",
            "9/9 [==============================] - 0s 3ms/step - loss: 13.5178 - accuracy: 0.6937\n",
            "Epoch 44/150\n",
            "9/9 [==============================] - 0s 2ms/step - loss: 8.1816 - accuracy: 0.7359\n",
            "Epoch 45/150\n",
            "9/9 [==============================] - 0s 3ms/step - loss: 19.1911 - accuracy: 0.6549\n",
            "Epoch 46/150\n",
            "9/9 [==============================] - 0s 2ms/step - loss: 16.7609 - accuracy: 0.6479\n",
            "Epoch 47/150\n",
            "9/9 [==============================] - 0s 3ms/step - loss: 14.1765 - accuracy: 0.6972\n",
            "Epoch 48/150\n",
            "9/9 [==============================] - 0s 2ms/step - loss: 17.9517 - accuracy: 0.6655\n",
            "Epoch 49/150\n",
            "9/9 [==============================] - 0s 2ms/step - loss: 11.0260 - accuracy: 0.7218\n",
            "Epoch 50/150\n",
            "9/9 [==============================] - 0s 3ms/step - loss: 10.9196 - accuracy: 0.7042\n",
            "Epoch 51/150\n",
            "9/9 [==============================] - 0s 2ms/step - loss: 13.4532 - accuracy: 0.6901\n",
            "Epoch 52/150\n",
            "9/9 [==============================] - 0s 2ms/step - loss: 14.3287 - accuracy: 0.7007\n",
            "Epoch 53/150\n",
            "9/9 [==============================] - 0s 2ms/step - loss: 14.5474 - accuracy: 0.7007\n",
            "Epoch 54/150\n",
            "9/9 [==============================] - 0s 2ms/step - loss: 10.3684 - accuracy: 0.7007\n",
            "Epoch 55/150\n",
            "9/9 [==============================] - 0s 2ms/step - loss: 19.7036 - accuracy: 0.6620\n",
            "Epoch 56/150\n",
            "9/9 [==============================] - 0s 2ms/step - loss: 27.8233 - accuracy: 0.5915\n",
            "Epoch 57/150\n",
            "9/9 [==============================] - 0s 2ms/step - loss: 38.7334 - accuracy: 0.5317\n",
            "Epoch 58/150\n",
            "9/9 [==============================] - 0s 2ms/step - loss: 20.2704 - accuracy: 0.6338\n",
            "Epoch 59/150\n",
            "9/9 [==============================] - 0s 2ms/step - loss: 29.7950 - accuracy: 0.6092\n",
            "Epoch 60/150\n",
            "9/9 [==============================] - 0s 2ms/step - loss: 54.3416 - accuracy: 0.5599\n",
            "Epoch 61/150\n",
            "9/9 [==============================] - 0s 3ms/step - loss: 34.2257 - accuracy: 0.6232\n",
            "Epoch 62/150\n",
            "9/9 [==============================] - 0s 2ms/step - loss: 23.2586 - accuracy: 0.5775\n",
            "Epoch 63/150\n",
            "9/9 [==============================] - 0s 2ms/step - loss: 17.2861 - accuracy: 0.6620\n",
            "Epoch 64/150\n",
            "9/9 [==============================] - 0s 3ms/step - loss: 17.1229 - accuracy: 0.6620\n",
            "Epoch 65/150\n",
            "9/9 [==============================] - 0s 2ms/step - loss: 42.2664 - accuracy: 0.5739\n",
            "Epoch 66/150\n",
            "9/9 [==============================] - 0s 3ms/step - loss: 49.6732 - accuracy: 0.5423\n",
            "Epoch 67/150\n",
            "9/9 [==============================] - 0s 2ms/step - loss: 33.7802 - accuracy: 0.5880\n",
            "Epoch 68/150\n",
            "9/9 [==============================] - 0s 2ms/step - loss: 42.4164 - accuracy: 0.5704\n",
            "Epoch 69/150\n",
            "9/9 [==============================] - 0s 2ms/step - loss: 15.3406 - accuracy: 0.6866\n",
            "Epoch 70/150\n",
            "9/9 [==============================] - 0s 2ms/step - loss: 8.8341 - accuracy: 0.7324\n",
            "Epoch 71/150\n",
            "9/9 [==============================] - 0s 2ms/step - loss: 14.8368 - accuracy: 0.6972\n",
            "Epoch 72/150\n",
            "9/9 [==============================] - 0s 2ms/step - loss: 26.9675 - accuracy: 0.6021\n",
            "Epoch 73/150\n",
            "9/9 [==============================] - 0s 2ms/step - loss: 26.2842 - accuracy: 0.6268\n",
            "Epoch 74/150\n",
            "9/9 [==============================] - 0s 3ms/step - loss: 17.6796 - accuracy: 0.6655\n",
            "Epoch 75/150\n",
            "9/9 [==============================] - 0s 2ms/step - loss: 29.0664 - accuracy: 0.6127\n",
            "Epoch 76/150\n",
            "9/9 [==============================] - 0s 2ms/step - loss: 16.6490 - accuracy: 0.6761\n",
            "Epoch 77/150\n",
            "9/9 [==============================] - 0s 2ms/step - loss: 14.6918 - accuracy: 0.6585\n",
            "Epoch 78/150\n",
            "9/9 [==============================] - 0s 2ms/step - loss: 32.7813 - accuracy: 0.5915\n",
            "Epoch 79/150\n",
            "9/9 [==============================] - 0s 3ms/step - loss: 18.8905 - accuracy: 0.6585\n",
            "Epoch 80/150\n",
            "9/9 [==============================] - 0s 3ms/step - loss: 10.9567 - accuracy: 0.6972\n",
            "Epoch 81/150\n",
            "9/9 [==============================] - 0s 2ms/step - loss: 8.8302 - accuracy: 0.7430\n",
            "Epoch 82/150\n",
            "9/9 [==============================] - 0s 2ms/step - loss: 8.3668 - accuracy: 0.7359\n",
            "Epoch 83/150\n",
            "9/9 [==============================] - 0s 2ms/step - loss: 20.6047 - accuracy: 0.6549\n",
            "Epoch 84/150\n",
            "9/9 [==============================] - 0s 2ms/step - loss: 46.7496 - accuracy: 0.5458\n",
            "Epoch 85/150\n",
            "9/9 [==============================] - 0s 3ms/step - loss: 35.8348 - accuracy: 0.5563\n",
            "Epoch 86/150\n",
            "9/9 [==============================] - 0s 2ms/step - loss: 55.1628 - accuracy: 0.5246\n",
            "Epoch 87/150\n",
            "9/9 [==============================] - 0s 2ms/step - loss: 23.2631 - accuracy: 0.6620\n",
            "Epoch 88/150\n",
            "9/9 [==============================] - 0s 2ms/step - loss: 19.8609 - accuracy: 0.6444\n",
            "Epoch 89/150\n",
            "9/9 [==============================] - 0s 2ms/step - loss: 14.4864 - accuracy: 0.7218\n",
            "Epoch 90/150\n",
            "9/9 [==============================] - 0s 2ms/step - loss: 18.8762 - accuracy: 0.6585\n",
            "Epoch 91/150\n",
            "9/9 [==============================] - 0s 2ms/step - loss: 40.7530 - accuracy: 0.5845\n",
            "Epoch 92/150\n",
            "9/9 [==============================] - 0s 3ms/step - loss: 29.0549 - accuracy: 0.6056\n",
            "Epoch 93/150\n",
            "9/9 [==============================] - 0s 2ms/step - loss: 8.6471 - accuracy: 0.7254\n",
            "Epoch 94/150\n",
            "9/9 [==============================] - 0s 2ms/step - loss: 15.4942 - accuracy: 0.6585\n",
            "Epoch 95/150\n",
            "9/9 [==============================] - 0s 2ms/step - loss: 25.5375 - accuracy: 0.6197\n",
            "Epoch 96/150\n",
            "9/9 [==============================] - 0s 2ms/step - loss: 32.8003 - accuracy: 0.5880\n",
            "Epoch 97/150\n",
            "9/9 [==============================] - 0s 2ms/step - loss: 22.3678 - accuracy: 0.6197\n",
            "Epoch 98/150\n",
            "9/9 [==============================] - 0s 2ms/step - loss: 31.5714 - accuracy: 0.6303\n",
            "Epoch 99/150\n",
            "9/9 [==============================] - 0s 3ms/step - loss: 54.3109 - accuracy: 0.5493\n",
            "Epoch 100/150\n",
            "9/9 [==============================] - 0s 3ms/step - loss: 17.7770 - accuracy: 0.6655\n",
            "Epoch 101/150\n",
            "9/9 [==============================] - 0s 2ms/step - loss: 19.2095 - accuracy: 0.6620\n",
            "Epoch 102/150\n",
            "9/9 [==============================] - 0s 2ms/step - loss: 21.9286 - accuracy: 0.6514\n",
            "Epoch 103/150\n",
            "9/9 [==============================] - 0s 2ms/step - loss: 18.2091 - accuracy: 0.6408\n",
            "Epoch 104/150\n",
            "9/9 [==============================] - 0s 2ms/step - loss: 45.2354 - accuracy: 0.5915\n",
            "Epoch 105/150\n",
            "9/9 [==============================] - 0s 2ms/step - loss: 68.3530 - accuracy: 0.5739\n",
            "Epoch 106/150\n",
            "9/9 [==============================] - 0s 2ms/step - loss: 56.4572 - accuracy: 0.5915\n",
            "Epoch 107/150\n",
            "9/9 [==============================] - 0s 2ms/step - loss: 55.1914 - accuracy: 0.5282\n",
            "Epoch 108/150\n",
            "9/9 [==============================] - 0s 2ms/step - loss: 23.7199 - accuracy: 0.6514\n",
            "Epoch 109/150\n",
            "9/9 [==============================] - 0s 2ms/step - loss: 31.7286 - accuracy: 0.5810\n",
            "Epoch 110/150\n",
            "9/9 [==============================] - 0s 2ms/step - loss: 22.8133 - accuracy: 0.6549\n",
            "Epoch 111/150\n",
            "9/9 [==============================] - 0s 2ms/step - loss: 11.3299 - accuracy: 0.6831\n",
            "Epoch 112/150\n",
            "9/9 [==============================] - 0s 2ms/step - loss: 18.3296 - accuracy: 0.6690\n",
            "Epoch 113/150\n",
            "9/9 [==============================] - 0s 3ms/step - loss: 18.2587 - accuracy: 0.6796\n",
            "Epoch 114/150\n",
            "9/9 [==============================] - 0s 3ms/step - loss: 27.3820 - accuracy: 0.6021\n",
            "Epoch 115/150\n",
            "9/9 [==============================] - 0s 4ms/step - loss: 25.3634 - accuracy: 0.6303\n",
            "Epoch 116/150\n",
            "9/9 [==============================] - 0s 2ms/step - loss: 29.8790 - accuracy: 0.5634\n",
            "Epoch 117/150\n",
            "9/9 [==============================] - 0s 2ms/step - loss: 19.6405 - accuracy: 0.6585\n",
            "Epoch 118/150\n",
            "9/9 [==============================] - 0s 3ms/step - loss: 40.8222 - accuracy: 0.6021\n",
            "Epoch 119/150\n",
            "9/9 [==============================] - 0s 2ms/step - loss: 30.4479 - accuracy: 0.6021\n",
            "Epoch 120/150\n",
            "9/9 [==============================] - 0s 3ms/step - loss: 28.9283 - accuracy: 0.6162\n",
            "Epoch 121/150\n",
            "9/9 [==============================] - 0s 2ms/step - loss: 23.0601 - accuracy: 0.6549\n",
            "Epoch 122/150\n",
            "9/9 [==============================] - 0s 2ms/step - loss: 29.6158 - accuracy: 0.6162\n",
            "Epoch 123/150\n",
            "9/9 [==============================] - 0s 2ms/step - loss: 25.3899 - accuracy: 0.6408\n",
            "Epoch 124/150\n",
            "9/9 [==============================] - 0s 4ms/step - loss: 40.3473 - accuracy: 0.5775\n",
            "Epoch 125/150\n",
            "9/9 [==============================] - 0s 3ms/step - loss: 33.5566 - accuracy: 0.6197\n",
            "Epoch 126/150\n",
            "9/9 [==============================] - 0s 3ms/step - loss: 51.8868 - accuracy: 0.4930\n",
            "Epoch 127/150\n",
            "9/9 [==============================] - 0s 2ms/step - loss: 42.7842 - accuracy: 0.5880\n",
            "Epoch 128/150\n",
            "9/9 [==============================] - 0s 2ms/step - loss: 13.5437 - accuracy: 0.7042\n",
            "Epoch 129/150\n",
            "9/9 [==============================] - 0s 2ms/step - loss: 9.9065 - accuracy: 0.7042\n",
            "Epoch 130/150\n",
            "9/9 [==============================] - 0s 2ms/step - loss: 10.9938 - accuracy: 0.7254\n",
            "Epoch 131/150\n",
            "9/9 [==============================] - 0s 3ms/step - loss: 9.1949 - accuracy: 0.7254\n",
            "Epoch 132/150\n",
            "9/9 [==============================] - 0s 2ms/step - loss: 9.4203 - accuracy: 0.7324\n",
            "Epoch 133/150\n",
            "9/9 [==============================] - 0s 2ms/step - loss: 10.3073 - accuracy: 0.7289\n",
            "Epoch 134/150\n",
            "9/9 [==============================] - 0s 2ms/step - loss: 13.4905 - accuracy: 0.7007\n",
            "Epoch 135/150\n",
            "9/9 [==============================] - 0s 2ms/step - loss: 21.5263 - accuracy: 0.6690\n",
            "Epoch 136/150\n",
            "9/9 [==============================] - 0s 3ms/step - loss: 13.7471 - accuracy: 0.6655\n",
            "Epoch 137/150\n",
            "9/9 [==============================] - 0s 2ms/step - loss: 14.1044 - accuracy: 0.6655\n",
            "Epoch 138/150\n",
            "9/9 [==============================] - 0s 2ms/step - loss: 16.3553 - accuracy: 0.6690\n",
            "Epoch 139/150\n",
            "9/9 [==============================] - 0s 2ms/step - loss: 22.0956 - accuracy: 0.6373\n",
            "Epoch 140/150\n",
            "9/9 [==============================] - 0s 2ms/step - loss: 18.2854 - accuracy: 0.6725\n",
            "Epoch 141/150\n",
            "9/9 [==============================] - 0s 2ms/step - loss: 14.4364 - accuracy: 0.6972\n",
            "Epoch 142/150\n",
            "9/9 [==============================] - 0s 2ms/step - loss: 21.8500 - accuracy: 0.6303\n",
            "Epoch 143/150\n",
            "9/9 [==============================] - 0s 2ms/step - loss: 11.1268 - accuracy: 0.7113\n",
            "Epoch 144/150\n",
            "9/9 [==============================] - 0s 2ms/step - loss: 9.5524 - accuracy: 0.7289\n",
            "Epoch 145/150\n",
            "9/9 [==============================] - 0s 3ms/step - loss: 9.0064 - accuracy: 0.7430\n",
            "Epoch 146/150\n",
            "9/9 [==============================] - 0s 2ms/step - loss: 9.0656 - accuracy: 0.7359\n",
            "Epoch 147/150\n",
            "9/9 [==============================] - 0s 2ms/step - loss: 19.4148 - accuracy: 0.6655\n",
            "Epoch 148/150\n",
            "9/9 [==============================] - 0s 2ms/step - loss: 28.4541 - accuracy: 0.6303\n",
            "Epoch 149/150\n",
            "9/9 [==============================] - 0s 3ms/step - loss: 25.2942 - accuracy: 0.6197\n",
            "Epoch 150/150\n",
            "9/9 [==============================] - 0s 2ms/step - loss: 10.7371 - accuracy: 0.7430\n"
          ]
        },
        {
          "output_type": "execute_result",
          "data": {
            "text/plain": [
              "<keras.callbacks.History at 0x7f71c4f1ddc0>"
            ]
          },
          "metadata": {},
          "execution_count": 137
        }
      ]
    },
    {
      "cell_type": "code",
      "source": [
        "y_pred_nn = model.predict(X_test)"
      ],
      "metadata": {
        "colab": {
          "base_uri": "https://localhost:8080/"
        },
        "id": "vLwvs7tgx0ku",
        "outputId": "86e72e74-611e-462e-ff20-64df8325cdb1"
      },
      "execution_count": 152,
      "outputs": [
        {
          "output_type": "stream",
          "name": "stdout",
          "text": [
            "4/4 [==============================] - 0s 3ms/step\n"
          ]
        }
      ]
    },
    {
      "cell_type": "code",
      "source": [
        "y_pred_nn.shape"
      ],
      "metadata": {
        "colab": {
          "base_uri": "https://localhost:8080/"
        },
        "id": "SsuakaNUyCXh",
        "outputId": "367a6c04-01c3-48f3-c126-4081c43573c1"
      },
      "execution_count": 153,
      "outputs": [
        {
          "output_type": "execute_result",
          "data": {
            "text/plain": [
              "(122, 1)"
            ]
          },
          "metadata": {},
          "execution_count": 153
        }
      ]
    },
    {
      "cell_type": "code",
      "source": [
        "rounded = [round(x[0]) for x in y_pred_nn]\n",
        "\n",
        "y_pred_nn = rounded"
      ],
      "metadata": {
        "id": "tTq3ddwTyGas"
      },
      "execution_count": 154,
      "outputs": []
    },
    {
      "cell_type": "code",
      "source": [
        "score_nn = round(accuracy_score(y_pred_nn,y_test)*100,2)\n",
        "\n",
        "print(\"The accuracy score achieved using Neural Network is: \"+str(score_nn)+\" %\")"
      ],
      "metadata": {
        "colab": {
          "base_uri": "https://localhost:8080/"
        },
        "id": "V51ojk0hy4YA",
        "outputId": "f93f9e60-0427-4239-ec91-3602521f76ce"
      },
      "execution_count": 156,
      "outputs": [
        {
          "output_type": "stream",
          "name": "stdout",
          "text": [
            "The accuracy score achieved using Neural Network is: 71.31 %\n"
          ]
        }
      ]
    },
    {
      "cell_type": "markdown",
      "source": [
        "**Ostateczna ocena zastosowanych modeli**"
      ],
      "metadata": {
        "id": "wwOMlIeYzLR0"
      }
    },
    {
      "cell_type": "code",
      "source": [
        "models = ['Regresja Logistyczna', 'SVM','Drzewo decyzyjne', 'Las Losowy', 'Gradient Boosting', 'K-najbliżsi sąsiedzi','Neuronal NEtwork']\n",
        "\n",
        "accuracy_score_list =[81.14754098360656, 77.87, 81.15, 81.14754098360656,  81.14754098360656, 58.19672131147541, 71.31 ]\n",
        "\n",
        "\n",
        "plt.figure(figsize=(15,10))\n",
        "sns.barplot(x=models, y=accuracy_score_list)\n",
        "plt.xlabel('Modele Klasyfikacji')\n",
        "plt.ylabel('Accuracy Score')\n",
        "plt.show()"
      ],
      "metadata": {
        "colab": {
          "base_uri": "https://localhost:8080/",
          "height": 564
        },
        "id": "VstgeoKlzHkc",
        "outputId": "6e3e55ad-c8cd-4153-9b4d-b58f7bf049ea"
      },
      "execution_count": 220,
      "outputs": [
        {
          "output_type": "display_data",
          "data": {
            "text/plain": [
              "<Figure size 1080x720 with 1 Axes>"
            ],
            "image/png": "[encoded data removed]"
          },
          "metadata": {
            "needs_background": "light"
          }
        }
      ]
    }
  ]
}